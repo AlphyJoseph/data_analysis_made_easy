{
 "cells": [
  {
   "cell_type": "markdown",
   "metadata": {},
   "source": [
    "#Data Analysis made easy"
   ]
  },
  {
   "cell_type": "code",
   "execution_count": 1,
   "metadata": {
    "collapsed": true
   },
   "outputs": [],
   "source": [
    "import numpy as np\n",
    "import pandas as pd\n",
    "import matplotlib.pyplot as plt\n",
    "%matplotlib inline"
   ]
  },
  {
   "cell_type": "markdown",
   "metadata": {},
   "source": [
    "###Reading data using read_html"
   ]
  },
  {
   "cell_type": "markdown",
   "metadata": {},
   "source": [
    "####read_html will be handy when you want to extract the table data from html page. read_html will result a list containing one dataframe for each table in the html page"
   ]
  },
  {
   "cell_type": "code",
   "execution_count": 2,
   "metadata": {
    "collapsed": true
   },
   "outputs": [],
   "source": [
    "auto_sales_url = \"http://www.siamindia.com/statistics.aspx?mpgid=8&pgidtrail=14\"\n",
    "table_list = pd.read_html(auto_sales_url,header=0)\n",
    "auto_sales_df = table_list[0]"
   ]
  },
  {
   "cell_type": "code",
   "execution_count": 3,
   "metadata": {
    "collapsed": false
   },
   "outputs": [
    {
     "data": {
      "text/html": [
       "<div>\n",
       "<table border=\"1\" class=\"dataframe\">\n",
       "  <thead>\n",
       "    <tr style=\"text-align: right;\">\n",
       "      <th></th>\n",
       "      <th>Category</th>\n",
       "      <th>2009-10</th>\n",
       "      <th>2010-11</th>\n",
       "      <th>2011-12</th>\n",
       "      <th>2012-13</th>\n",
       "      <th>2013-14</th>\n",
       "      <th>2014-15</th>\n",
       "    </tr>\n",
       "  </thead>\n",
       "  <tbody>\n",
       "    <tr>\n",
       "      <th>0</th>\n",
       "      <td>Passenger Vehicles</td>\n",
       "      <td>1951333</td>\n",
       "      <td>2501542</td>\n",
       "      <td>2629839</td>\n",
       "      <td>2665015</td>\n",
       "      <td>2503509</td>\n",
       "      <td>2601111</td>\n",
       "    </tr>\n",
       "    <tr>\n",
       "      <th>1</th>\n",
       "      <td>Commercial Vehicles</td>\n",
       "      <td>532721</td>\n",
       "      <td>684905</td>\n",
       "      <td>809499</td>\n",
       "      <td>793211</td>\n",
       "      <td>632851</td>\n",
       "      <td>614961</td>\n",
       "    </tr>\n",
       "    <tr>\n",
       "      <th>2</th>\n",
       "      <td>Three Wheelers</td>\n",
       "      <td>440392</td>\n",
       "      <td>526024</td>\n",
       "      <td>513281</td>\n",
       "      <td>538290</td>\n",
       "      <td>480085</td>\n",
       "      <td>531927</td>\n",
       "    </tr>\n",
       "    <tr>\n",
       "      <th>3</th>\n",
       "      <td>Two Wheelers</td>\n",
       "      <td>9370951</td>\n",
       "      <td>11768910</td>\n",
       "      <td>13409150</td>\n",
       "      <td>13797185</td>\n",
       "      <td>14806778</td>\n",
       "      <td>16004581</td>\n",
       "    </tr>\n",
       "    <tr>\n",
       "      <th>4</th>\n",
       "      <td>Grand Total</td>\n",
       "      <td>12295397</td>\n",
       "      <td>15481381</td>\n",
       "      <td>17361769</td>\n",
       "      <td>17793701</td>\n",
       "      <td>18423223</td>\n",
       "      <td>19752580</td>\n",
       "    </tr>\n",
       "  </tbody>\n",
       "</table>\n",
       "</div>"
      ],
      "text/plain": [
       "              Category   2009-10   2010-11   2011-12   2012-13   2013-14  \\\n",
       "0   Passenger Vehicles   1951333   2501542   2629839   2665015   2503509   \n",
       "1  Commercial Vehicles    532721    684905    809499    793211    632851   \n",
       "2       Three Wheelers    440392    526024    513281    538290    480085   \n",
       "3         Two Wheelers   9370951  11768910  13409150  13797185  14806778   \n",
       "4          Grand Total  12295397  15481381  17361769  17793701  18423223   \n",
       "\n",
       "    2014-15  \n",
       "0   2601111  \n",
       "1    614961  \n",
       "2    531927  \n",
       "3  16004581  \n",
       "4  19752580  "
      ]
     },
     "execution_count": 3,
     "metadata": {},
     "output_type": "execute_result"
    }
   ],
   "source": [
    "auto_sales_df.head()"
   ]
  },
  {
   "cell_type": "code",
   "execution_count": 4,
   "metadata": {
    "collapsed": false
   },
   "outputs": [],
   "source": [
    "auto_sales_df = auto_sales_df.set_index(\"Category\")"
   ]
  },
  {
   "cell_type": "code",
   "execution_count": 5,
   "metadata": {
    "collapsed": false
   },
   "outputs": [
    {
     "data": {
      "text/html": [
       "<div>\n",
       "<table border=\"1\" class=\"dataframe\">\n",
       "  <thead>\n",
       "    <tr style=\"text-align: right;\">\n",
       "      <th></th>\n",
       "      <th>2009-10</th>\n",
       "      <th>2010-11</th>\n",
       "      <th>2011-12</th>\n",
       "      <th>2012-13</th>\n",
       "      <th>2013-14</th>\n",
       "      <th>2014-15</th>\n",
       "    </tr>\n",
       "    <tr>\n",
       "      <th>Category</th>\n",
       "      <th></th>\n",
       "      <th></th>\n",
       "      <th></th>\n",
       "      <th></th>\n",
       "      <th></th>\n",
       "      <th></th>\n",
       "    </tr>\n",
       "  </thead>\n",
       "  <tbody>\n",
       "    <tr>\n",
       "      <th>Passenger Vehicles</th>\n",
       "      <td>1951333</td>\n",
       "      <td>2501542</td>\n",
       "      <td>2629839</td>\n",
       "      <td>2665015</td>\n",
       "      <td>2503509</td>\n",
       "      <td>2601111</td>\n",
       "    </tr>\n",
       "    <tr>\n",
       "      <th>Commercial Vehicles</th>\n",
       "      <td>532721</td>\n",
       "      <td>684905</td>\n",
       "      <td>809499</td>\n",
       "      <td>793211</td>\n",
       "      <td>632851</td>\n",
       "      <td>614961</td>\n",
       "    </tr>\n",
       "    <tr>\n",
       "      <th>Three Wheelers</th>\n",
       "      <td>440392</td>\n",
       "      <td>526024</td>\n",
       "      <td>513281</td>\n",
       "      <td>538290</td>\n",
       "      <td>480085</td>\n",
       "      <td>531927</td>\n",
       "    </tr>\n",
       "    <tr>\n",
       "      <th>Two Wheelers</th>\n",
       "      <td>9370951</td>\n",
       "      <td>11768910</td>\n",
       "      <td>13409150</td>\n",
       "      <td>13797185</td>\n",
       "      <td>14806778</td>\n",
       "      <td>16004581</td>\n",
       "    </tr>\n",
       "    <tr>\n",
       "      <th>Grand Total</th>\n",
       "      <td>12295397</td>\n",
       "      <td>15481381</td>\n",
       "      <td>17361769</td>\n",
       "      <td>17793701</td>\n",
       "      <td>18423223</td>\n",
       "      <td>19752580</td>\n",
       "    </tr>\n",
       "  </tbody>\n",
       "</table>\n",
       "</div>"
      ],
      "text/plain": [
       "                      2009-10   2010-11   2011-12   2012-13   2013-14  \\\n",
       "Category                                                                \n",
       "Passenger Vehicles    1951333   2501542   2629839   2665015   2503509   \n",
       "Commercial Vehicles    532721    684905    809499    793211    632851   \n",
       "Three Wheelers         440392    526024    513281    538290    480085   \n",
       "Two Wheelers          9370951  11768910  13409150  13797185  14806778   \n",
       "Grand Total          12295397  15481381  17361769  17793701  18423223   \n",
       "\n",
       "                      2014-15  \n",
       "Category                       \n",
       "Passenger Vehicles    2601111  \n",
       "Commercial Vehicles    614961  \n",
       "Three Wheelers         531927  \n",
       "Two Wheelers         16004581  \n",
       "Grand Total          19752580  "
      ]
     },
     "execution_count": 5,
     "metadata": {},
     "output_type": "execute_result"
    }
   ],
   "source": [
    "auto_sales_df.head()"
   ]
  },
  {
   "cell_type": "code",
   "execution_count": 6,
   "metadata": {
    "collapsed": false
   },
   "outputs": [
    {
     "data": {
      "text/plain": [
       "Category\n",
       "Passenger Vehicles      1951333\n",
       "Commercial Vehicles      532721\n",
       "Three Wheelers           440392\n",
       "Two Wheelers            9370951\n",
       "Grand Total            12295397\n",
       "Name: 2009-10, dtype: int64"
      ]
     },
     "execution_count": 6,
     "metadata": {},
     "output_type": "execute_result"
    }
   ],
   "source": [
    "auto_sales_df[\"2009-10\"]"
   ]
  },
  {
   "cell_type": "code",
   "execution_count": 7,
   "metadata": {
    "collapsed": false
   },
   "outputs": [
    {
     "data": {
      "text/plain": [
       "(5, 6)"
      ]
     },
     "execution_count": 7,
     "metadata": {},
     "output_type": "execute_result"
    }
   ],
   "source": [
    "auto_sales_df.shape"
   ]
  },
  {
   "cell_type": "code",
   "execution_count": 10,
   "metadata": {
    "collapsed": false
   },
   "outputs": [
    {
     "data": {
      "text/plain": [
       "2009-10    1951333\n",
       "2010-11    2501542\n",
       "2011-12    2629839\n",
       "2012-13    2665015\n",
       "2013-14    2503509\n",
       "2014-15    2601111\n",
       "Name: Passenger Vehicles, dtype: int64"
      ]
     },
     "execution_count": 10,
     "metadata": {},
     "output_type": "execute_result"
    }
   ],
   "source": [
    "auto_sales_df.loc[\"Passenger Vehicles\"]"
   ]
  },
  {
   "cell_type": "code",
   "execution_count": 11,
   "metadata": {
    "collapsed": false
   },
   "outputs": [
    {
     "data": {
      "text/plain": [
       "2009-10    int64\n",
       "2010-11    int64\n",
       "2011-12    int64\n",
       "2012-13    int64\n",
       "2013-14    int64\n",
       "2014-15    int64\n",
       "dtype: object"
      ]
     },
     "execution_count": 11,
     "metadata": {},
     "output_type": "execute_result"
    }
   ],
   "source": [
    "auto_sales_df.dtypes"
   ]
  },
  {
   "cell_type": "code",
   "execution_count": 13,
   "metadata": {
    "collapsed": false
   },
   "outputs": [
    {
     "data": {
      "text/plain": [
       "Index([u'2009-10', u'2010-11', u'2011-12', u'2012-13', u'2013-14', u'2014-15'], dtype='object')"
      ]
     },
     "execution_count": 13,
     "metadata": {},
     "output_type": "execute_result"
    }
   ],
   "source": [
    "auto_sales_df.columns"
   ]
  },
  {
   "cell_type": "code",
   "execution_count": 14,
   "metadata": {
    "collapsed": false
   },
   "outputs": [
    {
     "data": {
      "text/plain": [
       "Index([ u'Passenger Vehicles', u'Commercial Vehicles',      u'Three Wheelers',\n",
       "              u'Two Wheelers',         u'Grand Total'],\n",
       "      dtype='object', name=u'Category')"
      ]
     },
     "execution_count": 14,
     "metadata": {},
     "output_type": "execute_result"
    }
   ],
   "source": [
    "auto_sales_df.index"
   ]
  },
  {
   "cell_type": "code",
   "execution_count": 15,
   "metadata": {
    "collapsed": false
   },
   "outputs": [
    {
     "data": {
      "image/png": "[encoded data removed]",
      "text/plain": [
       "<matplotlib.figure.Figure at 0x7fc778929050>"
      ]
     },
     "metadata": {},
     "output_type": "display_data"
    }
   ],
   "source": [
    "auto_sales_graph = auto_sales_df.T.plot(kind='barh',figsize=(14,6),title=\"Auto Sales\")"
   ]
  },
  {
   "cell_type": "markdown",
   "metadata": {},
   "source": [
    "###Reading data using read_clipboard"
   ]
  },
  {
   "cell_type": "markdown",
   "metadata": {},
   "source": [
    "####somtimes if you want to bring data copied in clip board into pandas dataframe, you can use read_clipboard"
   ]
  },
  {
   "cell_type": "raw",
   "metadata": {},
   "source": [
    "Fund\tRating\tCategory\tLaunch\tExpense\t1-Year(Return)\t1-Year(Rank)\tNet Assets(Cr)\n",
    "Birla Sun Life MNC Fund \tUnrated\tEQ-OTH  \tApr-1994\t2.43\t26.11\t0\t2704\n",
    "SBI Pharma Fund \tUnrated\tEQ-PH  \tJul-1999\t2.68\t20.74\t2/6\t862\n",
    "Escorts High Yield Equity Fund \tUnrated\tEQ-SC  \tDec-2006\t2.5\t19.58\t5/41\t3\n",
    "Motilal Oswal MOSt Focused Multicap 35 Fund - Regular Plan \tUnrated\tEQ-MLC  \tApr-2014\t2.35\t19.4\t2/187\t2914\n",
    "Motilal Oswal MOSt Focused Midcap 30 Fund - Regular Plan \tUnrated\tEQ-MC  \tFeb-2014\t2.63\t19.28\t2/78\t816\n",
    "DSP BlackRock Micro Cap Fund - Regular Plan \t4*\tEQ-SC  \tJun-2007\t2.41\t18.84\t6/41\t2191\n",
    "UTI MNC Fund \tUnrated\tEQ-OTH  \tAug-2005\t2.75\t18.31\t0\t1699\n",
    "Motilal Oswal MOSt Shares NASDAQ - 100 ETF Fund \tUnrated\tEQ-INTL  \tMar-2011\t1.06\t17.68\t0\t76\n",
    "SBI Magnum Midcap Fund \t4*\tEQ-SC  \tMar-2005\t2.54\t16.4\t8/41\t1258\n",
    "Reliance Pharma Fund \tUnrated\tEQ-PH  \tJun-2004\t2.5\t16.28\t4/6\t1580"
   ]
  },
  {
   "cell_type": "code",
   "execution_count": 16,
   "metadata": {
    "collapsed": false
   },
   "outputs": [
    {
     "data": {
      "text/html": [
       "<div>\n",
       "<table border=\"1\" class=\"dataframe\">\n",
       "  <thead>\n",
       "    <tr style=\"text-align: right;\">\n",
       "      <th></th>\n",
       "      <th>Fund</th>\n",
       "      <th>Rating</th>\n",
       "      <th>Category</th>\n",
       "      <th>Launch</th>\n",
       "      <th>Expense</th>\n",
       "      <th>1-Year(Return)</th>\n",
       "      <th>1-Year(Rank)</th>\n",
       "      <th>Net Assets(Cr)</th>\n",
       "    </tr>\n",
       "  </thead>\n",
       "  <tbody>\n",
       "    <tr>\n",
       "      <th>0</th>\n",
       "      <td>Birla Sun Life MNC Fund</td>\n",
       "      <td>Unrated</td>\n",
       "      <td>EQ-OTH</td>\n",
       "      <td>Apr-1994</td>\n",
       "      <td>2.43</td>\n",
       "      <td>26.11</td>\n",
       "      <td>0</td>\n",
       "      <td>2704</td>\n",
       "    </tr>\n",
       "    <tr>\n",
       "      <th>1</th>\n",
       "      <td>SBI Pharma Fund</td>\n",
       "      <td>Unrated</td>\n",
       "      <td>EQ-PH</td>\n",
       "      <td>Jul-1999</td>\n",
       "      <td>2.68</td>\n",
       "      <td>20.74</td>\n",
       "      <td>2/6</td>\n",
       "      <td>862</td>\n",
       "    </tr>\n",
       "    <tr>\n",
       "      <th>2</th>\n",
       "      <td>Escorts High Yield Equity Fund</td>\n",
       "      <td>Unrated</td>\n",
       "      <td>EQ-SC</td>\n",
       "      <td>Dec-2006</td>\n",
       "      <td>2.50</td>\n",
       "      <td>19.58</td>\n",
       "      <td>5/41</td>\n",
       "      <td>3</td>\n",
       "    </tr>\n",
       "    <tr>\n",
       "      <th>3</th>\n",
       "      <td>Motilal Oswal MOSt Focused Multicap 35 Fund - ...</td>\n",
       "      <td>Unrated</td>\n",
       "      <td>EQ-MLC</td>\n",
       "      <td>Apr-2014</td>\n",
       "      <td>2.35</td>\n",
       "      <td>19.40</td>\n",
       "      <td>2/187</td>\n",
       "      <td>2914</td>\n",
       "    </tr>\n",
       "    <tr>\n",
       "      <th>4</th>\n",
       "      <td>Motilal Oswal MOSt Focused Midcap 30 Fund - Re...</td>\n",
       "      <td>Unrated</td>\n",
       "      <td>EQ-MC</td>\n",
       "      <td>Feb-2014</td>\n",
       "      <td>2.63</td>\n",
       "      <td>19.28</td>\n",
       "      <td>2/78</td>\n",
       "      <td>816</td>\n",
       "    </tr>\n",
       "  </tbody>\n",
       "</table>\n",
       "</div>"
      ],
      "text/plain": [
       "                                                Fund   Rating  Category  \\\n",
       "0                           Birla Sun Life MNC Fund   Unrated  EQ-OTH     \n",
       "1                                   SBI Pharma Fund   Unrated   EQ-PH     \n",
       "2                    Escorts High Yield Equity Fund   Unrated   EQ-SC     \n",
       "3  Motilal Oswal MOSt Focused Multicap 35 Fund - ...  Unrated  EQ-MLC     \n",
       "4  Motilal Oswal MOSt Focused Midcap 30 Fund - Re...  Unrated   EQ-MC     \n",
       "\n",
       "     Launch  Expense  1-Year(Return) 1-Year(Rank)  Net Assets(Cr)  \n",
       "0  Apr-1994     2.43           26.11            0            2704  \n",
       "1  Jul-1999     2.68           20.74          2/6             862  \n",
       "2  Dec-2006     2.50           19.58         5/41               3  \n",
       "3  Apr-2014     2.35           19.40        2/187            2914  \n",
       "4  Feb-2014     2.63           19.28         2/78             816  "
      ]
     },
     "execution_count": 16,
     "metadata": {},
     "output_type": "execute_result"
    }
   ],
   "source": [
    "#parse_dates=[3]\n",
    "top10_funds_df = pd.read_clipboard()\n",
    "top10_funds_df.head()"
   ]
  },
  {
   "cell_type": "code",
   "execution_count": 17,
   "metadata": {
    "collapsed": false
   },
   "outputs": [
    {
     "data": {
      "text/plain": [
       "Fund               object\n",
       "Rating             object\n",
       "Category           object\n",
       "Launch             object\n",
       "Expense           float64\n",
       "1-Year(Return)    float64\n",
       "1-Year(Rank)       object\n",
       "Net Assets(Cr)      int64\n",
       "dtype: object"
      ]
     },
     "execution_count": 17,
     "metadata": {},
     "output_type": "execute_result"
    }
   ],
   "source": [
    "top10_funds_df.dtypes"
   ]
  },
  {
   "cell_type": "raw",
   "metadata": {},
   "source": [
    "a,b,c,d\n",
    "1,2,3,4\n",
    "5,6,7,8\n",
    "9,10,11,12"
   ]
  },
  {
   "cell_type": "code",
   "execution_count": 18,
   "metadata": {
    "collapsed": false
   },
   "outputs": [
    {
     "data": {
      "text/html": [
       "<div>\n",
       "<table border=\"1\" class=\"dataframe\">\n",
       "  <thead>\n",
       "    <tr style=\"text-align: right;\">\n",
       "      <th></th>\n",
       "      <th>a</th>\n",
       "      <th>b</th>\n",
       "      <th>c</th>\n",
       "      <th>d</th>\n",
       "    </tr>\n",
       "  </thead>\n",
       "  <tbody>\n",
       "    <tr>\n",
       "      <th>0</th>\n",
       "      <td>1</td>\n",
       "      <td>2</td>\n",
       "      <td>3</td>\n",
       "      <td>4</td>\n",
       "    </tr>\n",
       "    <tr>\n",
       "      <th>1</th>\n",
       "      <td>5</td>\n",
       "      <td>6</td>\n",
       "      <td>7</td>\n",
       "      <td>8</td>\n",
       "    </tr>\n",
       "    <tr>\n",
       "      <th>2</th>\n",
       "      <td>9</td>\n",
       "      <td>10</td>\n",
       "      <td>11</td>\n",
       "      <td>12</td>\n",
       "    </tr>\n",
       "  </tbody>\n",
       "</table>\n",
       "</div>"
      ],
      "text/plain": [
       "   a   b   c   d\n",
       "0  1   2   3   4\n",
       "1  5   6   7   8\n",
       "2  9  10  11  12"
      ]
     },
     "execution_count": 18,
     "metadata": {},
     "output_type": "execute_result"
    }
   ],
   "source": [
    "temp_df = pd.read_clipboard(sep=\",\")\n",
    "temp_df"
   ]
  },
  {
   "cell_type": "code",
   "execution_count": 29,
   "metadata": {
    "collapsed": false
   },
   "outputs": [],
   "source": [
    "column_names = ['Table Name','State Code','District Code','Area Name','Age',\n",
    "                    'Persons-Total','Males-Total','Females-Total',\n",
    "                    'Persons-Rural','Males-Rural','Females-Rural',\n",
    "                    'Persons-Urban','Males-Urban','Females-Urban']\n",
    "excel_df = pd.read_excel(\"DDW-0000C-13.xls\",skiprows=6, names = column_names)\n",
    "#excel_df.columns = column_names"
   ]
  },
  {
   "cell_type": "code",
   "execution_count": 30,
   "metadata": {
    "collapsed": false
   },
   "outputs": [
    {
     "data": {
      "text/html": [
       "<div>\n",
       "<table border=\"1\" class=\"dataframe\">\n",
       "  <thead>\n",
       "    <tr style=\"text-align: right;\">\n",
       "      <th></th>\n",
       "      <th>Table Name</th>\n",
       "      <th>State Code</th>\n",
       "      <th>District Code</th>\n",
       "      <th>Area Name</th>\n",
       "      <th>Age</th>\n",
       "      <th>Persons-Total</th>\n",
       "      <th>Males-Total</th>\n",
       "      <th>Females-Total</th>\n",
       "      <th>Persons-Rural</th>\n",
       "      <th>Males-Rural</th>\n",
       "      <th>Females-Rural</th>\n",
       "      <th>Persons-Urban</th>\n",
       "      <th>Males-Urban</th>\n",
       "      <th>Females-Urban</th>\n",
       "    </tr>\n",
       "  </thead>\n",
       "  <tbody>\n",
       "    <tr>\n",
       "      <th>0</th>\n",
       "      <td>C1300</td>\n",
       "      <td>0</td>\n",
       "      <td>0</td>\n",
       "      <td>India</td>\n",
       "      <td>All ages</td>\n",
       "      <td>1210854977</td>\n",
       "      <td>623270258</td>\n",
       "      <td>587584719</td>\n",
       "      <td>833748852</td>\n",
       "      <td>427781058</td>\n",
       "      <td>405967794</td>\n",
       "      <td>377106125</td>\n",
       "      <td>195489200</td>\n",
       "      <td>181616925</td>\n",
       "    </tr>\n",
       "    <tr>\n",
       "      <th>1</th>\n",
       "      <td>C1300</td>\n",
       "      <td>0</td>\n",
       "      <td>0</td>\n",
       "      <td>India</td>\n",
       "      <td>0</td>\n",
       "      <td>20311234</td>\n",
       "      <td>10633298</td>\n",
       "      <td>9677936</td>\n",
       "      <td>14884690</td>\n",
       "      <td>7784009</td>\n",
       "      <td>7100681</td>\n",
       "      <td>5426544</td>\n",
       "      <td>2849289</td>\n",
       "      <td>2577255</td>\n",
       "    </tr>\n",
       "    <tr>\n",
       "      <th>2</th>\n",
       "      <td>C1300</td>\n",
       "      <td>0</td>\n",
       "      <td>0</td>\n",
       "      <td>India</td>\n",
       "      <td>1</td>\n",
       "      <td>21755197</td>\n",
       "      <td>11381468</td>\n",
       "      <td>10373729</td>\n",
       "      <td>15731709</td>\n",
       "      <td>8216086</td>\n",
       "      <td>7515623</td>\n",
       "      <td>6023488</td>\n",
       "      <td>3165382</td>\n",
       "      <td>2858106</td>\n",
       "    </tr>\n",
       "    <tr>\n",
       "      <th>3</th>\n",
       "      <td>C1300</td>\n",
       "      <td>0</td>\n",
       "      <td>0</td>\n",
       "      <td>India</td>\n",
       "      <td>2</td>\n",
       "      <td>23056268</td>\n",
       "      <td>11952853</td>\n",
       "      <td>11103415</td>\n",
       "      <td>17065758</td>\n",
       "      <td>8827253</td>\n",
       "      <td>8238505</td>\n",
       "      <td>5990510</td>\n",
       "      <td>3125600</td>\n",
       "      <td>2864910</td>\n",
       "    </tr>\n",
       "    <tr>\n",
       "      <th>4</th>\n",
       "      <td>C1300</td>\n",
       "      <td>0</td>\n",
       "      <td>0</td>\n",
       "      <td>India</td>\n",
       "      <td>3</td>\n",
       "      <td>23974041</td>\n",
       "      <td>12331431</td>\n",
       "      <td>11642610</td>\n",
       "      <td>17778869</td>\n",
       "      <td>9116778</td>\n",
       "      <td>8662091</td>\n",
       "      <td>6195172</td>\n",
       "      <td>3214653</td>\n",
       "      <td>2980519</td>\n",
       "    </tr>\n",
       "  </tbody>\n",
       "</table>\n",
       "</div>"
      ],
      "text/plain": [
       "  Table Name  State Code  District Code Area Name       Age  Persons-Total  \\\n",
       "0      C1300           0              0     India  All ages     1210854977   \n",
       "1      C1300           0              0     India         0       20311234   \n",
       "2      C1300           0              0     India         1       21755197   \n",
       "3      C1300           0              0     India         2       23056268   \n",
       "4      C1300           0              0     India         3       23974041   \n",
       "\n",
       "   Males-Total  Females-Total  Persons-Rural  Males-Rural  Females-Rural  \\\n",
       "0    623270258      587584719      833748852    427781058      405967794   \n",
       "1     10633298        9677936       14884690      7784009        7100681   \n",
       "2     11381468       10373729       15731709      8216086        7515623   \n",
       "3     11952853       11103415       17065758      8827253        8238505   \n",
       "4     12331431       11642610       17778869      9116778        8662091   \n",
       "\n",
       "   Persons-Urban  Males-Urban  Females-Urban  \n",
       "0      377106125    195489200      181616925  \n",
       "1        5426544      2849289        2577255  \n",
       "2        6023488      3165382        2858106  \n",
       "3        5990510      3125600        2864910  \n",
       "4        6195172      3214653        2980519  "
      ]
     },
     "execution_count": 30,
     "metadata": {},
     "output_type": "execute_result"
    }
   ],
   "source": [
    "excel_df.head()"
   ]
  },
  {
   "cell_type": "code",
   "execution_count": 31,
   "metadata": {
    "collapsed": true
   },
   "outputs": [],
   "source": [
    "# Filtering data for karnata state\n",
    "req_columns = [\"Age\",\"Males-Rural\",\"Females-Rural\",\"Males-Urban\",\"Females-Urban\"]\n",
    "kar_filter = (excel_df[\"Area Name\"] == \"State - KARNATAKA (29)\") & (excel_df[\"Age\"] != \"All ages\") & (excel_df[\"Age\"] != \"Age not stated\")\n",
    "excel_kar_df = excel_df[kar_filter][req_columns].copy()"
   ]
  },
  {
   "cell_type": "code",
   "execution_count": 32,
   "metadata": {
    "collapsed": false
   },
   "outputs": [
    {
     "data": {
      "text/html": [
       "<div>\n",
       "<table border=\"1\" class=\"dataframe\">\n",
       "  <thead>\n",
       "    <tr style=\"text-align: right;\">\n",
       "      <th></th>\n",
       "      <th>Age</th>\n",
       "      <th>Males-Rural</th>\n",
       "      <th>Females-Rural</th>\n",
       "      <th>Males-Urban</th>\n",
       "      <th>Females-Urban</th>\n",
       "    </tr>\n",
       "  </thead>\n",
       "  <tbody>\n",
       "    <tr>\n",
       "      <th>2988</th>\n",
       "      <td>0</td>\n",
       "      <td>300346</td>\n",
       "      <td>285184</td>\n",
       "      <td>178000</td>\n",
       "      <td>170115</td>\n",
       "    </tr>\n",
       "    <tr>\n",
       "      <th>2989</th>\n",
       "      <td>1</td>\n",
       "      <td>314001</td>\n",
       "      <td>296926</td>\n",
       "      <td>208961</td>\n",
       "      <td>197786</td>\n",
       "    </tr>\n",
       "  </tbody>\n",
       "</table>\n",
       "</div>"
      ],
      "text/plain": [
       "     Age  Males-Rural  Females-Rural  Males-Urban  Females-Urban\n",
       "2988   0       300346         285184       178000         170115\n",
       "2989   1       314001         296926       208961         197786"
      ]
     },
     "execution_count": 32,
     "metadata": {},
     "output_type": "execute_result"
    }
   ],
   "source": [
    "excel_kar_df.head(2)"
   ]
  },
  {
   "cell_type": "code",
   "execution_count": 33,
   "metadata": {
    "collapsed": false
   },
   "outputs": [
    {
     "data": {
      "text/plain": [
       "Age              object\n",
       "Males-Rural       int64\n",
       "Females-Rural     int64\n",
       "Males-Urban       int64\n",
       "Females-Urban     int64\n",
       "dtype: object"
      ]
     },
     "execution_count": 33,
     "metadata": {},
     "output_type": "execute_result"
    }
   ],
   "source": [
    "excel_kar_df.dtypes"
   ]
  },
  {
   "cell_type": "code",
   "execution_count": 34,
   "metadata": {
    "collapsed": false
   },
   "outputs": [],
   "source": [
    "# Converting Age to integer data type\n",
    "excel_kar_df.Age = excel_kar_df.Age.apply(lambda x:int(str(x).replace('+','')))"
   ]
  },
  {
   "cell_type": "code",
   "execution_count": 35,
   "metadata": {
    "collapsed": false
   },
   "outputs": [
    {
     "data": {
      "text/plain": [
       "Age              int64\n",
       "Males-Rural      int64\n",
       "Females-Rural    int64\n",
       "Males-Urban      int64\n",
       "Females-Urban    int64\n",
       "dtype: object"
      ]
     },
     "execution_count": 35,
     "metadata": {},
     "output_type": "execute_result"
    }
   ],
   "source": [
    "excel_kar_df.dtypes"
   ]
  },
  {
   "cell_type": "code",
   "execution_count": 44,
   "metadata": {
    "collapsed": false
   },
   "outputs": [
    {
     "data": {
      "image/png": "[encoded data removed]",
      "text/plain": [
       "<matplotlib.figure.Figure at 0x7fc76601d850>"
      ]
     },
     "metadata": {},
     "output_type": "display_data"
    }
   ],
   "source": [
    "kar_graph = excel_kar_df.set_index(\"Age\").plot(figsize=(16,10))\n",
    "#kar_graph  = excel_kar_df.set_index(\"Age\").plot(figsize=(16,10),subplots=True)\n",
    "#kar_graph = excel_kar_df.set_index(\"Age\").plot(figsize=(16,10),subplots=True,ylim=(0,600000))\n",
    "plt.savefig(\"kar_graph.jpeg\")"
   ]
  },
  {
   "cell_type": "code",
   "execution_count": 49,
   "metadata": {
    "collapsed": false
   },
   "outputs": [
    {
     "data": {
      "image/png": "[encoded data removed]",
      "text/plain": [
       "<matplotlib.figure.Figure at 0x7fc7789f2490>"
      ]
     },
     "metadata": {},
     "output_type": "display_data"
    }
   ],
   "source": [
    "excel_df_age_ns = excel_df[excel_df[\"Age\"] == \"Age not stated\"][[\"Area Name\",\"Males-Rural\",\"Females-Rural\",\"Males-Urban\",\"Females-Urban\"]]\n",
    "excel_df_age_ns = excel_df_age_ns[excel_df_age_ns[\"Area Name\"] != \"India\"]\n",
    "excel_df_age_ns = excel_df_age_ns.set_index(\"Area Name\")\n",
    "age_graph = excel_df_age_ns.plot(kind='bar',figsize=(16,6))"
   ]
  },
  {
   "cell_type": "code",
   "execution_count": 51,
   "metadata": {
    "collapsed": false
   },
   "outputs": [
    {
     "data": {
      "image/png": "[encoded data removed]",
      "text/plain": [
       "<matplotlib.figure.Figure at 0x7fc778696790>"
      ]
     },
     "metadata": {},
     "output_type": "display_data"
    }
   ],
   "source": [
    "kar_age_graph = excel_kar_df.set_index(\"Age\").plot(figsize=(16,10),kind='box')"
   ]
  },
  {
   "cell_type": "code",
   "execution_count": 310,
   "metadata": {
    "collapsed": false
   },
   "outputs": [
    {
     "data": {
      "text/html": [
       "<div>\n",
       "<table border=\"1\" class=\"dataframe\">\n",
       "  <thead>\n",
       "    <tr style=\"text-align: right;\">\n",
       "      <th></th>\n",
       "      <th>Age</th>\n",
       "      <th>Males-Rural</th>\n",
       "      <th>Females-Rural</th>\n",
       "      <th>Males-Urban</th>\n",
       "      <th>Females-Urban</th>\n",
       "    </tr>\n",
       "  </thead>\n",
       "  <tbody>\n",
       "    <tr>\n",
       "      <th>count</th>\n",
       "      <td>101.000000</td>\n",
       "      <td>101.000000</td>\n",
       "      <td>101.000000</td>\n",
       "      <td>101.000000</td>\n",
       "      <td>101.000000</td>\n",
       "    </tr>\n",
       "    <tr>\n",
       "      <th>mean</th>\n",
       "      <td>50.000000</td>\n",
       "      <td>187281.198020</td>\n",
       "      <td>183446.584158</td>\n",
       "      <td>119067.782178</td>\n",
       "      <td>114654.396040</td>\n",
       "    </tr>\n",
       "    <tr>\n",
       "      <th>std</th>\n",
       "      <td>29.300171</td>\n",
       "      <td>159639.437129</td>\n",
       "      <td>157538.589132</td>\n",
       "      <td>95992.992138</td>\n",
       "      <td>93656.789443</td>\n",
       "    </tr>\n",
       "    <tr>\n",
       "      <th>min</th>\n",
       "      <td>0.000000</td>\n",
       "      <td>881.000000</td>\n",
       "      <td>1009.000000</td>\n",
       "      <td>406.000000</td>\n",
       "      <td>627.000000</td>\n",
       "    </tr>\n",
       "    <tr>\n",
       "      <th>25%</th>\n",
       "      <td>25.000000</td>\n",
       "      <td>28453.000000</td>\n",
       "      <td>28402.000000</td>\n",
       "      <td>19886.000000</td>\n",
       "      <td>18380.000000</td>\n",
       "    </tr>\n",
       "    <tr>\n",
       "      <th>50%</th>\n",
       "      <td>50.000000</td>\n",
       "      <td>159167.000000</td>\n",
       "      <td>149798.000000</td>\n",
       "      <td>108020.000000</td>\n",
       "      <td>112043.000000</td>\n",
       "    </tr>\n",
       "    <tr>\n",
       "      <th>75%</th>\n",
       "      <td>75.000000</td>\n",
       "      <td>341347.000000</td>\n",
       "      <td>315453.000000</td>\n",
       "      <td>202113.000000</td>\n",
       "      <td>192617.000000</td>\n",
       "    </tr>\n",
       "    <tr>\n",
       "      <th>max</th>\n",
       "      <td>100.000000</td>\n",
       "      <td>538633.000000</td>\n",
       "      <td>551024.000000</td>\n",
       "      <td>325945.000000</td>\n",
       "      <td>322299.000000</td>\n",
       "    </tr>\n",
       "  </tbody>\n",
       "</table>\n",
       "</div>"
      ],
      "text/plain": [
       "              Age    Males-Rural  Females-Rural    Males-Urban  Females-Urban\n",
       "count  101.000000     101.000000     101.000000     101.000000     101.000000\n",
       "mean    50.000000  187281.198020  183446.584158  119067.782178  114654.396040\n",
       "std     29.300171  159639.437129  157538.589132   95992.992138   93656.789443\n",
       "min      0.000000     881.000000    1009.000000     406.000000     627.000000\n",
       "25%     25.000000   28453.000000   28402.000000   19886.000000   18380.000000\n",
       "50%     50.000000  159167.000000  149798.000000  108020.000000  112043.000000\n",
       "75%     75.000000  341347.000000  315453.000000  202113.000000  192617.000000\n",
       "max    100.000000  538633.000000  551024.000000  325945.000000  322299.000000"
      ]
     },
     "execution_count": 310,
     "metadata": {},
     "output_type": "execute_result"
    }
   ],
   "source": [
    "excel_kar_df.describe()"
   ]
  },
  {
   "cell_type": "markdown",
   "metadata": {},
   "source": [
    "###Reading data using read_csv"
   ]
  },
  {
   "cell_type": "markdown",
   "metadata": {},
   "source": [
    "####One of the very commonly used method is read_csv"
   ]
  },
  {
   "cell_type": "code",
   "execution_count": 52,
   "metadata": {
    "collapsed": true
   },
   "outputs": [],
   "source": [
    "# district rail fall data from 1951 to 2000\n",
    "data = pd.read_csv(\"distirct_railfaill_1951_2000.csv\")"
   ]
  },
  {
   "cell_type": "code",
   "execution_count": 53,
   "metadata": {
    "collapsed": false
   },
   "outputs": [
    {
     "data": {
      "text/html": [
       "<div>\n",
       "<table border=\"1\" class=\"dataframe\">\n",
       "  <thead>\n",
       "    <tr style=\"text-align: right;\">\n",
       "      <th></th>\n",
       "      <th>STATE/UT</th>\n",
       "      <th>DISTRICT</th>\n",
       "      <th>JAN</th>\n",
       "      <th>FEB</th>\n",
       "      <th>MAR</th>\n",
       "      <th>APR</th>\n",
       "      <th>MAY</th>\n",
       "      <th>JUN</th>\n",
       "      <th>JUL</th>\n",
       "      <th>AUG</th>\n",
       "      <th>SEP</th>\n",
       "      <th>OCT</th>\n",
       "      <th>NOV</th>\n",
       "      <th>DEC</th>\n",
       "      <th>ANNUAL</th>\n",
       "      <th>JAN+FEB</th>\n",
       "      <th>MAM</th>\n",
       "      <th>JJAS</th>\n",
       "      <th>OND</th>\n",
       "    </tr>\n",
       "  </thead>\n",
       "  <tbody>\n",
       "    <tr>\n",
       "      <th>0</th>\n",
       "      <td>ANDAMAN And NICOBAR ISLANDS</td>\n",
       "      <td>NICOBAR</td>\n",
       "      <td>107.3</td>\n",
       "      <td>57.9</td>\n",
       "      <td>65.2</td>\n",
       "      <td>117.0</td>\n",
       "      <td>358.5</td>\n",
       "      <td>295.5</td>\n",
       "      <td>285.0</td>\n",
       "      <td>271.9</td>\n",
       "      <td>354.8</td>\n",
       "      <td>326.0</td>\n",
       "      <td>315.2</td>\n",
       "      <td>250.9</td>\n",
       "      <td>2805.2</td>\n",
       "      <td>165.2</td>\n",
       "      <td>540.7</td>\n",
       "      <td>1207.2</td>\n",
       "      <td>892.1</td>\n",
       "    </tr>\n",
       "    <tr>\n",
       "      <th>1</th>\n",
       "      <td>ANDAMAN And NICOBAR ISLANDS</td>\n",
       "      <td>SOUTH ANDAMAN</td>\n",
       "      <td>43.7</td>\n",
       "      <td>26.0</td>\n",
       "      <td>18.6</td>\n",
       "      <td>90.5</td>\n",
       "      <td>374.4</td>\n",
       "      <td>457.2</td>\n",
       "      <td>421.3</td>\n",
       "      <td>423.1</td>\n",
       "      <td>455.6</td>\n",
       "      <td>301.2</td>\n",
       "      <td>275.8</td>\n",
       "      <td>128.3</td>\n",
       "      <td>3015.7</td>\n",
       "      <td>69.7</td>\n",
       "      <td>483.5</td>\n",
       "      <td>1757.2</td>\n",
       "      <td>705.3</td>\n",
       "    </tr>\n",
       "  </tbody>\n",
       "</table>\n",
       "</div>"
      ],
      "text/plain": [
       "                      STATE/UT       DISTRICT    JAN   FEB   MAR    APR  \\\n",
       "0  ANDAMAN And NICOBAR ISLANDS        NICOBAR  107.3  57.9  65.2  117.0   \n",
       "1  ANDAMAN And NICOBAR ISLANDS  SOUTH ANDAMAN   43.7  26.0  18.6   90.5   \n",
       "\n",
       "     MAY    JUN    JUL    AUG    SEP    OCT    NOV    DEC  ANNUAL  JAN+FEB  \\\n",
       "0  358.5  295.5  285.0  271.9  354.8  326.0  315.2  250.9  2805.2    165.2   \n",
       "1  374.4  457.2  421.3  423.1  455.6  301.2  275.8  128.3  3015.7     69.7   \n",
       "\n",
       "     MAM    JJAS    OND  \n",
       "0  540.7  1207.2  892.1  \n",
       "1  483.5  1757.2  705.3  "
      ]
     },
     "execution_count": 53,
     "metadata": {},
     "output_type": "execute_result"
    }
   ],
   "source": [
    "data.head(2)"
   ]
  },
  {
   "cell_type": "code",
   "execution_count": 54,
   "metadata": {
    "collapsed": false
   },
   "outputs": [],
   "source": [
    "data_kar = data[data[\"STATE/UT\"]==\"KARNATAKA\"].copy()"
   ]
  },
  {
   "cell_type": "code",
   "execution_count": 55,
   "metadata": {
    "collapsed": false
   },
   "outputs": [],
   "source": [
    "data_kar = data_kar.drop(\"STATE/UT\", axis=1)\n",
    "data_kar = data_kar.set_index(\"DISTRICT\")"
   ]
  },
  {
   "cell_type": "code",
   "execution_count": 56,
   "metadata": {
    "collapsed": false
   },
   "outputs": [],
   "source": [
    "data_kar = data_kar[[u'JAN', u'FEB', u'MAR', u'APR', u'MAY', u'JUN', u'JUL', u'AUG', u'SEP',\n",
    "       u'OCT', u'NOV', u'DEC']]"
   ]
  },
  {
   "cell_type": "code",
   "execution_count": 57,
   "metadata": {
    "collapsed": false
   },
   "outputs": [
    {
     "data": {
      "text/html": [
       "<div>\n",
       "<table border=\"1\" class=\"dataframe\">\n",
       "  <thead>\n",
       "    <tr style=\"text-align: right;\">\n",
       "      <th></th>\n",
       "      <th>JAN</th>\n",
       "      <th>FEB</th>\n",
       "      <th>MAR</th>\n",
       "      <th>APR</th>\n",
       "      <th>MAY</th>\n",
       "      <th>JUN</th>\n",
       "      <th>JUL</th>\n",
       "      <th>AUG</th>\n",
       "      <th>SEP</th>\n",
       "      <th>OCT</th>\n",
       "      <th>NOV</th>\n",
       "      <th>DEC</th>\n",
       "    </tr>\n",
       "    <tr>\n",
       "      <th>DISTRICT</th>\n",
       "      <th></th>\n",
       "      <th></th>\n",
       "      <th></th>\n",
       "      <th></th>\n",
       "      <th></th>\n",
       "      <th></th>\n",
       "      <th></th>\n",
       "      <th></th>\n",
       "      <th></th>\n",
       "      <th></th>\n",
       "      <th></th>\n",
       "      <th></th>\n",
       "    </tr>\n",
       "  </thead>\n",
       "  <tbody>\n",
       "    <tr>\n",
       "      <th>UTTAR KANNADA</th>\n",
       "      <td>0.3</td>\n",
       "      <td>0.1</td>\n",
       "      <td>2.7</td>\n",
       "      <td>22.1</td>\n",
       "      <td>114.0</td>\n",
       "      <td>740.9</td>\n",
       "      <td>1053.8</td>\n",
       "      <td>667.7</td>\n",
       "      <td>258.5</td>\n",
       "      <td>155.1</td>\n",
       "      <td>44.1</td>\n",
       "      <td>11.2</td>\n",
       "    </tr>\n",
       "    <tr>\n",
       "      <th>DAKSHIN KANDA</th>\n",
       "      <td>1.9</td>\n",
       "      <td>0.7</td>\n",
       "      <td>6.4</td>\n",
       "      <td>39.8</td>\n",
       "      <td>180.9</td>\n",
       "      <td>977.2</td>\n",
       "      <td>1227.2</td>\n",
       "      <td>833.6</td>\n",
       "      <td>313.6</td>\n",
       "      <td>236.9</td>\n",
       "      <td>82.0</td>\n",
       "      <td>15.6</td>\n",
       "    </tr>\n",
       "    <tr>\n",
       "      <th>UDUPI</th>\n",
       "      <td>1.4</td>\n",
       "      <td>0.4</td>\n",
       "      <td>4.1</td>\n",
       "      <td>29.4</td>\n",
       "      <td>193.8</td>\n",
       "      <td>1081.0</td>\n",
       "      <td>1371.6</td>\n",
       "      <td>902.2</td>\n",
       "      <td>404.9</td>\n",
       "      <td>223.8</td>\n",
       "      <td>74.6</td>\n",
       "      <td>18.8</td>\n",
       "    </tr>\n",
       "    <tr>\n",
       "      <th>BELGAM</th>\n",
       "      <td>0.7</td>\n",
       "      <td>0.9</td>\n",
       "      <td>6.2</td>\n",
       "      <td>30.2</td>\n",
       "      <td>74.8</td>\n",
       "      <td>130.4</td>\n",
       "      <td>204.0</td>\n",
       "      <td>126.7</td>\n",
       "      <td>113.0</td>\n",
       "      <td>116.6</td>\n",
       "      <td>30.6</td>\n",
       "      <td>5.1</td>\n",
       "    </tr>\n",
       "    <tr>\n",
       "      <th>BIDAR</th>\n",
       "      <td>5.9</td>\n",
       "      <td>6.1</td>\n",
       "      <td>10.1</td>\n",
       "      <td>21.7</td>\n",
       "      <td>31.4</td>\n",
       "      <td>137.1</td>\n",
       "      <td>190.7</td>\n",
       "      <td>196.6</td>\n",
       "      <td>170.5</td>\n",
       "      <td>93.5</td>\n",
       "      <td>20.9</td>\n",
       "      <td>6.2</td>\n",
       "    </tr>\n",
       "  </tbody>\n",
       "</table>\n",
       "</div>"
      ],
      "text/plain": [
       "               JAN  FEB   MAR   APR    MAY     JUN     JUL    AUG    SEP  \\\n",
       "DISTRICT                                                                   \n",
       "UTTAR KANNADA  0.3  0.1   2.7  22.1  114.0   740.9  1053.8  667.7  258.5   \n",
       "DAKSHIN KANDA  1.9  0.7   6.4  39.8  180.9   977.2  1227.2  833.6  313.6   \n",
       "UDUPI          1.4  0.4   4.1  29.4  193.8  1081.0  1371.6  902.2  404.9   \n",
       "BELGAM         0.7  0.9   6.2  30.2   74.8   130.4   204.0  126.7  113.0   \n",
       "BIDAR          5.9  6.1  10.1  21.7   31.4   137.1   190.7  196.6  170.5   \n",
       "\n",
       "                 OCT   NOV   DEC  \n",
       "DISTRICT                          \n",
       "UTTAR KANNADA  155.1  44.1  11.2  \n",
       "DAKSHIN KANDA  236.9  82.0  15.6  \n",
       "UDUPI          223.8  74.6  18.8  \n",
       "BELGAM         116.6  30.6   5.1  \n",
       "BIDAR           93.5  20.9   6.2  "
      ]
     },
     "execution_count": 57,
     "metadata": {},
     "output_type": "execute_result"
    }
   ],
   "source": [
    "data_kar.head()"
   ]
  },
  {
   "cell_type": "code",
   "execution_count": 58,
   "metadata": {
    "collapsed": false
   },
   "outputs": [
    {
     "data": {
      "text/html": [
       "<div>\n",
       "<table border=\"1\" class=\"dataframe\">\n",
       "  <thead>\n",
       "    <tr style=\"text-align: right;\">\n",
       "      <th></th>\n",
       "      <th>JAN</th>\n",
       "      <th>FEB</th>\n",
       "      <th>MAR</th>\n",
       "      <th>APR</th>\n",
       "      <th>MAY</th>\n",
       "      <th>JUN</th>\n",
       "      <th>JUL</th>\n",
       "      <th>AUG</th>\n",
       "      <th>SEP</th>\n",
       "      <th>OCT</th>\n",
       "      <th>NOV</th>\n",
       "      <th>DEC</th>\n",
       "    </tr>\n",
       "  </thead>\n",
       "  <tbody>\n",
       "    <tr>\n",
       "      <th>count</th>\n",
       "      <td>30.000000</td>\n",
       "      <td>30.000000</td>\n",
       "      <td>30.000000</td>\n",
       "      <td>30.000000</td>\n",
       "      <td>30.000000</td>\n",
       "      <td>30.000000</td>\n",
       "      <td>30.000000</td>\n",
       "      <td>30.000000</td>\n",
       "      <td>30.000000</td>\n",
       "      <td>30.000000</td>\n",
       "      <td>30.000000</td>\n",
       "      <td>30.000000</td>\n",
       "    </tr>\n",
       "    <tr>\n",
       "      <th>mean</th>\n",
       "      <td>2.026667</td>\n",
       "      <td>2.696667</td>\n",
       "      <td>7.163333</td>\n",
       "      <td>36.773333</td>\n",
       "      <td>88.166667</td>\n",
       "      <td>204.880000</td>\n",
       "      <td>280.700000</td>\n",
       "      <td>209.256667</td>\n",
       "      <td>164.076667</td>\n",
       "      <td>143.356667</td>\n",
       "      <td>44.350000</td>\n",
       "      <td>11.170000</td>\n",
       "    </tr>\n",
       "    <tr>\n",
       "      <th>std</th>\n",
       "      <td>1.259429</td>\n",
       "      <td>1.960029</td>\n",
       "      <td>3.636072</td>\n",
       "      <td>16.850723</td>\n",
       "      <td>40.632765</td>\n",
       "      <td>273.931535</td>\n",
       "      <td>374.960968</td>\n",
       "      <td>232.682348</td>\n",
       "      <td>64.369069</td>\n",
       "      <td>34.699406</td>\n",
       "      <td>16.686661</td>\n",
       "      <td>5.248458</td>\n",
       "    </tr>\n",
       "    <tr>\n",
       "      <th>min</th>\n",
       "      <td>0.300000</td>\n",
       "      <td>0.100000</td>\n",
       "      <td>2.500000</td>\n",
       "      <td>17.700000</td>\n",
       "      <td>31.400000</td>\n",
       "      <td>48.700000</td>\n",
       "      <td>49.300000</td>\n",
       "      <td>58.900000</td>\n",
       "      <td>99.500000</td>\n",
       "      <td>93.500000</td>\n",
       "      <td>20.800000</td>\n",
       "      <td>4.500000</td>\n",
       "    </tr>\n",
       "    <tr>\n",
       "      <th>25%</th>\n",
       "      <td>1.325000</td>\n",
       "      <td>0.925000</td>\n",
       "      <td>4.250000</td>\n",
       "      <td>24.075000</td>\n",
       "      <td>59.650000</td>\n",
       "      <td>72.250000</td>\n",
       "      <td>76.550000</td>\n",
       "      <td>87.525000</td>\n",
       "      <td>125.125000</td>\n",
       "      <td>116.450000</td>\n",
       "      <td>30.725000</td>\n",
       "      <td>7.000000</td>\n",
       "    </tr>\n",
       "    <tr>\n",
       "      <th>50%</th>\n",
       "      <td>1.750000</td>\n",
       "      <td>2.600000</td>\n",
       "      <td>6.350000</td>\n",
       "      <td>33.750000</td>\n",
       "      <td>78.400000</td>\n",
       "      <td>83.400000</td>\n",
       "      <td>97.650000</td>\n",
       "      <td>109.950000</td>\n",
       "      <td>148.000000</td>\n",
       "      <td>142.850000</td>\n",
       "      <td>44.750000</td>\n",
       "      <td>9.850000</td>\n",
       "    </tr>\n",
       "    <tr>\n",
       "      <th>75%</th>\n",
       "      <td>2.400000</td>\n",
       "      <td>4.050000</td>\n",
       "      <td>9.625000</td>\n",
       "      <td>44.875000</td>\n",
       "      <td>106.200000</td>\n",
       "      <td>129.050000</td>\n",
       "      <td>200.525000</td>\n",
       "      <td>166.000000</td>\n",
       "      <td>178.650000</td>\n",
       "      <td>157.550000</td>\n",
       "      <td>54.075000</td>\n",
       "      <td>14.750000</td>\n",
       "    </tr>\n",
       "    <tr>\n",
       "      <th>max</th>\n",
       "      <td>5.900000</td>\n",
       "      <td>6.700000</td>\n",
       "      <td>18.500000</td>\n",
       "      <td>89.800000</td>\n",
       "      <td>193.800000</td>\n",
       "      <td>1081.000000</td>\n",
       "      <td>1371.600000</td>\n",
       "      <td>902.200000</td>\n",
       "      <td>404.900000</td>\n",
       "      <td>236.900000</td>\n",
       "      <td>82.000000</td>\n",
       "      <td>24.300000</td>\n",
       "    </tr>\n",
       "  </tbody>\n",
       "</table>\n",
       "</div>"
      ],
      "text/plain": [
       "             JAN        FEB        MAR        APR         MAY          JUN  \\\n",
       "count  30.000000  30.000000  30.000000  30.000000   30.000000    30.000000   \n",
       "mean    2.026667   2.696667   7.163333  36.773333   88.166667   204.880000   \n",
       "std     1.259429   1.960029   3.636072  16.850723   40.632765   273.931535   \n",
       "min     0.300000   0.100000   2.500000  17.700000   31.400000    48.700000   \n",
       "25%     1.325000   0.925000   4.250000  24.075000   59.650000    72.250000   \n",
       "50%     1.750000   2.600000   6.350000  33.750000   78.400000    83.400000   \n",
       "75%     2.400000   4.050000   9.625000  44.875000  106.200000   129.050000   \n",
       "max     5.900000   6.700000  18.500000  89.800000  193.800000  1081.000000   \n",
       "\n",
       "               JUL         AUG         SEP         OCT        NOV        DEC  \n",
       "count    30.000000   30.000000   30.000000   30.000000  30.000000  30.000000  \n",
       "mean    280.700000  209.256667  164.076667  143.356667  44.350000  11.170000  \n",
       "std     374.960968  232.682348   64.369069   34.699406  16.686661   5.248458  \n",
       "min      49.300000   58.900000   99.500000   93.500000  20.800000   4.500000  \n",
       "25%      76.550000   87.525000  125.125000  116.450000  30.725000   7.000000  \n",
       "50%      97.650000  109.950000  148.000000  142.850000  44.750000   9.850000  \n",
       "75%     200.525000  166.000000  178.650000  157.550000  54.075000  14.750000  \n",
       "max    1371.600000  902.200000  404.900000  236.900000  82.000000  24.300000  "
      ]
     },
     "execution_count": 58,
     "metadata": {},
     "output_type": "execute_result"
    }
   ],
   "source": [
    "data_kar.describe()"
   ]
  },
  {
   "cell_type": "code",
   "execution_count": 62,
   "metadata": {
    "collapsed": false
   },
   "outputs": [
    {
     "data": {
      "text/plain": [
       "<matplotlib.text.Text at 0x7fc765cdd0d0>"
      ]
     },
     "execution_count": 62,
     "metadata": {},
     "output_type": "execute_result"
    },
    {
     "data": {
      "image/png": "[encoded data removed]",
      "text/plain": [
       "<matplotlib.figure.Figure at 0x7fc7653c6ed0>"
      ]
     },
     "metadata": {},
     "output_type": "display_data"
    }
   ],
   "source": [
    "#data_kar.plot?\n",
    "ax = data_kar.describe().T.plot(colormap=plt.cm.Accent_r ,figsize=(12,6),grid=True)\n",
    "ax.set_ylabel(\"rain fall(mm)\",fontdict={'size':12})\n",
    "ax.set_title(\"Rail fall in Karnata(1951-2000)\",fontdict={'size':12})"
   ]
  },
  {
   "cell_type": "markdown",
   "metadata": {
    "collapsed": true
   },
   "source": [
    "###Using default values while reading csv file"
   ]
  },
  {
   "cell_type": "code",
   "execution_count": 84,
   "metadata": {
    "collapsed": false
   },
   "outputs": [],
   "source": [
    "#pd.read_csv?\n",
    "required_columns = [\"Year\",\"Jan\",\"Feb\",\"Mar\",\"Apr\",\"May\",\"Jun\",\"Jul\",\"Aug\",\"Sep\",\"Oct\",\"Nov\",\"Dec\"]\n",
    "glb_temp_df = pd.read_csv(\"GLB.Ts+dSST.txt\",skiprows=7,usecols=required_columns,\n",
    "                      skip_footer=12,engine='python',sep=\"\\s+\",na_values=['****','***'],\n",
    "                      index_col=0\n",
    "                      )"
   ]
  },
  {
   "cell_type": "code",
   "execution_count": 96,
   "metadata": {
    "collapsed": false
   },
   "outputs": [
    {
     "data": {
      "text/html": [
       "<div>\n",
       "<table border=\"1\" class=\"dataframe\">\n",
       "  <thead>\n",
       "    <tr style=\"text-align: right;\">\n",
       "      <th></th>\n",
       "      <th>Jan</th>\n",
       "      <th>Feb</th>\n",
       "      <th>Mar</th>\n",
       "      <th>Apr</th>\n",
       "      <th>May</th>\n",
       "      <th>Jun</th>\n",
       "      <th>Jul</th>\n",
       "      <th>Aug</th>\n",
       "      <th>Sep</th>\n",
       "      <th>Oct</th>\n",
       "      <th>Nov</th>\n",
       "      <th>Dec</th>\n",
       "    </tr>\n",
       "    <tr>\n",
       "      <th>Year</th>\n",
       "      <th></th>\n",
       "      <th></th>\n",
       "      <th></th>\n",
       "      <th></th>\n",
       "      <th></th>\n",
       "      <th></th>\n",
       "      <th></th>\n",
       "      <th></th>\n",
       "      <th></th>\n",
       "      <th></th>\n",
       "      <th></th>\n",
       "      <th></th>\n",
       "    </tr>\n",
       "  </thead>\n",
       "  <tbody>\n",
       "    <tr>\n",
       "      <th>1880</th>\n",
       "      <td>-34</td>\n",
       "      <td>-27</td>\n",
       "      <td>-22</td>\n",
       "      <td>-30</td>\n",
       "      <td>-16</td>\n",
       "      <td>-24</td>\n",
       "      <td>-19</td>\n",
       "      <td>-12</td>\n",
       "      <td>-20</td>\n",
       "      <td>-19</td>\n",
       "      <td>-16</td>\n",
       "      <td>-21</td>\n",
       "    </tr>\n",
       "    <tr>\n",
       "      <th>1881</th>\n",
       "      <td>-13</td>\n",
       "      <td>-16</td>\n",
       "      <td>-2</td>\n",
       "      <td>-3</td>\n",
       "      <td>-3</td>\n",
       "      <td>-27</td>\n",
       "      <td>-12</td>\n",
       "      <td>-8</td>\n",
       "      <td>-18</td>\n",
       "      <td>-23</td>\n",
       "      <td>-28</td>\n",
       "      <td>-18</td>\n",
       "    </tr>\n",
       "    <tr>\n",
       "      <th>1882</th>\n",
       "      <td>3</td>\n",
       "      <td>4</td>\n",
       "      <td>-2</td>\n",
       "      <td>-24</td>\n",
       "      <td>-20</td>\n",
       "      <td>-32</td>\n",
       "      <td>-27</td>\n",
       "      <td>-11</td>\n",
       "      <td>-11</td>\n",
       "      <td>-25</td>\n",
       "      <td>-25</td>\n",
       "      <td>-37</td>\n",
       "    </tr>\n",
       "    <tr>\n",
       "      <th>1883</th>\n",
       "      <td>-38</td>\n",
       "      <td>-38</td>\n",
       "      <td>-12</td>\n",
       "      <td>-20</td>\n",
       "      <td>-20</td>\n",
       "      <td>-8</td>\n",
       "      <td>-3</td>\n",
       "      <td>-13</td>\n",
       "      <td>-19</td>\n",
       "      <td>-19</td>\n",
       "      <td>-28</td>\n",
       "      <td>-21</td>\n",
       "    </tr>\n",
       "    <tr>\n",
       "      <th>1884</th>\n",
       "      <td>-20</td>\n",
       "      <td>-14</td>\n",
       "      <td>-31</td>\n",
       "      <td>-36</td>\n",
       "      <td>-33</td>\n",
       "      <td>-36</td>\n",
       "      <td>-31</td>\n",
       "      <td>-24</td>\n",
       "      <td>-29</td>\n",
       "      <td>-25</td>\n",
       "      <td>-29</td>\n",
       "      <td>-25</td>\n",
       "    </tr>\n",
       "  </tbody>\n",
       "</table>\n",
       "</div>"
      ],
      "text/plain": [
       "      Jan  Feb  Mar  Apr  May  Jun  Jul  Aug  Sep  Oct  Nov  Dec\n",
       "Year                                                            \n",
       "1880  -34  -27  -22  -30  -16  -24  -19  -12  -20  -19  -16  -21\n",
       "1881  -13  -16   -2   -3   -3  -27  -12   -8  -18  -23  -28  -18\n",
       "1882    3    4   -2  -24  -20  -32  -27  -11  -11  -25  -25  -37\n",
       "1883  -38  -38  -12  -20  -20   -8   -3  -13  -19  -19  -28  -21\n",
       "1884  -20  -14  -31  -36  -33  -36  -31  -24  -29  -25  -29  -25"
      ]
     },
     "execution_count": 96,
     "metadata": {},
     "output_type": "execute_result"
    }
   ],
   "source": [
    "glb_temp_df.head()"
   ]
  },
  {
   "cell_type": "code",
   "execution_count": 85,
   "metadata": {
    "collapsed": false
   },
   "outputs": [
    {
     "data": {
      "text/html": [
       "<div>\n",
       "<table border=\"1\" class=\"dataframe\">\n",
       "  <thead>\n",
       "    <tr style=\"text-align: right;\">\n",
       "      <th></th>\n",
       "      <th>Jan</th>\n",
       "      <th>Feb</th>\n",
       "      <th>Mar</th>\n",
       "      <th>Apr</th>\n",
       "      <th>May</th>\n",
       "      <th>Jun</th>\n",
       "      <th>Jul</th>\n",
       "      <th>Aug</th>\n",
       "      <th>Sep</th>\n",
       "      <th>Oct</th>\n",
       "      <th>Nov</th>\n",
       "      <th>Dec</th>\n",
       "    </tr>\n",
       "    <tr>\n",
       "      <th>Year</th>\n",
       "      <th></th>\n",
       "      <th></th>\n",
       "      <th></th>\n",
       "      <th></th>\n",
       "      <th></th>\n",
       "      <th></th>\n",
       "      <th></th>\n",
       "      <th></th>\n",
       "      <th></th>\n",
       "      <th></th>\n",
       "      <th></th>\n",
       "      <th></th>\n",
       "    </tr>\n",
       "  </thead>\n",
       "  <tbody>\n",
       "    <tr>\n",
       "      <th>Year</th>\n",
       "      <td>Jan</td>\n",
       "      <td>Feb</td>\n",
       "      <td>Mar</td>\n",
       "      <td>Apr</td>\n",
       "      <td>May</td>\n",
       "      <td>Jun</td>\n",
       "      <td>Jul</td>\n",
       "      <td>Aug</td>\n",
       "      <td>Sep</td>\n",
       "      <td>Oct</td>\n",
       "      <td>Nov</td>\n",
       "      <td>Dec</td>\n",
       "    </tr>\n",
       "    <tr>\n",
       "      <th>Year</th>\n",
       "      <td>Jan</td>\n",
       "      <td>Feb</td>\n",
       "      <td>Mar</td>\n",
       "      <td>Apr</td>\n",
       "      <td>May</td>\n",
       "      <td>Jun</td>\n",
       "      <td>Jul</td>\n",
       "      <td>Aug</td>\n",
       "      <td>Sep</td>\n",
       "      <td>Oct</td>\n",
       "      <td>Nov</td>\n",
       "      <td>Dec</td>\n",
       "    </tr>\n",
       "    <tr>\n",
       "      <th>Year</th>\n",
       "      <td>Jan</td>\n",
       "      <td>Feb</td>\n",
       "      <td>Mar</td>\n",
       "      <td>Apr</td>\n",
       "      <td>May</td>\n",
       "      <td>Jun</td>\n",
       "      <td>Jul</td>\n",
       "      <td>Aug</td>\n",
       "      <td>Sep</td>\n",
       "      <td>Oct</td>\n",
       "      <td>Nov</td>\n",
       "      <td>Dec</td>\n",
       "    </tr>\n",
       "    <tr>\n",
       "      <th>Year</th>\n",
       "      <td>Jan</td>\n",
       "      <td>Feb</td>\n",
       "      <td>Mar</td>\n",
       "      <td>Apr</td>\n",
       "      <td>May</td>\n",
       "      <td>Jun</td>\n",
       "      <td>Jul</td>\n",
       "      <td>Aug</td>\n",
       "      <td>Sep</td>\n",
       "      <td>Oct</td>\n",
       "      <td>Nov</td>\n",
       "      <td>Dec</td>\n",
       "    </tr>\n",
       "    <tr>\n",
       "      <th>Year</th>\n",
       "      <td>Jan</td>\n",
       "      <td>Feb</td>\n",
       "      <td>Mar</td>\n",
       "      <td>Apr</td>\n",
       "      <td>May</td>\n",
       "      <td>Jun</td>\n",
       "      <td>Jul</td>\n",
       "      <td>Aug</td>\n",
       "      <td>Sep</td>\n",
       "      <td>Oct</td>\n",
       "      <td>Nov</td>\n",
       "      <td>Dec</td>\n",
       "    </tr>\n",
       "    <tr>\n",
       "      <th>Year</th>\n",
       "      <td>Jan</td>\n",
       "      <td>Feb</td>\n",
       "      <td>Mar</td>\n",
       "      <td>Apr</td>\n",
       "      <td>May</td>\n",
       "      <td>Jun</td>\n",
       "      <td>Jul</td>\n",
       "      <td>Aug</td>\n",
       "      <td>Sep</td>\n",
       "      <td>Oct</td>\n",
       "      <td>Nov</td>\n",
       "      <td>Dec</td>\n",
       "    </tr>\n",
       "  </tbody>\n",
       "</table>\n",
       "</div>"
      ],
      "text/plain": [
       "      Jan  Feb  Mar  Apr  May  Jun  Jul  Aug  Sep  Oct  Nov  Dec\n",
       "Year                                                            \n",
       "Year  Jan  Feb  Mar  Apr  May  Jun  Jul  Aug  Sep  Oct  Nov  Dec\n",
       "Year  Jan  Feb  Mar  Apr  May  Jun  Jul  Aug  Sep  Oct  Nov  Dec\n",
       "Year  Jan  Feb  Mar  Apr  May  Jun  Jul  Aug  Sep  Oct  Nov  Dec\n",
       "Year  Jan  Feb  Mar  Apr  May  Jun  Jul  Aug  Sep  Oct  Nov  Dec\n",
       "Year  Jan  Feb  Mar  Apr  May  Jun  Jul  Aug  Sep  Oct  Nov  Dec\n",
       "Year  Jan  Feb  Mar  Apr  May  Jun  Jul  Aug  Sep  Oct  Nov  Dec"
      ]
     },
     "execution_count": 85,
     "metadata": {},
     "output_type": "execute_result"
    }
   ],
   "source": [
    "glb_temp_df.loc[\"Year\"]"
   ]
  },
  {
   "cell_type": "code",
   "execution_count": 86,
   "metadata": {
    "collapsed": false
   },
   "outputs": [
    {
     "data": {
      "text/plain": [
       "(136, 12)"
      ]
     },
     "execution_count": 86,
     "metadata": {},
     "output_type": "execute_result"
    }
   ],
   "source": [
    "glb_temp_df = glb_temp_df[glb_temp_df[\"Jan\"] != \"Jan\"]\n",
    "glb_temp_df.shape"
   ]
  },
  {
   "cell_type": "code",
   "execution_count": 87,
   "metadata": {
    "collapsed": false
   },
   "outputs": [
    {
     "data": {
      "text/html": [
       "<div>\n",
       "<table border=\"1\" class=\"dataframe\">\n",
       "  <thead>\n",
       "    <tr style=\"text-align: right;\">\n",
       "      <th></th>\n",
       "      <th>Jan</th>\n",
       "      <th>Feb</th>\n",
       "      <th>Mar</th>\n",
       "      <th>Apr</th>\n",
       "      <th>May</th>\n",
       "      <th>Jun</th>\n",
       "      <th>Jul</th>\n",
       "      <th>Aug</th>\n",
       "      <th>Sep</th>\n",
       "      <th>Oct</th>\n",
       "      <th>Nov</th>\n",
       "      <th>Dec</th>\n",
       "    </tr>\n",
       "    <tr>\n",
       "      <th>Year</th>\n",
       "      <th></th>\n",
       "      <th></th>\n",
       "      <th></th>\n",
       "      <th></th>\n",
       "      <th></th>\n",
       "      <th></th>\n",
       "      <th></th>\n",
       "      <th></th>\n",
       "      <th></th>\n",
       "      <th></th>\n",
       "      <th></th>\n",
       "      <th></th>\n",
       "    </tr>\n",
       "  </thead>\n",
       "  <tbody>\n",
       "    <tr>\n",
       "      <th>2011</th>\n",
       "      <td>45</td>\n",
       "      <td>44</td>\n",
       "      <td>57</td>\n",
       "      <td>60</td>\n",
       "      <td>47</td>\n",
       "      <td>54</td>\n",
       "      <td>70</td>\n",
       "      <td>69</td>\n",
       "      <td>52</td>\n",
       "      <td>60</td>\n",
       "      <td>50</td>\n",
       "      <td>48</td>\n",
       "    </tr>\n",
       "    <tr>\n",
       "      <th>2012</th>\n",
       "      <td>38</td>\n",
       "      <td>43</td>\n",
       "      <td>52</td>\n",
       "      <td>62</td>\n",
       "      <td>71</td>\n",
       "      <td>59</td>\n",
       "      <td>50</td>\n",
       "      <td>56</td>\n",
       "      <td>68</td>\n",
       "      <td>73</td>\n",
       "      <td>69</td>\n",
       "      <td>46</td>\n",
       "    </tr>\n",
       "    <tr>\n",
       "      <th>2013</th>\n",
       "      <td>62</td>\n",
       "      <td>52</td>\n",
       "      <td>60</td>\n",
       "      <td>48</td>\n",
       "      <td>56</td>\n",
       "      <td>61</td>\n",
       "      <td>53</td>\n",
       "      <td>61</td>\n",
       "      <td>73</td>\n",
       "      <td>61</td>\n",
       "      <td>75</td>\n",
       "      <td>61</td>\n",
       "    </tr>\n",
       "    <tr>\n",
       "      <th>2014</th>\n",
       "      <td>68</td>\n",
       "      <td>44</td>\n",
       "      <td>71</td>\n",
       "      <td>72</td>\n",
       "      <td>79</td>\n",
       "      <td>62</td>\n",
       "      <td>50</td>\n",
       "      <td>74</td>\n",
       "      <td>81</td>\n",
       "      <td>78</td>\n",
       "      <td>64</td>\n",
       "      <td>74</td>\n",
       "    </tr>\n",
       "    <tr>\n",
       "      <th>2015</th>\n",
       "      <td>75</td>\n",
       "      <td>80</td>\n",
       "      <td>84</td>\n",
       "      <td>71</td>\n",
       "      <td>NaN</td>\n",
       "      <td>NaN</td>\n",
       "      <td>NaN</td>\n",
       "      <td>NaN</td>\n",
       "      <td>NaN</td>\n",
       "      <td>NaN</td>\n",
       "      <td>NaN</td>\n",
       "      <td>NaN</td>\n",
       "    </tr>\n",
       "  </tbody>\n",
       "</table>\n",
       "</div>"
      ],
      "text/plain": [
       "     Jan Feb Mar Apr  May  Jun  Jul  Aug  Sep  Oct  Nov  Dec\n",
       "Year                                                        \n",
       "2011  45  44  57  60   47   54   70   69   52   60   50   48\n",
       "2012  38  43  52  62   71   59   50   56   68   73   69   46\n",
       "2013  62  52  60  48   56   61   53   61   73   61   75   61\n",
       "2014  68  44  71  72   79   62   50   74   81   78   64   74\n",
       "2015  75  80  84  71  NaN  NaN  NaN  NaN  NaN  NaN  NaN  NaN"
      ]
     },
     "execution_count": 87,
     "metadata": {},
     "output_type": "execute_result"
    }
   ],
   "source": [
    "glb_temp_df.tail()"
   ]
  },
  {
   "cell_type": "code",
   "execution_count": 88,
   "metadata": {
    "collapsed": false
   },
   "outputs": [
    {
     "data": {
      "text/plain": [
       "Jan    object\n",
       "Feb    object\n",
       "Mar    object\n",
       "Apr    object\n",
       "May    object\n",
       "Jun    object\n",
       "Jul    object\n",
       "Aug    object\n",
       "Sep    object\n",
       "Oct    object\n",
       "Nov    object\n",
       "Dec    object\n",
       "dtype: object"
      ]
     },
     "execution_count": 88,
     "metadata": {},
     "output_type": "execute_result"
    }
   ],
   "source": [
    "glb_temp_df.dtypes"
   ]
  },
  {
   "cell_type": "code",
   "execution_count": 90,
   "metadata": {
    "collapsed": false
   },
   "outputs": [],
   "source": [
    "for col in glb_temp_df.columns:\n",
    "    glb_temp_df[col] = glb_temp_df[col].ffill().astype(np.int64)"
   ]
  },
  {
   "cell_type": "code",
   "execution_count": 91,
   "metadata": {
    "collapsed": false
   },
   "outputs": [
    {
     "data": {
      "text/plain": [
       "Jan    int64\n",
       "Feb    int64\n",
       "Mar    int64\n",
       "Apr    int64\n",
       "May    int64\n",
       "Jun    int64\n",
       "Jul    int64\n",
       "Aug    int64\n",
       "Sep    int64\n",
       "Oct    int64\n",
       "Nov    int64\n",
       "Dec    int64\n",
       "dtype: object"
      ]
     },
     "execution_count": 91,
     "metadata": {},
     "output_type": "execute_result"
    }
   ],
   "source": [
    "glb_temp_df.dtypes"
   ]
  },
  {
   "cell_type": "code",
   "execution_count": 92,
   "metadata": {
    "collapsed": false
   },
   "outputs": [
    {
     "data": {
      "text/html": [
       "<div>\n",
       "<table border=\"1\" class=\"dataframe\">\n",
       "  <thead>\n",
       "    <tr style=\"text-align: right;\">\n",
       "      <th></th>\n",
       "      <th>Jan</th>\n",
       "      <th>Feb</th>\n",
       "      <th>Mar</th>\n",
       "      <th>Apr</th>\n",
       "      <th>May</th>\n",
       "      <th>Jun</th>\n",
       "      <th>Jul</th>\n",
       "      <th>Aug</th>\n",
       "      <th>Sep</th>\n",
       "      <th>Oct</th>\n",
       "      <th>Nov</th>\n",
       "      <th>Dec</th>\n",
       "    </tr>\n",
       "    <tr>\n",
       "      <th>Year</th>\n",
       "      <th></th>\n",
       "      <th></th>\n",
       "      <th></th>\n",
       "      <th></th>\n",
       "      <th></th>\n",
       "      <th></th>\n",
       "      <th></th>\n",
       "      <th></th>\n",
       "      <th></th>\n",
       "      <th></th>\n",
       "      <th></th>\n",
       "      <th></th>\n",
       "    </tr>\n",
       "  </thead>\n",
       "  <tbody>\n",
       "    <tr>\n",
       "      <th>2011</th>\n",
       "      <td>45</td>\n",
       "      <td>44</td>\n",
       "      <td>57</td>\n",
       "      <td>60</td>\n",
       "      <td>47</td>\n",
       "      <td>54</td>\n",
       "      <td>70</td>\n",
       "      <td>69</td>\n",
       "      <td>52</td>\n",
       "      <td>60</td>\n",
       "      <td>50</td>\n",
       "      <td>48</td>\n",
       "    </tr>\n",
       "    <tr>\n",
       "      <th>2012</th>\n",
       "      <td>38</td>\n",
       "      <td>43</td>\n",
       "      <td>52</td>\n",
       "      <td>62</td>\n",
       "      <td>71</td>\n",
       "      <td>59</td>\n",
       "      <td>50</td>\n",
       "      <td>56</td>\n",
       "      <td>68</td>\n",
       "      <td>73</td>\n",
       "      <td>69</td>\n",
       "      <td>46</td>\n",
       "    </tr>\n",
       "    <tr>\n",
       "      <th>2013</th>\n",
       "      <td>62</td>\n",
       "      <td>52</td>\n",
       "      <td>60</td>\n",
       "      <td>48</td>\n",
       "      <td>56</td>\n",
       "      <td>61</td>\n",
       "      <td>53</td>\n",
       "      <td>61</td>\n",
       "      <td>73</td>\n",
       "      <td>61</td>\n",
       "      <td>75</td>\n",
       "      <td>61</td>\n",
       "    </tr>\n",
       "    <tr>\n",
       "      <th>2014</th>\n",
       "      <td>68</td>\n",
       "      <td>44</td>\n",
       "      <td>71</td>\n",
       "      <td>72</td>\n",
       "      <td>79</td>\n",
       "      <td>62</td>\n",
       "      <td>50</td>\n",
       "      <td>74</td>\n",
       "      <td>81</td>\n",
       "      <td>78</td>\n",
       "      <td>64</td>\n",
       "      <td>74</td>\n",
       "    </tr>\n",
       "    <tr>\n",
       "      <th>2015</th>\n",
       "      <td>75</td>\n",
       "      <td>80</td>\n",
       "      <td>84</td>\n",
       "      <td>71</td>\n",
       "      <td>79</td>\n",
       "      <td>62</td>\n",
       "      <td>50</td>\n",
       "      <td>74</td>\n",
       "      <td>81</td>\n",
       "      <td>78</td>\n",
       "      <td>64</td>\n",
       "      <td>74</td>\n",
       "    </tr>\n",
       "  </tbody>\n",
       "</table>\n",
       "</div>"
      ],
      "text/plain": [
       "      Jan  Feb  Mar  Apr  May  Jun  Jul  Aug  Sep  Oct  Nov  Dec\n",
       "Year                                                            \n",
       "2011   45   44   57   60   47   54   70   69   52   60   50   48\n",
       "2012   38   43   52   62   71   59   50   56   68   73   69   46\n",
       "2013   62   52   60   48   56   61   53   61   73   61   75   61\n",
       "2014   68   44   71   72   79   62   50   74   81   78   64   74\n",
       "2015   75   80   84   71   79   62   50   74   81   78   64   74"
      ]
     },
     "execution_count": 92,
     "metadata": {},
     "output_type": "execute_result"
    }
   ],
   "source": [
    "glb_temp_df.tail()"
   ]
  },
  {
   "cell_type": "code",
   "execution_count": 97,
   "metadata": {
    "collapsed": false
   },
   "outputs": [
    {
     "data": {
      "text/plain": [
       "Year\n",
       "1880   -260\n",
       "1881   -171\n",
       "1882   -207\n",
       "1883   -239\n",
       "1884   -333\n",
       "dtype: int64"
      ]
     },
     "execution_count": 97,
     "metadata": {},
     "output_type": "execute_result"
    }
   ],
   "source": [
    "glb_temp_df.sum(axis=1).head()"
   ]
  },
  {
   "cell_type": "code",
   "execution_count": 98,
   "metadata": {
    "collapsed": false
   },
   "outputs": [
    {
     "data": {
      "text/plain": [
       "Jan   -192\n",
       "Feb    -22\n",
       "Mar    176\n",
       "Apr   -112\n",
       "May   -198\n",
       "dtype: int64"
      ]
     },
     "execution_count": 98,
     "metadata": {},
     "output_type": "execute_result"
    }
   ],
   "source": [
    "glb_temp_df.sum(axis=0).head()"
   ]
  },
  {
   "cell_type": "markdown",
   "metadata": {},
   "source": [
    "###Exploring groupby functionality"
   ]
  },
  {
   "cell_type": "code",
   "execution_count": 100,
   "metadata": {
    "collapsed": false
   },
   "outputs": [
    {
     "data": {
      "text/html": [
       "<div>\n",
       "<table border=\"1\" class=\"dataframe\">\n",
       "  <thead>\n",
       "    <tr style=\"text-align: right;\">\n",
       "      <th></th>\n",
       "      <th>STATE/UT</th>\n",
       "      <th>DISTRICT</th>\n",
       "      <th>JAN</th>\n",
       "      <th>FEB</th>\n",
       "      <th>MAR</th>\n",
       "      <th>APR</th>\n",
       "      <th>MAY</th>\n",
       "      <th>JUN</th>\n",
       "      <th>JUL</th>\n",
       "      <th>AUG</th>\n",
       "      <th>SEP</th>\n",
       "      <th>OCT</th>\n",
       "      <th>NOV</th>\n",
       "      <th>DEC</th>\n",
       "      <th>ANNUAL</th>\n",
       "      <th>JAN+FEB</th>\n",
       "      <th>MAM</th>\n",
       "      <th>JJAS</th>\n",
       "      <th>OND</th>\n",
       "    </tr>\n",
       "  </thead>\n",
       "  <tbody>\n",
       "    <tr>\n",
       "      <th>0</th>\n",
       "      <td>ANDAMAN And NICOBAR ISLANDS</td>\n",
       "      <td>NICOBAR</td>\n",
       "      <td>107.3</td>\n",
       "      <td>57.9</td>\n",
       "      <td>65.2</td>\n",
       "      <td>117.0</td>\n",
       "      <td>358.5</td>\n",
       "      <td>295.5</td>\n",
       "      <td>285.0</td>\n",
       "      <td>271.9</td>\n",
       "      <td>354.8</td>\n",
       "      <td>326.0</td>\n",
       "      <td>315.2</td>\n",
       "      <td>250.9</td>\n",
       "      <td>2805.2</td>\n",
       "      <td>165.2</td>\n",
       "      <td>540.7</td>\n",
       "      <td>1207.2</td>\n",
       "      <td>892.1</td>\n",
       "    </tr>\n",
       "    <tr>\n",
       "      <th>1</th>\n",
       "      <td>ANDAMAN And NICOBAR ISLANDS</td>\n",
       "      <td>SOUTH ANDAMAN</td>\n",
       "      <td>43.7</td>\n",
       "      <td>26.0</td>\n",
       "      <td>18.6</td>\n",
       "      <td>90.5</td>\n",
       "      <td>374.4</td>\n",
       "      <td>457.2</td>\n",
       "      <td>421.3</td>\n",
       "      <td>423.1</td>\n",
       "      <td>455.6</td>\n",
       "      <td>301.2</td>\n",
       "      <td>275.8</td>\n",
       "      <td>128.3</td>\n",
       "      <td>3015.7</td>\n",
       "      <td>69.7</td>\n",
       "      <td>483.5</td>\n",
       "      <td>1757.2</td>\n",
       "      <td>705.3</td>\n",
       "    </tr>\n",
       "  </tbody>\n",
       "</table>\n",
       "</div>"
      ],
      "text/plain": [
       "                      STATE/UT       DISTRICT    JAN   FEB   MAR    APR  \\\n",
       "0  ANDAMAN And NICOBAR ISLANDS        NICOBAR  107.3  57.9  65.2  117.0   \n",
       "1  ANDAMAN And NICOBAR ISLANDS  SOUTH ANDAMAN   43.7  26.0  18.6   90.5   \n",
       "\n",
       "     MAY    JUN    JUL    AUG    SEP    OCT    NOV    DEC  ANNUAL  JAN+FEB  \\\n",
       "0  358.5  295.5  285.0  271.9  354.8  326.0  315.2  250.9  2805.2    165.2   \n",
       "1  374.4  457.2  421.3  423.1  455.6  301.2  275.8  128.3  3015.7     69.7   \n",
       "\n",
       "     MAM    JJAS    OND  \n",
       "0  540.7  1207.2  892.1  \n",
       "1  483.5  1757.2  705.3  "
      ]
     },
     "execution_count": 100,
     "metadata": {},
     "output_type": "execute_result"
    }
   ],
   "source": [
    "# Let us take the rain fall data\n",
    "data.head(2)"
   ]
  },
  {
   "cell_type": "code",
   "execution_count": 102,
   "metadata": {
    "collapsed": true
   },
   "outputs": [],
   "source": [
    "# first create the group by object\n",
    "data_gb = data.groupby(\"STATE/UT\")"
   ]
  },
  {
   "cell_type": "code",
   "execution_count": 103,
   "metadata": {
    "collapsed": false
   },
   "outputs": [
    {
     "data": {
      "text/plain": [
       "pandas.core.groupby.DataFrameGroupBy"
      ]
     },
     "execution_count": 103,
     "metadata": {},
     "output_type": "execute_result"
    }
   ],
   "source": [
    "type(data_gb)"
   ]
  },
  {
   "cell_type": "code",
   "execution_count": 513,
   "metadata": {
    "collapsed": false
   },
   "outputs": [
    {
     "data": {
      "text/plain": [
       "34"
      ]
     },
     "execution_count": 513,
     "metadata": {},
     "output_type": "execute_result"
    }
   ],
   "source": [
    "len(data_gb)"
   ]
  },
  {
   "cell_type": "code",
   "execution_count": 517,
   "metadata": {
    "collapsed": false
   },
   "outputs": [
    {
     "data": {
      "text/plain": [
       "34"
      ]
     },
     "execution_count": 517,
     "metadata": {},
     "output_type": "execute_result"
    }
   ],
   "source": [
    "len(data[\"STATE/UT\"].unique())"
   ]
  },
  {
   "cell_type": "code",
   "execution_count": 104,
   "metadata": {
    "collapsed": false
   },
   "outputs": [
    {
     "name": "stdout",
     "output_type": "stream",
     "text": [
      "ANDAMAN And NICOBAR ISLANDS\n",
      "ANDHRA PRADESH\n",
      "ARUNACHAL PRADESH\n",
      "ASSAM\n",
      "BIHAR\n",
      "CHANDIGARH\n",
      "CHATISGARH\n",
      "DADAR NAGAR HAVELI\n",
      "DAMAN AND DUI\n",
      "DELHI\n",
      "GOA\n",
      "GUJARAT\n",
      "HARYANA\n",
      "HIMACHAL\n",
      "JAMMU AND KASHMIR\n",
      "JHARKHAND\n",
      "KARNATAKA\n",
      "KERALA\n",
      "MADHYA PRADESH\n",
      "MAHARASHTRA\n",
      "MANIPUR\n",
      "MEGHALAYA\n",
      "MIZORAM\n",
      "NAGALAND\n",
      "ORISSA\n",
      "PONDICHERRY\n",
      "PUNJAB\n",
      "RAJASTHAN\n",
      "SIKKIM\n",
      "TAMIL NADU\n",
      "TRIPURA\n",
      "UTTAR PRADESH\n",
      "UTTARANCHAL\n",
      "WEST BENGAL\n"
     ]
    }
   ],
   "source": [
    "for name,group in data_gb:\n",
    "    print(name)"
   ]
  },
  {
   "cell_type": "code",
   "execution_count": 105,
   "metadata": {
    "collapsed": false,
    "scrolled": true
   },
   "outputs": [
    {
     "data": {
      "text/plain": [
       "pandas.core.frame.DataFrame"
      ]
     },
     "execution_count": 105,
     "metadata": {},
     "output_type": "execute_result"
    }
   ],
   "source": [
    "#gettig one groups data\n",
    "type(data_gb.get_group(\"KARNATAKA\"))"
   ]
  },
  {
   "cell_type": "code",
   "execution_count": 108,
   "metadata": {
    "collapsed": false
   },
   "outputs": [],
   "source": [
    "data_gb_mean = data_gb.mean()"
   ]
  },
  {
   "cell_type": "code",
   "execution_count": 109,
   "metadata": {
    "collapsed": false
   },
   "outputs": [
    {
     "data": {
      "text/plain": [
       "pandas.core.frame.DataFrame"
      ]
     },
     "execution_count": 109,
     "metadata": {},
     "output_type": "execute_result"
    }
   ],
   "source": [
    "type(data_gb_mean)"
   ]
  },
  {
   "cell_type": "code",
   "execution_count": 111,
   "metadata": {
    "collapsed": false
   },
   "outputs": [
    {
     "data": {
      "text/html": [
       "<div>\n",
       "<table border=\"1\" class=\"dataframe\">\n",
       "  <thead>\n",
       "    <tr style=\"text-align: right;\">\n",
       "      <th></th>\n",
       "      <th>JAN</th>\n",
       "      <th>FEB</th>\n",
       "      <th>MAR</th>\n",
       "      <th>APR</th>\n",
       "      <th>MAY</th>\n",
       "      <th>JUN</th>\n",
       "      <th>JUL</th>\n",
       "      <th>AUG</th>\n",
       "      <th>SEP</th>\n",
       "      <th>OCT</th>\n",
       "      <th>NOV</th>\n",
       "      <th>DEC</th>\n",
       "      <th>ANNUAL</th>\n",
       "      <th>JAN+FEB</th>\n",
       "      <th>MAM</th>\n",
       "      <th>JJAS</th>\n",
       "      <th>OND</th>\n",
       "    </tr>\n",
       "    <tr>\n",
       "      <th>STATE/UT</th>\n",
       "      <th></th>\n",
       "      <th></th>\n",
       "      <th></th>\n",
       "      <th></th>\n",
       "      <th></th>\n",
       "      <th></th>\n",
       "      <th></th>\n",
       "      <th></th>\n",
       "      <th></th>\n",
       "      <th></th>\n",
       "      <th></th>\n",
       "      <th></th>\n",
       "      <th></th>\n",
       "      <th></th>\n",
       "      <th></th>\n",
       "      <th></th>\n",
       "      <th></th>\n",
       "    </tr>\n",
       "  </thead>\n",
       "  <tbody>\n",
       "    <tr>\n",
       "      <th>ANDAMAN And NICOBAR ISLANDS</th>\n",
       "      <td>61.233333</td>\n",
       "      <td>33.266667</td>\n",
       "      <td>30.800000</td>\n",
       "      <td>86.966667</td>\n",
       "      <td>358.833333</td>\n",
       "      <td>418.666667</td>\n",
       "      <td>390.566667</td>\n",
       "      <td>385.300000</td>\n",
       "      <td>421.733333</td>\n",
       "      <td>301.1</td>\n",
       "      <td>263.200000</td>\n",
       "      <td>159.733333</td>\n",
       "      <td>2911.400000</td>\n",
       "      <td>94.500000</td>\n",
       "      <td>476.600000</td>\n",
       "      <td>1616.266667</td>\n",
       "      <td>724.033333</td>\n",
       "    </tr>\n",
       "    <tr>\n",
       "      <th>ANDHRA PRADESH</th>\n",
       "      <td>6.321739</td>\n",
       "      <td>7.352174</td>\n",
       "      <td>10.095652</td>\n",
       "      <td>19.873913</td>\n",
       "      <td>48.765217</td>\n",
       "      <td>114.369565</td>\n",
       "      <td>185.365217</td>\n",
       "      <td>179.426087</td>\n",
       "      <td>160.373913</td>\n",
       "      <td>138.6</td>\n",
       "      <td>58.965217</td>\n",
       "      <td>15.565217</td>\n",
       "      <td>945.073913</td>\n",
       "      <td>13.673913</td>\n",
       "      <td>78.734783</td>\n",
       "      <td>639.534783</td>\n",
       "      <td>213.130435</td>\n",
       "    </tr>\n",
       "  </tbody>\n",
       "</table>\n",
       "</div>"
      ],
      "text/plain": [
       "                                   JAN        FEB        MAR        APR  \\\n",
       "STATE/UT                                                                  \n",
       "ANDAMAN And NICOBAR ISLANDS  61.233333  33.266667  30.800000  86.966667   \n",
       "ANDHRA PRADESH                6.321739   7.352174  10.095652  19.873913   \n",
       "\n",
       "                                    MAY         JUN         JUL         AUG  \\\n",
       "STATE/UT                                                                      \n",
       "ANDAMAN And NICOBAR ISLANDS  358.833333  418.666667  390.566667  385.300000   \n",
       "ANDHRA PRADESH                48.765217  114.369565  185.365217  179.426087   \n",
       "\n",
       "                                    SEP    OCT         NOV         DEC  \\\n",
       "STATE/UT                                                                 \n",
       "ANDAMAN And NICOBAR ISLANDS  421.733333  301.1  263.200000  159.733333   \n",
       "ANDHRA PRADESH               160.373913  138.6   58.965217   15.565217   \n",
       "\n",
       "                                  ANNUAL    JAN+FEB         MAM         JJAS  \\\n",
       "STATE/UT                                                                       \n",
       "ANDAMAN And NICOBAR ISLANDS  2911.400000  94.500000  476.600000  1616.266667   \n",
       "ANDHRA PRADESH                945.073913  13.673913   78.734783   639.534783   \n",
       "\n",
       "                                    OND  \n",
       "STATE/UT                                 \n",
       "ANDAMAN And NICOBAR ISLANDS  724.033333  \n",
       "ANDHRA PRADESH               213.130435  "
      ]
     },
     "execution_count": 111,
     "metadata": {},
     "output_type": "execute_result"
    }
   ],
   "source": [
    "data_gb_mean.head(2)"
   ]
  },
  {
   "cell_type": "code",
   "execution_count": null,
   "metadata": {
    "collapsed": true
   },
   "outputs": [],
   "source": []
  },
  {
   "cell_type": "code",
   "execution_count": 114,
   "metadata": {
    "collapsed": false
   },
   "outputs": [
    {
     "data": {
      "image/png": "[encoded data removed]",
      "text/plain": [
       "<matplotlib.figure.Figure at 0x7fc765944750>"
      ]
     },
     "metadata": {},
     "output_type": "display_data"
    }
   ],
   "source": [
    "months_q1 = [\"JAN\",\"FEB\",\"MAR\"]\n",
    "months_q2 = [\"APR\",\"MAY\",\"JUN\"]\n",
    "months_q3 = [\"JUL\",\"AUG\",\"SEP\"]\n",
    "months_q4 = [\"OCT\",\"NOV\",\"DEC\"]\n",
    "#months = [\"MAR\",\"JUN\",\"SEP\",\"DEC\"]\n",
    "ax= data_gb[months_q4].sum().plot(figsize=(20,8),kind='bar',subplots=True,legend=False,ylim=(0,6500))"
   ]
  },
  {
   "cell_type": "code",
   "execution_count": 123,
   "metadata": {
    "collapsed": false
   },
   "outputs": [],
   "source": [
    "data_gb_quarter = data_gb.sum()"
   ]
  },
  {
   "cell_type": "code",
   "execution_count": 125,
   "metadata": {
    "collapsed": false
   },
   "outputs": [],
   "source": [
    "quarters = {'Q1':months_q1,'Q2':months_q2,'Q3':months_q3,'Q4':months_q4}\n",
    "for quarter in quarters:\n",
    "    #print quarters[quarter]\n",
    "    data_gb_quarter[quarter] = (data_gb_quarter[quarters[quarter]]).mean(axis=1)"
   ]
  },
  {
   "cell_type": "code",
   "execution_count": 127,
   "metadata": {
    "collapsed": false
   },
   "outputs": [
    {
     "data": {
      "text/html": [
       "<div>\n",
       "<table border=\"1\" class=\"dataframe\">\n",
       "  <thead>\n",
       "    <tr style=\"text-align: right;\">\n",
       "      <th></th>\n",
       "      <th>Q1</th>\n",
       "      <th>Q2</th>\n",
       "      <th>Q3</th>\n",
       "      <th>Q4</th>\n",
       "    </tr>\n",
       "    <tr>\n",
       "      <th>STATE/UT</th>\n",
       "      <th></th>\n",
       "      <th></th>\n",
       "      <th></th>\n",
       "      <th></th>\n",
       "    </tr>\n",
       "  </thead>\n",
       "  <tbody>\n",
       "    <tr>\n",
       "      <th>ANDAMAN And NICOBAR ISLANDS</th>\n",
       "      <td>125.300000</td>\n",
       "      <td>864.466667</td>\n",
       "      <td>1197.600000</td>\n",
       "      <td>724.033333</td>\n",
       "    </tr>\n",
       "    <tr>\n",
       "      <th>ANDHRA PRADESH</th>\n",
       "      <td>182.233333</td>\n",
       "      <td>1403.066667</td>\n",
       "      <td>4026.266667</td>\n",
       "      <td>1634.000000</td>\n",
       "    </tr>\n",
       "    <tr>\n",
       "      <th>ARUNACHAL PRADESH</th>\n",
       "      <td>1664.000000</td>\n",
       "      <td>5689.633333</td>\n",
       "      <td>6894.166667</td>\n",
       "      <td>1364.866667</td>\n",
       "    </tr>\n",
       "    <tr>\n",
       "      <th>ASSAM</th>\n",
       "      <td>1126.900000</td>\n",
       "      <td>8822.900000</td>\n",
       "      <td>10584.133333</td>\n",
       "      <td>1555.300000</td>\n",
       "    </tr>\n",
       "    <tr>\n",
       "      <th>BIHAR</th>\n",
       "      <td>408.966667</td>\n",
       "      <td>3006.066667</td>\n",
       "      <td>10813.500000</td>\n",
       "      <td>978.500000</td>\n",
       "    </tr>\n",
       "  </tbody>\n",
       "</table>\n",
       "</div>"
      ],
      "text/plain": [
       "                                      Q1           Q2            Q3  \\\n",
       "STATE/UT                                                              \n",
       "ANDAMAN And NICOBAR ISLANDS   125.300000   864.466667   1197.600000   \n",
       "ANDHRA PRADESH                182.233333  1403.066667   4026.266667   \n",
       "ARUNACHAL PRADESH            1664.000000  5689.633333   6894.166667   \n",
       "ASSAM                        1126.900000  8822.900000  10584.133333   \n",
       "BIHAR                         408.966667  3006.066667  10813.500000   \n",
       "\n",
       "                                      Q4  \n",
       "STATE/UT                                  \n",
       "ANDAMAN And NICOBAR ISLANDS   724.033333  \n",
       "ANDHRA PRADESH               1634.000000  \n",
       "ARUNACHAL PRADESH            1364.866667  \n",
       "ASSAM                        1555.300000  \n",
       "BIHAR                         978.500000  "
      ]
     },
     "execution_count": 127,
     "metadata": {},
     "output_type": "execute_result"
    }
   ],
   "source": [
    "data_gb_quarter[['Q1','Q2','Q3','Q4']].head()"
   ]
  },
  {
   "cell_type": "code",
   "execution_count": 130,
   "metadata": {
    "collapsed": false
   },
   "outputs": [
    {
     "data": {
      "image/png": "[encoded data removed]",
      "text/plain": [
       "<matplotlib.figure.Figure at 0x7fc765a46610>"
      ]
     },
     "metadata": {},
     "output_type": "display_data"
    }
   ],
   "source": [
    "ax = data_gb_quarter[['Q1','Q2','Q3','Q4']].plot(kind='bar',figsize=(16,6))"
   ]
  },
  {
   "cell_type": "code",
   "execution_count": null,
   "metadata": {
    "collapsed": true
   },
   "outputs": [],
   "source": []
  },
  {
   "cell_type": "code",
   "execution_count": null,
   "metadata": {
    "collapsed": true
   },
   "outputs": [],
   "source": []
  },
  {
   "cell_type": "code",
   "execution_count": null,
   "metadata": {
    "collapsed": true
   },
   "outputs": [],
   "source": []
  },
  {
   "cell_type": "code",
   "execution_count": null,
   "metadata": {
    "collapsed": true
   },
   "outputs": [],
   "source": []
  },
  {
   "cell_type": "code",
   "execution_count": null,
   "metadata": {
    "collapsed": true
   },
   "outputs": [],
   "source": []
  }
 ],
 "metadata": {
  "kernelspec": {
   "display_name": "Python 2",
   "language": "python",
   "name": "python2"
  },
  "language_info": {
   "codemirror_mode": {
    "name": "ipython",
    "version": 2
   },
   "file_extension": ".py",
   "mimetype": "text/x-python",
   "name": "python",
   "nbconvert_exporter": "python",
   "pygments_lexer": "ipython2",
   "version": "2.7.10"
  }
 },
 "nbformat": 4,
 "nbformat_minor": 0
}
