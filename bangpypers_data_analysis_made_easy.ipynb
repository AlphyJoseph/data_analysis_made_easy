{
 "cells": [
  {
   "cell_type": "markdown",
   "metadata": {},
   "source": [
    "# Data Analysis made easy"
   ]
  },
  {
   "cell_type": "code",
   "execution_count": 1,
   "metadata": {
    "collapsed": true
   },
   "outputs": [],
   "source": [
    "import numpy as np\n",
    "import pandas as pd\n",
    "import matplotlib.pyplot as plt\n",
    "%matplotlib inline"
   ]
  },
  {
   "cell_type": "markdown",
   "metadata": {},
   "source": [
    "### Reading data using read_html"
   ]
  },
  {
   "cell_type": "markdown",
   "metadata": {},
   "source": [
    "#### read_html will be handy when you want to extract the table data from html page. read_html will result a list containing one dataframe for each table in the html page"
   ]
  },
  {
   "cell_type": "code",
   "execution_count": 7,
   "metadata": {
    "collapsed": false
   },
   "outputs": [],
   "source": [
    "auto_sales_url = \"http://www.siamindia.com/statistics.aspx?mpgid=8&pgidtrail=14\"\n",
    "table_list = pd.read_html(auto_sales_url,header=0)\n",
    "auto_sales_df = table_list[0]"
   ]
  },
  {
   "cell_type": "code",
   "execution_count": 8,
   "metadata": {
    "collapsed": false
   },
   "outputs": [
    {
     "data": {
      "text/plain": [
       "1"
      ]
     },
     "execution_count": 8,
     "metadata": {},
     "output_type": "execute_result"
    }
   ],
   "source": [
    "len(table_list)"
   ]
  },
  {
   "cell_type": "code",
   "execution_count": 9,
   "metadata": {
    "collapsed": false
   },
   "outputs": [
    {
     "data": {
      "text/html": [
       "<div>\n",
       "<table border=\"1\" class=\"dataframe\">\n",
       "  <thead>\n",
       "    <tr style=\"text-align: right;\">\n",
       "      <th></th>\n",
       "      <th>Category</th>\n",
       "      <th>2009-10</th>\n",
       "      <th>2010-11</th>\n",
       "      <th>2011-12</th>\n",
       "      <th>2012-13</th>\n",
       "      <th>2013-14</th>\n",
       "      <th>2014-15</th>\n",
       "    </tr>\n",
       "  </thead>\n",
       "  <tbody>\n",
       "    <tr>\n",
       "      <th>0</th>\n",
       "      <td>Passenger Vehicles</td>\n",
       "      <td>1951333</td>\n",
       "      <td>2501542</td>\n",
       "      <td>2629839</td>\n",
       "      <td>2665015</td>\n",
       "      <td>2503509</td>\n",
       "      <td>2601111</td>\n",
       "    </tr>\n",
       "    <tr>\n",
       "      <th>1</th>\n",
       "      <td>Commercial Vehicles</td>\n",
       "      <td>532721</td>\n",
       "      <td>684905</td>\n",
       "      <td>809499</td>\n",
       "      <td>793211</td>\n",
       "      <td>632851</td>\n",
       "      <td>614961</td>\n",
       "    </tr>\n",
       "    <tr>\n",
       "      <th>2</th>\n",
       "      <td>Three Wheelers</td>\n",
       "      <td>440392</td>\n",
       "      <td>526024</td>\n",
       "      <td>513281</td>\n",
       "      <td>538290</td>\n",
       "      <td>480085</td>\n",
       "      <td>531927</td>\n",
       "    </tr>\n",
       "    <tr>\n",
       "      <th>3</th>\n",
       "      <td>Two Wheelers</td>\n",
       "      <td>9370951</td>\n",
       "      <td>11768910</td>\n",
       "      <td>13409150</td>\n",
       "      <td>13797185</td>\n",
       "      <td>14806778</td>\n",
       "      <td>16004581</td>\n",
       "    </tr>\n",
       "    <tr>\n",
       "      <th>4</th>\n",
       "      <td>Grand Total</td>\n",
       "      <td>12295397</td>\n",
       "      <td>15481381</td>\n",
       "      <td>17361769</td>\n",
       "      <td>17793701</td>\n",
       "      <td>18423223</td>\n",
       "      <td>19752580</td>\n",
       "    </tr>\n",
       "  </tbody>\n",
       "</table>\n",
       "</div>"
      ],
      "text/plain": [
       "              Category   2009-10   2010-11   2011-12   2012-13   2013-14  \\\n",
       "0   Passenger Vehicles   1951333   2501542   2629839   2665015   2503509   \n",
       "1  Commercial Vehicles    532721    684905    809499    793211    632851   \n",
       "2       Three Wheelers    440392    526024    513281    538290    480085   \n",
       "3         Two Wheelers   9370951  11768910  13409150  13797185  14806778   \n",
       "4          Grand Total  12295397  15481381  17361769  17793701  18423223   \n",
       "\n",
       "    2014-15  \n",
       "0   2601111  \n",
       "1    614961  \n",
       "2    531927  \n",
       "3  16004581  \n",
       "4  19752580  "
      ]
     },
     "execution_count": 9,
     "metadata": {},
     "output_type": "execute_result"
    }
   ],
   "source": [
    "auto_sales_df.head()"
   ]
  },
  {
   "cell_type": "code",
   "execution_count": 10,
   "metadata": {
    "collapsed": false
   },
   "outputs": [],
   "source": [
    "auto_sales_df = auto_sales_df.set_index(\"Category\")"
   ]
  },
  {
   "cell_type": "code",
   "execution_count": 11,
   "metadata": {
    "collapsed": false
   },
   "outputs": [
    {
     "data": {
      "text/html": [
       "<div>\n",
       "<table border=\"1\" class=\"dataframe\">\n",
       "  <thead>\n",
       "    <tr style=\"text-align: right;\">\n",
       "      <th></th>\n",
       "      <th>2009-10</th>\n",
       "      <th>2010-11</th>\n",
       "      <th>2011-12</th>\n",
       "      <th>2012-13</th>\n",
       "      <th>2013-14</th>\n",
       "      <th>2014-15</th>\n",
       "    </tr>\n",
       "    <tr>\n",
       "      <th>Category</th>\n",
       "      <th></th>\n",
       "      <th></th>\n",
       "      <th></th>\n",
       "      <th></th>\n",
       "      <th></th>\n",
       "      <th></th>\n",
       "    </tr>\n",
       "  </thead>\n",
       "  <tbody>\n",
       "    <tr>\n",
       "      <th>Passenger Vehicles</th>\n",
       "      <td>1951333</td>\n",
       "      <td>2501542</td>\n",
       "      <td>2629839</td>\n",
       "      <td>2665015</td>\n",
       "      <td>2503509</td>\n",
       "      <td>2601111</td>\n",
       "    </tr>\n",
       "    <tr>\n",
       "      <th>Commercial Vehicles</th>\n",
       "      <td>532721</td>\n",
       "      <td>684905</td>\n",
       "      <td>809499</td>\n",
       "      <td>793211</td>\n",
       "      <td>632851</td>\n",
       "      <td>614961</td>\n",
       "    </tr>\n",
       "    <tr>\n",
       "      <th>Three Wheelers</th>\n",
       "      <td>440392</td>\n",
       "      <td>526024</td>\n",
       "      <td>513281</td>\n",
       "      <td>538290</td>\n",
       "      <td>480085</td>\n",
       "      <td>531927</td>\n",
       "    </tr>\n",
       "    <tr>\n",
       "      <th>Two Wheelers</th>\n",
       "      <td>9370951</td>\n",
       "      <td>11768910</td>\n",
       "      <td>13409150</td>\n",
       "      <td>13797185</td>\n",
       "      <td>14806778</td>\n",
       "      <td>16004581</td>\n",
       "    </tr>\n",
       "    <tr>\n",
       "      <th>Grand Total</th>\n",
       "      <td>12295397</td>\n",
       "      <td>15481381</td>\n",
       "      <td>17361769</td>\n",
       "      <td>17793701</td>\n",
       "      <td>18423223</td>\n",
       "      <td>19752580</td>\n",
       "    </tr>\n",
       "  </tbody>\n",
       "</table>\n",
       "</div>"
      ],
      "text/plain": [
       "                      2009-10   2010-11   2011-12   2012-13   2013-14  \\\n",
       "Category                                                                \n",
       "Passenger Vehicles    1951333   2501542   2629839   2665015   2503509   \n",
       "Commercial Vehicles    532721    684905    809499    793211    632851   \n",
       "Three Wheelers         440392    526024    513281    538290    480085   \n",
       "Two Wheelers          9370951  11768910  13409150  13797185  14806778   \n",
       "Grand Total          12295397  15481381  17361769  17793701  18423223   \n",
       "\n",
       "                      2014-15  \n",
       "Category                       \n",
       "Passenger Vehicles    2601111  \n",
       "Commercial Vehicles    614961  \n",
       "Three Wheelers         531927  \n",
       "Two Wheelers         16004581  \n",
       "Grand Total          19752580  "
      ]
     },
     "execution_count": 11,
     "metadata": {},
     "output_type": "execute_result"
    }
   ],
   "source": [
    "auto_sales_df.head()"
   ]
  },
  {
   "cell_type": "code",
   "execution_count": 12,
   "metadata": {
    "collapsed": false
   },
   "outputs": [
    {
     "data": {
      "text/plain": [
       "(5, 6)"
      ]
     },
     "execution_count": 12,
     "metadata": {},
     "output_type": "execute_result"
    }
   ],
   "source": [
    "# finding the shape of the data frame ( rows,  columns)\n",
    "auto_sales_df.shape"
   ]
  },
  {
   "cell_type": "code",
   "execution_count": 13,
   "metadata": {
    "collapsed": false
   },
   "outputs": [
    {
     "data": {
      "text/plain": [
       "Category\n",
       "Passenger Vehicles      1951333\n",
       "Commercial Vehicles      532721\n",
       "Three Wheelers           440392\n",
       "Two Wheelers            9370951\n",
       "Grand Total            12295397\n",
       "Name: 2009-10, dtype: int64"
      ]
     },
     "execution_count": 13,
     "metadata": {},
     "output_type": "execute_result"
    }
   ],
   "source": [
    "# extractig the column data\n",
    "auto_sales_df[\"2009-10\"]"
   ]
  },
  {
   "cell_type": "code",
   "execution_count": 14,
   "metadata": {
    "collapsed": false
   },
   "outputs": [
    {
     "data": {
      "text/html": [
       "<div>\n",
       "<table border=\"1\" class=\"dataframe\">\n",
       "  <thead>\n",
       "    <tr style=\"text-align: right;\">\n",
       "      <th></th>\n",
       "      <th>2009-10</th>\n",
       "      <th>2010-11</th>\n",
       "      <th>2011-12</th>\n",
       "      <th>2012-13</th>\n",
       "      <th>2013-14</th>\n",
       "      <th>2014-15</th>\n",
       "    </tr>\n",
       "    <tr>\n",
       "      <th>Category</th>\n",
       "      <th></th>\n",
       "      <th></th>\n",
       "      <th></th>\n",
       "      <th></th>\n",
       "      <th></th>\n",
       "      <th></th>\n",
       "    </tr>\n",
       "  </thead>\n",
       "  <tbody>\n",
       "    <tr>\n",
       "      <th>Passenger Vehicles</th>\n",
       "      <td>1951333</td>\n",
       "      <td>2501542</td>\n",
       "      <td>2629839</td>\n",
       "      <td>2665015</td>\n",
       "      <td>2503509</td>\n",
       "      <td>2601111</td>\n",
       "    </tr>\n",
       "    <tr>\n",
       "      <th>Commercial Vehicles</th>\n",
       "      <td>532721</td>\n",
       "      <td>684905</td>\n",
       "      <td>809499</td>\n",
       "      <td>793211</td>\n",
       "      <td>632851</td>\n",
       "      <td>614961</td>\n",
       "    </tr>\n",
       "    <tr>\n",
       "      <th>Three Wheelers</th>\n",
       "      <td>440392</td>\n",
       "      <td>526024</td>\n",
       "      <td>513281</td>\n",
       "      <td>538290</td>\n",
       "      <td>480085</td>\n",
       "      <td>531927</td>\n",
       "    </tr>\n",
       "    <tr>\n",
       "      <th>Two Wheelers</th>\n",
       "      <td>9370951</td>\n",
       "      <td>11768910</td>\n",
       "      <td>13409150</td>\n",
       "      <td>13797185</td>\n",
       "      <td>14806778</td>\n",
       "      <td>16004581</td>\n",
       "    </tr>\n",
       "    <tr>\n",
       "      <th>Grand Total</th>\n",
       "      <td>12295397</td>\n",
       "      <td>15481381</td>\n",
       "      <td>17361769</td>\n",
       "      <td>17793701</td>\n",
       "      <td>18423223</td>\n",
       "      <td>19752580</td>\n",
       "    </tr>\n",
       "  </tbody>\n",
       "</table>\n",
       "</div>"
      ],
      "text/plain": [
       "                      2009-10   2010-11   2011-12   2012-13   2013-14  \\\n",
       "Category                                                                \n",
       "Passenger Vehicles    1951333   2501542   2629839   2665015   2503509   \n",
       "Commercial Vehicles    532721    684905    809499    793211    632851   \n",
       "Three Wheelers         440392    526024    513281    538290    480085   \n",
       "Two Wheelers          9370951  11768910  13409150  13797185  14806778   \n",
       "Grand Total          12295397  15481381  17361769  17793701  18423223   \n",
       "\n",
       "                      2014-15  \n",
       "Category                       \n",
       "Passenger Vehicles    2601111  \n",
       "Commercial Vehicles    614961  \n",
       "Three Wheelers         531927  \n",
       "Two Wheelers         16004581  \n",
       "Grand Total          19752580  "
      ]
     },
     "execution_count": 14,
     "metadata": {},
     "output_type": "execute_result"
    }
   ],
   "source": [
    "auto_sales_df.head()"
   ]
  },
  {
   "cell_type": "code",
   "execution_count": 15,
   "metadata": {
    "collapsed": false
   },
   "outputs": [
    {
     "data": {
      "text/plain": [
       "Index([u'Passenger Vehicles', u'Commercial Vehicles', u'Three Wheelers',\n",
       "       u'Two Wheelers', u'Grand Total'],\n",
       "      dtype='object', name=u'Category')"
      ]
     },
     "execution_count": 15,
     "metadata": {},
     "output_type": "execute_result"
    }
   ],
   "source": [
    "auto_sales_df.index"
   ]
  },
  {
   "cell_type": "code",
   "execution_count": 16,
   "metadata": {
    "collapsed": false
   },
   "outputs": [
    {
     "data": {
      "text/plain": [
       "Index([u'2009-10', u'2010-11', u'2011-12', u'2012-13', u'2013-14', u'2014-15'], dtype='object')"
      ]
     },
     "execution_count": 16,
     "metadata": {},
     "output_type": "execute_result"
    }
   ],
   "source": [
    "auto_sales_df.columns"
   ]
  },
  {
   "cell_type": "code",
   "execution_count": 17,
   "metadata": {
    "collapsed": false
   },
   "outputs": [
    {
     "data": {
      "text/plain": [
       "2009-10    1951333\n",
       "2010-11    2501542\n",
       "2011-12    2629839\n",
       "2012-13    2665015\n",
       "2013-14    2503509\n",
       "2014-15    2601111\n",
       "Name: Passenger Vehicles, dtype: int64"
      ]
     },
     "execution_count": 17,
     "metadata": {},
     "output_type": "execute_result"
    }
   ],
   "source": [
    "# extracting the row data\n",
    "auto_sales_df.loc[\"Passenger Vehicles\"]"
   ]
  },
  {
   "cell_type": "code",
   "execution_count": 18,
   "metadata": {
    "collapsed": false
   },
   "outputs": [
    {
     "data": {
      "text/plain": [
       "2009-10    int64\n",
       "2010-11    int64\n",
       "2011-12    int64\n",
       "2012-13    int64\n",
       "2013-14    int64\n",
       "2014-15    int64\n",
       "dtype: object"
      ]
     },
     "execution_count": 18,
     "metadata": {},
     "output_type": "execute_result"
    }
   ],
   "source": [
    "auto_sales_df.dtypes"
   ]
  },
  {
   "cell_type": "code",
   "execution_count": 19,
   "metadata": {
    "collapsed": false
   },
   "outputs": [
    {
     "data": {
      "text/html": [
       "<div>\n",
       "<table border=\"1\" class=\"dataframe\">\n",
       "  <thead>\n",
       "    <tr style=\"text-align: right;\">\n",
       "      <th></th>\n",
       "      <th>2009-10</th>\n",
       "      <th>2010-11</th>\n",
       "      <th>2011-12</th>\n",
       "      <th>2012-13</th>\n",
       "      <th>2013-14</th>\n",
       "      <th>2014-15</th>\n",
       "    </tr>\n",
       "    <tr>\n",
       "      <th>Category</th>\n",
       "      <th></th>\n",
       "      <th></th>\n",
       "      <th></th>\n",
       "      <th></th>\n",
       "      <th></th>\n",
       "      <th></th>\n",
       "    </tr>\n",
       "  </thead>\n",
       "  <tbody>\n",
       "    <tr>\n",
       "      <th>Passenger Vehicles</th>\n",
       "      <td>1951333</td>\n",
       "      <td>2501542</td>\n",
       "      <td>2629839</td>\n",
       "      <td>2665015</td>\n",
       "      <td>2503509</td>\n",
       "      <td>2601111</td>\n",
       "    </tr>\n",
       "    <tr>\n",
       "      <th>Commercial Vehicles</th>\n",
       "      <td>532721</td>\n",
       "      <td>684905</td>\n",
       "      <td>809499</td>\n",
       "      <td>793211</td>\n",
       "      <td>632851</td>\n",
       "      <td>614961</td>\n",
       "    </tr>\n",
       "    <tr>\n",
       "      <th>Three Wheelers</th>\n",
       "      <td>440392</td>\n",
       "      <td>526024</td>\n",
       "      <td>513281</td>\n",
       "      <td>538290</td>\n",
       "      <td>480085</td>\n",
       "      <td>531927</td>\n",
       "    </tr>\n",
       "    <tr>\n",
       "      <th>Two Wheelers</th>\n",
       "      <td>9370951</td>\n",
       "      <td>11768910</td>\n",
       "      <td>13409150</td>\n",
       "      <td>13797185</td>\n",
       "      <td>14806778</td>\n",
       "      <td>16004581</td>\n",
       "    </tr>\n",
       "  </tbody>\n",
       "</table>\n",
       "</div>"
      ],
      "text/plain": [
       "                     2009-10   2010-11   2011-12   2012-13   2013-14   2014-15\n",
       "Category                                                                      \n",
       "Passenger Vehicles   1951333   2501542   2629839   2665015   2503509   2601111\n",
       "Commercial Vehicles   532721    684905    809499    793211    632851    614961\n",
       "Three Wheelers        440392    526024    513281    538290    480085    531927\n",
       "Two Wheelers         9370951  11768910  13409150  13797185  14806778  16004581"
      ]
     },
     "execution_count": 19,
     "metadata": {},
     "output_type": "execute_result"
    }
   ],
   "source": [
    "auto_sales_df = auto_sales_df.drop(\"Grand Total\", axis=0)\n",
    "auto_sales_df.head()"
   ]
  },
  {
   "cell_type": "code",
   "execution_count": 20,
   "metadata": {
    "collapsed": false
   },
   "outputs": [
    {
     "data": {
      "image/png": "[encoded data removed]",
      "text/plain": [
       "<matplotlib.figure.Figure at 0x7fdf084f0350>"
      ]
     },
     "metadata": {},
     "output_type": "display_data"
    }
   ],
   "source": [
    "auto_sales_graph = auto_sales_df.T.plot(kind='barh',figsize=(14,6),title=\"Auto Sales\")"
   ]
  },
  {
   "cell_type": "code",
   "execution_count": 21,
   "metadata": {
    "collapsed": true
   },
   "outputs": [],
   "source": [
    "# html page containing multiple tables in the same html\n",
    "funds_url = 'https://www.valueresearchonline.com/funds/newsnapshot.asp?schemecode=3019'"
   ]
  },
  {
   "cell_type": "code",
   "execution_count": 25,
   "metadata": {
    "collapsed": false
   },
   "outputs": [],
   "source": [
    "df_list = pd.read_html(funds_url)"
   ]
  },
  {
   "cell_type": "code",
   "execution_count": 26,
   "metadata": {
    "collapsed": false
   },
   "outputs": [
    {
     "data": {
      "text/plain": [
       "13"
      ]
     },
     "execution_count": 26,
     "metadata": {},
     "output_type": "execute_result"
    }
   ],
   "source": [
    "len(df_list)"
   ]
  },
  {
   "cell_type": "code",
   "execution_count": 27,
   "metadata": {
    "collapsed": false
   },
   "outputs": [
    {
     "data": {
      "text/html": [
       "<div>\n",
       "<table border=\"1\" class=\"dataframe\">\n",
       "  <thead>\n",
       "    <tr style=\"text-align: right;\">\n",
       "      <th></th>\n",
       "      <th>0</th>\n",
       "      <th>1</th>\n",
       "    </tr>\n",
       "  </thead>\n",
       "  <tbody>\n",
       "    <tr>\n",
       "      <th>0</th>\n",
       "      <td>Category:</td>\n",
       "      <td>Equity: Small Cap</td>\n",
       "    </tr>\n",
       "    <tr>\n",
       "      <th>1</th>\n",
       "      <td>Assets:</td>\n",
       "      <td>R 2,740  crore (As on Dec 31, 2015)</td>\n",
       "    </tr>\n",
       "    <tr>\n",
       "      <th>2</th>\n",
       "      <td>Expense:</td>\n",
       "      <td>2.40% (As on Sep 30, 2015)</td>\n",
       "    </tr>\n",
       "  </tbody>\n",
       "</table>\n",
       "</div>"
      ],
      "text/plain": [
       "           0                                    1\n",
       "0  Category:                    Equity: Small Cap\n",
       "1    Assets:  R 2,740  crore (As on Dec 31, 2015)\n",
       "2   Expense:           2.40% (As on Sep 30, 2015)"
      ]
     },
     "execution_count": 27,
     "metadata": {},
     "output_type": "execute_result"
    }
   ],
   "source": [
    "df_list[0].head()"
   ]
  },
  {
   "cell_type": "code",
   "execution_count": 29,
   "metadata": {
    "collapsed": false
   },
   "outputs": [],
   "source": [
    "# Extracting one of the multiple tables by matching to a string\n",
    "#filtered_df_list = pd.read_html(funds_url,match='Rank within Category')\n",
    "filtered_df_list = pd.read_html(funds_url,match='Rank within Category',header=0,index_col=0)\n",
    "#skiprows"
   ]
  },
  {
   "cell_type": "code",
   "execution_count": 30,
   "metadata": {
    "collapsed": false
   },
   "outputs": [
    {
     "data": {
      "text/plain": [
       "1"
      ]
     },
     "execution_count": 30,
     "metadata": {},
     "output_type": "execute_result"
    }
   ],
   "source": [
    "len(filtered_df_list)"
   ]
  },
  {
   "cell_type": "code",
   "execution_count": 31,
   "metadata": {
    "collapsed": false
   },
   "outputs": [
    {
     "data": {
      "text/html": [
       "<div>\n",
       "<table border=\"1\" class=\"dataframe\">\n",
       "  <thead>\n",
       "    <tr style=\"text-align: right;\">\n",
       "      <th></th>\n",
       "      <th>YTD</th>\n",
       "      <th>1-Month</th>\n",
       "      <th>3-Month</th>\n",
       "      <th>1-Year</th>\n",
       "      <th>3-Year</th>\n",
       "      <th>5-Year</th>\n",
       "      <th>10-Year</th>\n",
       "    </tr>\n",
       "  </thead>\n",
       "  <tbody>\n",
       "    <tr>\n",
       "      <th>Fund</th>\n",
       "      <td>-7.40</td>\n",
       "      <td>-4.14</td>\n",
       "      <td>-6.24</td>\n",
       "      <td>-1.10</td>\n",
       "      <td>28.90</td>\n",
       "      <td>21.13</td>\n",
       "      <td>-</td>\n",
       "    </tr>\n",
       "    <tr>\n",
       "      <th>Nifty Midcap 100</th>\n",
       "      <td>-6.84</td>\n",
       "      <td>-3.56</td>\n",
       "      <td>-5.92</td>\n",
       "      <td>-2.44</td>\n",
       "      <td>12.85</td>\n",
       "      <td>8.72</td>\n",
       "      <td>-</td>\n",
       "    </tr>\n",
       "    <tr>\n",
       "      <th>Category</th>\n",
       "      <td>-8.19</td>\n",
       "      <td>-4.49</td>\n",
       "      <td>-5.63</td>\n",
       "      <td>-1.22</td>\n",
       "      <td>23.97</td>\n",
       "      <td>15.80</td>\n",
       "      <td>-</td>\n",
       "    </tr>\n",
       "    <tr>\n",
       "      <th>Rank within Category</th>\n",
       "      <td>9.00</td>\n",
       "      <td>17.00</td>\n",
       "      <td>22.00</td>\n",
       "      <td>18.00</td>\n",
       "      <td>8.00</td>\n",
       "      <td>2.00</td>\n",
       "      <td>-</td>\n",
       "    </tr>\n",
       "    <tr>\n",
       "      <th>Number of funds in category</th>\n",
       "      <td>41.00</td>\n",
       "      <td>41.00</td>\n",
       "      <td>41.00</td>\n",
       "      <td>41.00</td>\n",
       "      <td>37.00</td>\n",
       "      <td>18.00</td>\n",
       "      <td>-</td>\n",
       "    </tr>\n",
       "  </tbody>\n",
       "</table>\n",
       "</div>"
      ],
      "text/plain": [
       "                               YTD  1-Month  3-Month  1-Year  3-Year  5-Year  \\\n",
       "Fund                         -7.40    -4.14    -6.24   -1.10   28.90   21.13   \n",
       "Nifty Midcap 100             -6.84    -3.56    -5.92   -2.44   12.85    8.72   \n",
       "Category                     -8.19    -4.49    -5.63   -1.22   23.97   15.80   \n",
       "Rank within Category          9.00    17.00    22.00   18.00    8.00    2.00   \n",
       "Number of funds in category  41.00    41.00    41.00   41.00   37.00   18.00   \n",
       "\n",
       "                            10-Year  \n",
       "Fund                              -  \n",
       "Nifty Midcap 100                  -  \n",
       "Category                          -  \n",
       "Rank within Category              -  \n",
       "Number of funds in category       -  "
      ]
     },
     "execution_count": 31,
     "metadata": {},
     "output_type": "execute_result"
    }
   ],
   "source": [
    "filtered_df_list[0].head()"
   ]
  },
  {
   "cell_type": "code",
   "execution_count": 33,
   "metadata": {
    "collapsed": false
   },
   "outputs": [
    {
     "data": {
      "text/html": [
       "<div>\n",
       "<table border=\"1\" class=\"dataframe\">\n",
       "  <thead>\n",
       "    <tr style=\"text-align: right;\">\n",
       "      <th></th>\n",
       "      <th>YTD</th>\n",
       "      <th>1-Month</th>\n",
       "      <th>3-Month</th>\n",
       "      <th>3-Year</th>\n",
       "      <th>5-Year</th>\n",
       "    </tr>\n",
       "  </thead>\n",
       "  <tbody>\n",
       "    <tr>\n",
       "      <th>Fund</th>\n",
       "      <td>-7.40</td>\n",
       "      <td>-4.14</td>\n",
       "      <td>-6.24</td>\n",
       "      <td>28.90</td>\n",
       "      <td>21.13</td>\n",
       "    </tr>\n",
       "    <tr>\n",
       "      <th>Nifty Midcap 100</th>\n",
       "      <td>-6.84</td>\n",
       "      <td>-3.56</td>\n",
       "      <td>-5.92</td>\n",
       "      <td>12.85</td>\n",
       "      <td>8.72</td>\n",
       "    </tr>\n",
       "    <tr>\n",
       "      <th>Category</th>\n",
       "      <td>-8.19</td>\n",
       "      <td>-4.49</td>\n",
       "      <td>-5.63</td>\n",
       "      <td>23.97</td>\n",
       "      <td>15.80</td>\n",
       "    </tr>\n",
       "    <tr>\n",
       "      <th>Rank within Category</th>\n",
       "      <td>9.00</td>\n",
       "      <td>17.00</td>\n",
       "      <td>22.00</td>\n",
       "      <td>8.00</td>\n",
       "      <td>2.00</td>\n",
       "    </tr>\n",
       "    <tr>\n",
       "      <th>Number of funds in category</th>\n",
       "      <td>41.00</td>\n",
       "      <td>41.00</td>\n",
       "      <td>41.00</td>\n",
       "      <td>37.00</td>\n",
       "      <td>18.00</td>\n",
       "    </tr>\n",
       "  </tbody>\n",
       "</table>\n",
       "</div>"
      ],
      "text/plain": [
       "                               YTD  1-Month  3-Month  3-Year  5-Year\n",
       "Fund                         -7.40    -4.14    -6.24   28.90   21.13\n",
       "Nifty Midcap 100             -6.84    -3.56    -5.92   12.85    8.72\n",
       "Category                     -8.19    -4.49    -5.63   23.97   15.80\n",
       "Rank within Category          9.00    17.00    22.00    8.00    2.00\n",
       "Number of funds in category  41.00    41.00    41.00   37.00   18.00"
      ]
     },
     "execution_count": 33,
     "metadata": {},
     "output_type": "execute_result"
    }
   ],
   "source": [
    "# Copying the data frame explictly into another dataframe\n",
    "# selecting only the required columns\n",
    "df = filtered_df_list[0].iloc[:,[0,1,2,4,5]].copy()\n",
    "df.head()"
   ]
  },
  {
   "cell_type": "code",
   "execution_count": 34,
   "metadata": {
    "collapsed": false
   },
   "outputs": [
    {
     "data": {
      "text/plain": [
       "YTD        float64\n",
       "1-Month    float64\n",
       "3-Month    float64\n",
       "3-Year     float64\n",
       "5-Year     float64\n",
       "dtype: object"
      ]
     },
     "execution_count": 34,
     "metadata": {},
     "output_type": "execute_result"
    }
   ],
   "source": [
    "df.dtypes"
   ]
  },
  {
   "cell_type": "code",
   "execution_count": 35,
   "metadata": {
    "collapsed": false
   },
   "outputs": [],
   "source": [
    "# Converting column data types\n",
    "for column in df.columns:    \n",
    "    df[column] = df[column].astype(np.float16)"
   ]
  },
  {
   "cell_type": "code",
   "execution_count": 36,
   "metadata": {
    "collapsed": false
   },
   "outputs": [
    {
     "data": {
      "text/plain": [
       "YTD        float16\n",
       "1-Month    float16\n",
       "3-Month    float16\n",
       "3-Year     float16\n",
       "5-Year     float16\n",
       "dtype: object"
      ]
     },
     "execution_count": 36,
     "metadata": {},
     "output_type": "execute_result"
    }
   ],
   "source": [
    "df.dtypes"
   ]
  },
  {
   "cell_type": "code",
   "execution_count": 37,
   "metadata": {
    "collapsed": false
   },
   "outputs": [
    {
     "data": {
      "text/plain": [
       "<matplotlib.axes._subplots.AxesSubplot at 0x7fdf047bc9d0>"
      ]
     },
     "execution_count": 37,
     "metadata": {},
     "output_type": "execute_result"
    },
    {
     "data": {
      "image/png": "[encoded data removed]",
      "text/plain": [
       "<matplotlib.figure.Figure at 0x7fdf045ee5d0>"
      ]
     },
     "metadata": {},
     "output_type": "display_data"
    }
   ],
   "source": [
    "df.loc[[\"Fund\",\"Category\",\"Nifty Midcap 100\"]].plot(figsize=(12,6),kind='bar',rot=0)\n",
    "#df.loc[[\"Fund\",\"Category\",\"Nifty Midcap 100\"]].T.plot(figsize=(12,6),kind='bar',rot=0)"
   ]
  },
  {
   "cell_type": "code",
   "execution_count": 39,
   "metadata": {
    "collapsed": true
   },
   "outputs": [],
   "source": [
    "# using attrs in read_html for filtering the data\n",
    "df_attr_list = pd.read_html(funds_url,\n",
    "                            attrs={\"id\":\"fund-snapshot-peer-comparison-table\"},\n",
    "                            header=0,index_col=0)"
   ]
  },
  {
   "cell_type": "code",
   "execution_count": 40,
   "metadata": {
    "collapsed": false
   },
   "outputs": [
    {
     "data": {
      "text/html": [
       "<div>\n",
       "<table border=\"1\" class=\"dataframe\">\n",
       "  <thead>\n",
       "    <tr style=\"text-align: right;\">\n",
       "      <th></th>\n",
       "      <th>Rating</th>\n",
       "      <th>Launch</th>\n",
       "      <th>1-Year Ret</th>\n",
       "      <th>3-Year Ret</th>\n",
       "      <th>5-Year Ret</th>\n",
       "      <th>ExpenseRatio (%)</th>\n",
       "      <th>Assets (Cr)</th>\n",
       "    </tr>\n",
       "    <tr>\n",
       "      <th>Fund</th>\n",
       "      <th></th>\n",
       "      <th></th>\n",
       "      <th></th>\n",
       "      <th></th>\n",
       "      <th></th>\n",
       "      <th></th>\n",
       "      <th></th>\n",
       "    </tr>\n",
       "  </thead>\n",
       "  <tbody>\n",
       "    <tr>\n",
       "      <th>Franklin India Smaller Companies Fund</th>\n",
       "      <td>NaN</td>\n",
       "      <td>Jan-2006</td>\n",
       "      <td>-1.10</td>\n",
       "      <td>28.90</td>\n",
       "      <td>21.13</td>\n",
       "      <td>2.40</td>\n",
       "      <td>2740</td>\n",
       "    </tr>\n",
       "    <tr>\n",
       "      <th>Canara Robeco Emerging Equities Fund - Regular Plan</th>\n",
       "      <td>NaN</td>\n",
       "      <td>Mar-2005</td>\n",
       "      <td>0.24</td>\n",
       "      <td>27.19</td>\n",
       "      <td>20.28</td>\n",
       "      <td>2.93</td>\n",
       "      <td>911</td>\n",
       "    </tr>\n",
       "    <tr>\n",
       "      <th>DSP BlackRock Micro Cap Fund - Regular Plan</th>\n",
       "      <td>NaN</td>\n",
       "      <td>Jun-2007</td>\n",
       "      <td>8.73</td>\n",
       "      <td>32.02</td>\n",
       "      <td>20.91</td>\n",
       "      <td>2.43</td>\n",
       "      <td>2413</td>\n",
       "    </tr>\n",
       "    <tr>\n",
       "      <th>Reliance Small Cap Fund</th>\n",
       "      <td>NaN</td>\n",
       "      <td>Sep-2010</td>\n",
       "      <td>-0.48</td>\n",
       "      <td>32.45</td>\n",
       "      <td>20.84</td>\n",
       "      <td>2.44</td>\n",
       "      <td>2017</td>\n",
       "    </tr>\n",
       "    <tr>\n",
       "      <th>SBI Magnum Midcap Fund</th>\n",
       "      <td>NaN</td>\n",
       "      <td>Mar-2005</td>\n",
       "      <td>5.09</td>\n",
       "      <td>27.23</td>\n",
       "      <td>19.55</td>\n",
       "      <td>2.55</td>\n",
       "      <td>1471</td>\n",
       "    </tr>\n",
       "  </tbody>\n",
       "</table>\n",
       "</div>"
      ],
      "text/plain": [
       "                                                    Rating    Launch  \\\n",
       "Fund                                                                   \n",
       "Franklin India Smaller Companies Fund                  NaN  Jan-2006   \n",
       "Canara Robeco Emerging Equities Fund - Regular ...     NaN  Mar-2005   \n",
       "DSP BlackRock Micro Cap Fund - Regular Plan            NaN  Jun-2007   \n",
       "Reliance Small Cap Fund                                NaN  Sep-2010   \n",
       "SBI Magnum Midcap Fund                                 NaN  Mar-2005   \n",
       "\n",
       "                                                    1-Year Ret  3-Year Ret  \\\n",
       "Fund                                                                         \n",
       "Franklin India Smaller Companies Fund                    -1.10       28.90   \n",
       "Canara Robeco Emerging Equities Fund - Regular ...        0.24       27.19   \n",
       "DSP BlackRock Micro Cap Fund - Regular Plan               8.73       32.02   \n",
       "Reliance Small Cap Fund                                  -0.48       32.45   \n",
       "SBI Magnum Midcap Fund                                    5.09       27.23   \n",
       "\n",
       "                                                    5-Year Ret  \\\n",
       "Fund                                                             \n",
       "Franklin India Smaller Companies Fund                    21.13   \n",
       "Canara Robeco Emerging Equities Fund - Regular ...       20.28   \n",
       "DSP BlackRock Micro Cap Fund - Regular Plan              20.91   \n",
       "Reliance Small Cap Fund                                  20.84   \n",
       "SBI Magnum Midcap Fund                                   19.55   \n",
       "\n",
       "                                                    ExpenseRatio (%)  \\\n",
       "Fund                                                                   \n",
       "Franklin India Smaller Companies Fund                           2.40   \n",
       "Canara Robeco Emerging Equities Fund - Regular ...              2.93   \n",
       "DSP BlackRock Micro Cap Fund - Regular Plan                     2.43   \n",
       "Reliance Small Cap Fund                                         2.44   \n",
       "SBI Magnum Midcap Fund                                          2.55   \n",
       "\n",
       "                                                    Assets (Cr)  \n",
       "Fund                                                             \n",
       "Franklin India Smaller Companies Fund                      2740  \n",
       "Canara Robeco Emerging Equities Fund - Regular ...          911  \n",
       "DSP BlackRock Micro Cap Fund - Regular Plan                2413  \n",
       "Reliance Small Cap Fund                                    2017  \n",
       "SBI Magnum Midcap Fund                                     1471  "
      ]
     },
     "execution_count": 40,
     "metadata": {},
     "output_type": "execute_result"
    }
   ],
   "source": [
    "df_attr_list[0].head()"
   ]
  },
  {
   "cell_type": "code",
   "execution_count": 41,
   "metadata": {
    "collapsed": false
   },
   "outputs": [
    {
     "data": {
      "text/html": [
       "<div>\n",
       "<table border=\"1\" class=\"dataframe\">\n",
       "  <thead>\n",
       "    <tr style=\"text-align: right;\">\n",
       "      <th></th>\n",
       "      <th>Launch</th>\n",
       "      <th>1-Year Ret</th>\n",
       "      <th>3-Year Ret</th>\n",
       "      <th>5-Year Ret</th>\n",
       "      <th>ExpenseRatio (%)</th>\n",
       "      <th>Assets (Cr)</th>\n",
       "    </tr>\n",
       "    <tr>\n",
       "      <th>Fund</th>\n",
       "      <th></th>\n",
       "      <th></th>\n",
       "      <th></th>\n",
       "      <th></th>\n",
       "      <th></th>\n",
       "      <th></th>\n",
       "    </tr>\n",
       "  </thead>\n",
       "  <tbody>\n",
       "    <tr>\n",
       "      <th>Franklin India Smaller Companies Fund</th>\n",
       "      <td>Jan-2006</td>\n",
       "      <td>-1.10</td>\n",
       "      <td>28.90</td>\n",
       "      <td>21.13</td>\n",
       "      <td>2.40</td>\n",
       "      <td>2740</td>\n",
       "    </tr>\n",
       "    <tr>\n",
       "      <th>Canara Robeco Emerging Equities Fund - Regular Plan</th>\n",
       "      <td>Mar-2005</td>\n",
       "      <td>0.24</td>\n",
       "      <td>27.19</td>\n",
       "      <td>20.28</td>\n",
       "      <td>2.93</td>\n",
       "      <td>911</td>\n",
       "    </tr>\n",
       "    <tr>\n",
       "      <th>DSP BlackRock Micro Cap Fund - Regular Plan</th>\n",
       "      <td>Jun-2007</td>\n",
       "      <td>8.73</td>\n",
       "      <td>32.02</td>\n",
       "      <td>20.91</td>\n",
       "      <td>2.43</td>\n",
       "      <td>2413</td>\n",
       "    </tr>\n",
       "    <tr>\n",
       "      <th>Reliance Small Cap Fund</th>\n",
       "      <td>Sep-2010</td>\n",
       "      <td>-0.48</td>\n",
       "      <td>32.45</td>\n",
       "      <td>20.84</td>\n",
       "      <td>2.44</td>\n",
       "      <td>2017</td>\n",
       "    </tr>\n",
       "    <tr>\n",
       "      <th>SBI Magnum Midcap Fund</th>\n",
       "      <td>Mar-2005</td>\n",
       "      <td>5.09</td>\n",
       "      <td>27.23</td>\n",
       "      <td>19.55</td>\n",
       "      <td>2.55</td>\n",
       "      <td>1471</td>\n",
       "    </tr>\n",
       "  </tbody>\n",
       "</table>\n",
       "</div>"
      ],
      "text/plain": [
       "                                                      Launch  1-Year Ret  \\\n",
       "Fund                                                                       \n",
       "Franklin India Smaller Companies Fund               Jan-2006       -1.10   \n",
       "Canara Robeco Emerging Equities Fund - Regular ...  Mar-2005        0.24   \n",
       "DSP BlackRock Micro Cap Fund - Regular Plan         Jun-2007        8.73   \n",
       "Reliance Small Cap Fund                             Sep-2010       -0.48   \n",
       "SBI Magnum Midcap Fund                              Mar-2005        5.09   \n",
       "\n",
       "                                                    3-Year Ret  5-Year Ret  \\\n",
       "Fund                                                                         \n",
       "Franklin India Smaller Companies Fund                    28.90       21.13   \n",
       "Canara Robeco Emerging Equities Fund - Regular ...       27.19       20.28   \n",
       "DSP BlackRock Micro Cap Fund - Regular Plan              32.02       20.91   \n",
       "Reliance Small Cap Fund                                  32.45       20.84   \n",
       "SBI Magnum Midcap Fund                                   27.23       19.55   \n",
       "\n",
       "                                                    ExpenseRatio (%)  \\\n",
       "Fund                                                                   \n",
       "Franklin India Smaller Companies Fund                           2.40   \n",
       "Canara Robeco Emerging Equities Fund - Regular ...              2.93   \n",
       "DSP BlackRock Micro Cap Fund - Regular Plan                     2.43   \n",
       "Reliance Small Cap Fund                                         2.44   \n",
       "SBI Magnum Midcap Fund                                          2.55   \n",
       "\n",
       "                                                    Assets (Cr)  \n",
       "Fund                                                             \n",
       "Franklin India Smaller Companies Fund                      2740  \n",
       "Canara Robeco Emerging Equities Fund - Regular ...          911  \n",
       "DSP BlackRock Micro Cap Fund - Regular Plan                2413  \n",
       "Reliance Small Cap Fund                                    2017  \n",
       "SBI Magnum Midcap Fund                                     1471  "
      ]
     },
     "execution_count": 41,
     "metadata": {},
     "output_type": "execute_result"
    }
   ],
   "source": [
    "df = df_attr_list[0].dropna(axis=1).copy()\n",
    "df.head()"
   ]
  },
  {
   "cell_type": "code",
   "execution_count": 42,
   "metadata": {
    "collapsed": false
   },
   "outputs": [],
   "source": [
    "df[\"Assets (Cr)\"] = df[\"Assets (Cr)\"].astype(np.int32)"
   ]
  },
  {
   "cell_type": "code",
   "execution_count": 43,
   "metadata": {
    "collapsed": false
   },
   "outputs": [
    {
     "data": {
      "text/plain": [
       "<matplotlib.axes._subplots.AxesSubplot at 0x7fdf043b3f10>"
      ]
     },
     "execution_count": 43,
     "metadata": {},
     "output_type": "execute_result"
    },
    {
     "data": {
      "image/png": "[encoded data removed]",
      "text/plain": [
       "<matplotlib.figure.Figure at 0x7fdf049985d0>"
      ]
     },
     "metadata": {},
     "output_type": "display_data"
    }
   ],
   "source": [
    "df[[\"1-Year Ret\",\"3-Year Ret\",\"5-Year Ret\"]].T.plot(figsize=(18,6),kind='bar',rot=0)"
   ]
  },
  {
   "cell_type": "code",
   "execution_count": 44,
   "metadata": {
    "collapsed": false
   },
   "outputs": [],
   "source": [
    "url = 'http://www.fdic.gov/bank/individual/failed/banklist.html'\n",
    "#bank_df_list = pd.read_html(url)\n",
    "bank_df_list = pd.read_html(url,parse_dates=[5,6,9])\n",
    "bank_df = bank_df_list[0]"
   ]
  },
  {
   "cell_type": "code",
   "execution_count": 45,
   "metadata": {
    "collapsed": false
   },
   "outputs": [
    {
     "data": {
      "text/html": [
       "<div>\n",
       "<table border=\"1\" class=\"dataframe\">\n",
       "  <thead>\n",
       "    <tr style=\"text-align: right;\">\n",
       "      <th></th>\n",
       "      <th>Bank Name</th>\n",
       "      <th>City</th>\n",
       "      <th>ST</th>\n",
       "      <th>CERT</th>\n",
       "      <th>Acquiring Institution</th>\n",
       "      <th>Closing Date</th>\n",
       "      <th>Updated Date</th>\n",
       "      <th>Loss Share Type</th>\n",
       "      <th>Agreement Terminated</th>\n",
       "      <th>Termination Date</th>\n",
       "    </tr>\n",
       "  </thead>\n",
       "  <tbody>\n",
       "    <tr>\n",
       "      <th>0</th>\n",
       "      <td>Hometown National Bank</td>\n",
       "      <td>Longview</td>\n",
       "      <td>WA</td>\n",
       "      <td>35156</td>\n",
       "      <td>Twin City Bank</td>\n",
       "      <td>2015-10-02</td>\n",
       "      <td>2016-01-07</td>\n",
       "      <td>NaN</td>\n",
       "      <td>NaN</td>\n",
       "      <td>NaN</td>\n",
       "    </tr>\n",
       "    <tr>\n",
       "      <th>1</th>\n",
       "      <td>The Bank of Georgia</td>\n",
       "      <td>Peachtree City</td>\n",
       "      <td>GA</td>\n",
       "      <td>35259</td>\n",
       "      <td>Fidelity Bank</td>\n",
       "      <td>2015-10-02</td>\n",
       "      <td>2016-01-07</td>\n",
       "      <td>NaN</td>\n",
       "      <td>NaN</td>\n",
       "      <td>NaN</td>\n",
       "    </tr>\n",
       "  </tbody>\n",
       "</table>\n",
       "</div>"
      ],
      "text/plain": [
       "                Bank Name            City  ST   CERT Acquiring Institution  \\\n",
       "0  Hometown National Bank        Longview  WA  35156        Twin City Bank   \n",
       "1     The Bank of Georgia  Peachtree City  GA  35259         Fidelity Bank   \n",
       "\n",
       "  Closing Date Updated Date Loss Share Type Agreement Terminated  \\\n",
       "0   2015-10-02   2016-01-07             NaN                  NaN   \n",
       "1   2015-10-02   2016-01-07             NaN                  NaN   \n",
       "\n",
       "  Termination Date  \n",
       "0              NaN  \n",
       "1              NaN  "
      ]
     },
     "execution_count": 45,
     "metadata": {},
     "output_type": "execute_result"
    }
   ],
   "source": [
    "bank_df.head(2)"
   ]
  },
  {
   "cell_type": "code",
   "execution_count": 46,
   "metadata": {
    "collapsed": false
   },
   "outputs": [],
   "source": [
    "# let us see if there are records with same Bank Name\n",
    "bank_df_name_duplicates = bank_df[bank_df[\"Bank Name\"].duplicated()]"
   ]
  },
  {
   "cell_type": "code",
   "execution_count": 47,
   "metadata": {
    "collapsed": false
   },
   "outputs": [
    {
     "data": {
      "text/plain": [
       "Bank Name                        object\n",
       "City                             object\n",
       "ST                               object\n",
       "CERT                              int64\n",
       "Acquiring Institution            object\n",
       "Closing Date             datetime64[ns]\n",
       "Updated Date             datetime64[ns]\n",
       "Loss Share Type                  object\n",
       "Agreement Terminated             object\n",
       "Termination Date                 object\n",
       "dtype: object"
      ]
     },
     "execution_count": 47,
     "metadata": {},
     "output_type": "execute_result"
    }
   ],
   "source": [
    "# Check the data types for date columns\n",
    "bank_df.dtypes"
   ]
  },
  {
   "cell_type": "code",
   "execution_count": 49,
   "metadata": {
    "collapsed": false
   },
   "outputs": [
    {
     "data": {
      "text/html": [
       "<div>\n",
       "<table border=\"1\" class=\"dataframe\">\n",
       "  <thead>\n",
       "    <tr style=\"text-align: right;\">\n",
       "      <th></th>\n",
       "      <th>Bank Name</th>\n",
       "      <th>City</th>\n",
       "      <th>ST</th>\n",
       "      <th>CERT</th>\n",
       "      <th>Acquiring Institution</th>\n",
       "      <th>Closing Date</th>\n",
       "      <th>Updated Date</th>\n",
       "      <th>Loss Share Type</th>\n",
       "      <th>Agreement Terminated</th>\n",
       "      <th>Termination Date</th>\n",
       "    </tr>\n",
       "  </thead>\n",
       "  <tbody>\n",
       "    <tr>\n",
       "      <th>377</th>\n",
       "      <td>Citizens National Bank</td>\n",
       "      <td>Teague</td>\n",
       "      <td>TX</td>\n",
       "      <td>25222</td>\n",
       "      <td>U.S. Bank N.A.</td>\n",
       "      <td>2009-10-30</td>\n",
       "      <td>2012-08-22</td>\n",
       "      <td>SFR/NSF</td>\n",
       "      <td>NaN</td>\n",
       "      <td>NaN</td>\n",
       "    </tr>\n",
       "    <tr>\n",
       "      <th>454</th>\n",
       "      <td>Citizens National Bank</td>\n",
       "      <td>Macomb</td>\n",
       "      <td>IL</td>\n",
       "      <td>5757</td>\n",
       "      <td>Morton Community Bank</td>\n",
       "      <td>2009-05-22</td>\n",
       "      <td>2012-09-04</td>\n",
       "      <td>SFR/NSF</td>\n",
       "      <td>Both</td>\n",
       "      <td>July 1, 2011</td>\n",
       "    </tr>\n",
       "    <tr>\n",
       "      <th>265</th>\n",
       "      <td>First National Bank</td>\n",
       "      <td>Savannah</td>\n",
       "      <td>GA</td>\n",
       "      <td>34152</td>\n",
       "      <td>The Savannah Bank, N.A.</td>\n",
       "      <td>2010-06-25</td>\n",
       "      <td>2014-03-21</td>\n",
       "      <td>none</td>\n",
       "      <td>NaN</td>\n",
       "      <td>NaN</td>\n",
       "    </tr>\n",
       "    <tr>\n",
       "      <th>271</th>\n",
       "      <td>First National Bank</td>\n",
       "      <td>Rosedale</td>\n",
       "      <td>MS</td>\n",
       "      <td>15814</td>\n",
       "      <td>The Jefferson Bank</td>\n",
       "      <td>2010-06-04</td>\n",
       "      <td>2014-03-21</td>\n",
       "      <td>SFR/NSF</td>\n",
       "      <td>Both</td>\n",
       "      <td>November 19, 2010</td>\n",
       "    </tr>\n",
       "    <tr>\n",
       "      <th>420</th>\n",
       "      <td>First State Bank</td>\n",
       "      <td>Sarasota</td>\n",
       "      <td>FL</td>\n",
       "      <td>27364</td>\n",
       "      <td>Stearns Bank, N.A.</td>\n",
       "      <td>2009-08-07</td>\n",
       "      <td>2012-08-20</td>\n",
       "      <td>SFR/NSF</td>\n",
       "      <td>NaN</td>\n",
       "      <td>NaN</td>\n",
       "    </tr>\n",
       "  </tbody>\n",
       "</table>\n",
       "</div>"
      ],
      "text/plain": [
       "                  Bank Name      City  ST   CERT    Acquiring Institution  \\\n",
       "377  Citizens National Bank    Teague  TX  25222           U.S. Bank N.A.   \n",
       "454  Citizens National Bank    Macomb  IL   5757    Morton Community Bank   \n",
       "265     First National Bank  Savannah  GA  34152  The Savannah Bank, N.A.   \n",
       "271     First National Bank  Rosedale  MS  15814       The Jefferson Bank   \n",
       "420        First State Bank  Sarasota  FL  27364       Stearns Bank, N.A.   \n",
       "\n",
       "    Closing Date Updated Date Loss Share Type Agreement Terminated  \\\n",
       "377   2009-10-30   2012-08-22         SFR/NSF                  NaN   \n",
       "454   2009-05-22   2012-09-04         SFR/NSF                 Both   \n",
       "265   2010-06-25   2014-03-21            none                  NaN   \n",
       "271   2010-06-04   2014-03-21         SFR/NSF                 Both   \n",
       "420   2009-08-07   2012-08-20         SFR/NSF                  NaN   \n",
       "\n",
       "      Termination Date  \n",
       "377                NaN  \n",
       "454       July 1, 2011  \n",
       "265                NaN  \n",
       "271  November 19, 2010  \n",
       "420                NaN  "
      ]
     },
     "execution_count": 49,
     "metadata": {},
     "output_type": "execute_result"
    }
   ],
   "source": [
    "# filtering for duplicated record and sorting by Bank Name\n",
    "bank_df[bank_df[\"Bank Name\"].isin(bank_df_name_duplicates[\"Bank Name\"])].sort_values(by=\"Bank Name\").head()"
   ]
  },
  {
   "cell_type": "code",
   "execution_count": 50,
   "metadata": {
    "collapsed": false
   },
   "outputs": [
    {
     "data": {
      "text/html": [
       "<div>\n",
       "<table border=\"1\" class=\"dataframe\">\n",
       "  <thead>\n",
       "    <tr style=\"text-align: right;\">\n",
       "      <th></th>\n",
       "      <th>Bank Name</th>\n",
       "      <th>City</th>\n",
       "      <th>ST</th>\n",
       "      <th>CERT</th>\n",
       "      <th>Acquiring Institution</th>\n",
       "      <th>Closing Date</th>\n",
       "      <th>Updated Date</th>\n",
       "      <th>Loss Share Type</th>\n",
       "      <th>Agreement Terminated</th>\n",
       "      <th>Termination Date</th>\n",
       "    </tr>\n",
       "  </thead>\n",
       "  <tbody>\n",
       "  </tbody>\n",
       "</table>\n",
       "</div>"
      ],
      "text/plain": [
       "Empty DataFrame\n",
       "Columns: [Bank Name, City, ST, CERT, Acquiring Institution, Closing Date, Updated Date, Loss Share Type, Agreement Terminated, Termination Date]\n",
       "Index: []"
      ]
     },
     "execution_count": 50,
     "metadata": {},
     "output_type": "execute_result"
    }
   ],
   "source": [
    "# It looks like the Bank Name and City makes the unique combination\n",
    "# Let's check if there are any duplicates with this combination\n",
    "bank_df[bank_df[[\"Bank Name\",\"City\"]].duplicated()]"
   ]
  },
  {
   "cell_type": "code",
   "execution_count": 51,
   "metadata": {
    "collapsed": false
   },
   "outputs": [
    {
     "name": "stdout",
     "output_type": "stream",
     "text": [
      "2000-10-13 00:00:00\n",
      "2015-10-02 00:00:00\n"
     ]
    }
   ],
   "source": [
    "print bank_df[\"Closing Date\"].min()\n",
    "print bank_df[\"Closing Date\"].max()"
   ]
  },
  {
   "cell_type": "code",
   "execution_count": 52,
   "metadata": {
    "collapsed": false
   },
   "outputs": [
    {
     "data": {
      "text/plain": [
       "0    2015\n",
       "1    2015\n",
       "2    2015\n",
       "3    2015\n",
       "4    2015\n",
       "Name: Closing Date, dtype: int64"
      ]
     },
     "execution_count": 52,
     "metadata": {},
     "output_type": "execute_result"
    }
   ],
   "source": [
    "bank_df[\"Closing Date\"].map(lambda x: x.year).head()"
   ]
  },
  {
   "cell_type": "code",
   "execution_count": 53,
   "metadata": {
    "collapsed": false
   },
   "outputs": [
    {
     "data": {
      "text/plain": [
       "<matplotlib.axes._subplots.AxesSubplot at 0x7fdf03d68dd0>"
      ]
     },
     "execution_count": 53,
     "metadata": {},
     "output_type": "execute_result"
    },
    {
     "data": {
      "image/png": "[encoded data removed]",
      "text/plain": [
       "<matplotlib.figure.Figure at 0x7fdf03d682d0>"
      ]
     },
     "metadata": {},
     "output_type": "display_data"
    }
   ],
   "source": [
    "# Let us find the number of banks closed in each year using map\n",
    "bank_df[\"Closing Date\"].map(lambda x: x.year).value_counts().plot(kind='bar')"
   ]
  },
  {
   "cell_type": "code",
   "execution_count": 54,
   "metadata": {
    "collapsed": false
   },
   "outputs": [
    {
     "data": {
      "text/plain": [
       "pandas.core.groupby.DataFrameGroupBy"
      ]
     },
     "execution_count": 54,
     "metadata": {},
     "output_type": "execute_result"
    }
   ],
   "source": [
    "# Let us find the number of banks closed in each year using groupby\n",
    "bank_df_group = bank_df.groupby([bank_df[\"Closing Date\"].map(lambda x: x.year)])\n",
    "type(bank_df_group)"
   ]
  },
  {
   "cell_type": "code",
   "execution_count": 55,
   "metadata": {
    "collapsed": false
   },
   "outputs": [
    {
     "data": {
      "text/plain": [
       "<matplotlib.axes._subplots.AxesSubplot at 0x7fdf03c94890>"
      ]
     },
     "execution_count": 55,
     "metadata": {},
     "output_type": "execute_result"
    },
    {
     "data": {
      "image/png": "[encoded data removed]",
      "text/plain": [
       "<matplotlib.figure.Figure at 0x7fdf03c8c350>"
      ]
     },
     "metadata": {},
     "output_type": "display_data"
    }
   ],
   "source": [
    "# plot the number of banks closed by each year\n",
    "bank_df_group.count()[\"Bank Name\"].plot(kind='bar')"
   ]
  },
  {
   "cell_type": "code",
   "execution_count": 56,
   "metadata": {
    "collapsed": false,
    "scrolled": true
   },
   "outputs": [
    {
     "data": {
      "text/plain": [
       "<matplotlib.axes._subplots.AxesSubplot at 0x7fdf03c8ca50>"
      ]
     },
     "execution_count": 56,
     "metadata": {},
     "output_type": "execute_result"
    },
    {
     "data": {
      "image/png": "[encoded data removed]",
      "text/plain": [
       "<matplotlib.figure.Figure at 0x7fdf03c85fd0>"
      ]
     },
     "metadata": {},
     "output_type": "display_data"
    }
   ],
   "source": [
    "# Number of banks closed by each state between 2000 and 2015\n",
    "bank_df[\"ST\"].value_counts().plot(kind='bar',figsize=(20,4))"
   ]
  },
  {
   "cell_type": "code",
   "execution_count": 57,
   "metadata": {
    "collapsed": false
   },
   "outputs": [],
   "source": [
    "# get the state names from another url\n",
    "states_df = pd.read_html(\"http://www.infoplease.com/ipa/A0110468.html\", attrs={\"id\":\"A0110469\"},header=0)[0]"
   ]
  },
  {
   "cell_type": "code",
   "execution_count": 58,
   "metadata": {
    "collapsed": false
   },
   "outputs": [
    {
     "data": {
      "text/plain": [
       "Index([u'State', u'Abbreviation', u'Postal Code'], dtype='object')"
      ]
     },
     "execution_count": 58,
     "metadata": {},
     "output_type": "execute_result"
    }
   ],
   "source": [
    "states_df.columns"
   ]
  },
  {
   "cell_type": "code",
   "execution_count": 59,
   "metadata": {
    "collapsed": false
   },
   "outputs": [
    {
     "data": {
      "text/html": [
       "<div>\n",
       "<table border=\"1\" class=\"dataframe\">\n",
       "  <thead>\n",
       "    <tr style=\"text-align: right;\">\n",
       "      <th></th>\n",
       "      <th>State</th>\n",
       "      <th>Abbreviation</th>\n",
       "      <th>Postal Code</th>\n",
       "    </tr>\n",
       "  </thead>\n",
       "  <tbody>\n",
       "    <tr>\n",
       "      <th>11</th>\n",
       "      <td>Georgia</td>\n",
       "      <td>Ga.</td>\n",
       "      <td>GA</td>\n",
       "    </tr>\n",
       "  </tbody>\n",
       "</table>\n",
       "</div>"
      ],
      "text/plain": [
       "      State Abbreviation Postal Code\n",
       "11  Georgia          Ga.          GA"
      ]
     },
     "execution_count": 59,
     "metadata": {},
     "output_type": "execute_result"
    }
   ],
   "source": [
    "# check the dataframe for GA state\n",
    "states_df[states_df[\"Postal Code\"]==\"GA\"]"
   ]
  },
  {
   "cell_type": "code",
   "execution_count": 60,
   "metadata": {
    "collapsed": false
   },
   "outputs": [],
   "source": [
    "# Join the state names to bank_df dataframe using merge\n",
    "bank_df_state_names= pd.merge(bank_df,states_df,\n",
    "                              how=\"left\",\n",
    "                              left_on=\"ST\",\n",
    "                              right_on=\"Postal Code\",\n",
    "                              sort=False)"
   ]
  },
  {
   "cell_type": "code",
   "execution_count": 61,
   "metadata": {
    "collapsed": false
   },
   "outputs": [
    {
     "data": {
      "text/html": [
       "<div>\n",
       "<table border=\"1\" class=\"dataframe\">\n",
       "  <thead>\n",
       "    <tr style=\"text-align: right;\">\n",
       "      <th></th>\n",
       "      <th>Bank Name</th>\n",
       "      <th>City</th>\n",
       "      <th>ST</th>\n",
       "      <th>CERT</th>\n",
       "      <th>Acquiring Institution</th>\n",
       "      <th>Closing Date</th>\n",
       "      <th>Updated Date</th>\n",
       "      <th>Loss Share Type</th>\n",
       "      <th>Agreement Terminated</th>\n",
       "      <th>Termination Date</th>\n",
       "      <th>State</th>\n",
       "      <th>Abbreviation</th>\n",
       "      <th>Postal Code</th>\n",
       "    </tr>\n",
       "  </thead>\n",
       "  <tbody>\n",
       "    <tr>\n",
       "      <th>0</th>\n",
       "      <td>Hometown National Bank</td>\n",
       "      <td>Longview</td>\n",
       "      <td>WA</td>\n",
       "      <td>35156</td>\n",
       "      <td>Twin City Bank</td>\n",
       "      <td>2015-10-02</td>\n",
       "      <td>2016-01-07</td>\n",
       "      <td>NaN</td>\n",
       "      <td>NaN</td>\n",
       "      <td>NaN</td>\n",
       "      <td>Washington</td>\n",
       "      <td>Wash.</td>\n",
       "      <td>WA</td>\n",
       "    </tr>\n",
       "    <tr>\n",
       "      <th>1</th>\n",
       "      <td>The Bank of Georgia</td>\n",
       "      <td>Peachtree City</td>\n",
       "      <td>GA</td>\n",
       "      <td>35259</td>\n",
       "      <td>Fidelity Bank</td>\n",
       "      <td>2015-10-02</td>\n",
       "      <td>2016-01-07</td>\n",
       "      <td>NaN</td>\n",
       "      <td>NaN</td>\n",
       "      <td>NaN</td>\n",
       "      <td>Georgia</td>\n",
       "      <td>Ga.</td>\n",
       "      <td>GA</td>\n",
       "    </tr>\n",
       "  </tbody>\n",
       "</table>\n",
       "</div>"
      ],
      "text/plain": [
       "                Bank Name            City  ST   CERT Acquiring Institution  \\\n",
       "0  Hometown National Bank        Longview  WA  35156        Twin City Bank   \n",
       "1     The Bank of Georgia  Peachtree City  GA  35259         Fidelity Bank   \n",
       "\n",
       "  Closing Date Updated Date Loss Share Type Agreement Terminated  \\\n",
       "0   2015-10-02   2016-01-07             NaN                  NaN   \n",
       "1   2015-10-02   2016-01-07             NaN                  NaN   \n",
       "\n",
       "  Termination Date       State Abbreviation Postal Code  \n",
       "0              NaN  Washington        Wash.          WA  \n",
       "1              NaN     Georgia          Ga.          GA  "
      ]
     },
     "execution_count": 61,
     "metadata": {},
     "output_type": "execute_result"
    }
   ],
   "source": [
    "bank_df_state_names.head(2)"
   ]
  },
  {
   "cell_type": "code",
   "execution_count": 62,
   "metadata": {
    "collapsed": false
   },
   "outputs": [
    {
     "data": {
      "text/plain": [
       "<matplotlib.axes._subplots.AxesSubplot at 0x7fdf043dc510>"
      ]
     },
     "execution_count": 62,
     "metadata": {},
     "output_type": "execute_result"
    },
    {
     "data": {
      "image/png": "[encoded data removed]",
      "text/plain": [
       "<matplotlib.figure.Figure at 0x7fdf049a6fd0>"
      ]
     },
     "metadata": {},
     "output_type": "display_data"
    }
   ],
   "source": [
    "# number of banks closed by state name\n",
    "bank_df_state_names[\"State\"].value_counts().plot(kind='bar',figsize=(20,4))"
   ]
  },
  {
   "cell_type": "markdown",
   "metadata": {},
   "source": [
    "### Reading data using read_clipboard"
   ]
  },
  {
   "cell_type": "markdown",
   "metadata": {},
   "source": [
    "#### somtimes if you want to bring data copied in clip board into pandas dataframe, you can use read_clipboard"
   ]
  },
  {
   "cell_type": "raw",
   "metadata": {},
   "source": [
    "Fund\tRating\tCategory\tLaunch\tExpense\t1-Year(Return)\t1-Year(Rank)\tNet Assets(Cr)\n",
    "Birla Sun Life MNC Fund \tUnrated\tEQ-OTH  \tApr-1994\t2.43\t26.11\t0\t2704\n",
    "SBI Pharma Fund \tUnrated\tEQ-PH  \tJul-1999\t2.68\t20.74\t2/6\t862\n",
    "Escorts High Yield Equity Fund \tUnrated\tEQ-SC  \tDec-2006\t2.5\t19.58\t5/41\t3\n",
    "Motilal Oswal MOSt Focused Multicap 35 Fund - Regular Plan \tUnrated\tEQ-MLC  \tApr-2014\t2.35\t19.4\t2/187\t2914\n",
    "Motilal Oswal MOSt Focused Midcap 30 Fund - Regular Plan \tUnrated\tEQ-MC  \tFeb-2014\t2.63\t19.28\t2/78\t816\n",
    "DSP BlackRock Micro Cap Fund - Regular Plan \t4*\tEQ-SC  \tJun-2007\t2.41\t18.84\t6/41\t2191\n",
    "UTI MNC Fund \tUnrated\tEQ-OTH  \tAug-2005\t2.75\t18.31\t0\t1699\n",
    "Motilal Oswal MOSt Shares NASDAQ - 100 ETF Fund \tUnrated\tEQ-INTL  \tMar-2011\t1.06\t17.68\t0\t76\n",
    "SBI Magnum Midcap Fund \t4*\tEQ-SC  \tMar-2005\t2.54\t16.4\t8/41\t1258\n",
    "Reliance Pharma Fund \tUnrated\tEQ-PH  \tJun-2004\t2.5\t16.28\t4/6\t1580"
   ]
  },
  {
   "cell_type": "code",
   "execution_count": 63,
   "metadata": {
    "collapsed": false
   },
   "outputs": [
    {
     "data": {
      "text/html": [
       "<div>\n",
       "<table border=\"1\" class=\"dataframe\">\n",
       "  <thead>\n",
       "    <tr style=\"text-align: right;\">\n",
       "      <th></th>\n",
       "      <th>Fund</th>\n",
       "      <th>Rating</th>\n",
       "      <th>Category</th>\n",
       "      <th>Launch</th>\n",
       "      <th>Expense</th>\n",
       "      <th>1-Year(Return)</th>\n",
       "      <th>1-Year(Rank)</th>\n",
       "      <th>Net Assets(Cr)</th>\n",
       "    </tr>\n",
       "  </thead>\n",
       "  <tbody>\n",
       "    <tr>\n",
       "      <th>0</th>\n",
       "      <td>Birla Sun Life MNC Fund</td>\n",
       "      <td>Unrated</td>\n",
       "      <td>EQ-OTH</td>\n",
       "      <td>1994-04-01</td>\n",
       "      <td>2.43</td>\n",
       "      <td>26.11</td>\n",
       "      <td>0</td>\n",
       "      <td>2704</td>\n",
       "    </tr>\n",
       "    <tr>\n",
       "      <th>1</th>\n",
       "      <td>SBI Pharma Fund</td>\n",
       "      <td>Unrated</td>\n",
       "      <td>EQ-PH</td>\n",
       "      <td>1999-07-01</td>\n",
       "      <td>2.68</td>\n",
       "      <td>20.74</td>\n",
       "      <td>2/6</td>\n",
       "      <td>862</td>\n",
       "    </tr>\n",
       "    <tr>\n",
       "      <th>2</th>\n",
       "      <td>Escorts High Yield Equity Fund</td>\n",
       "      <td>Unrated</td>\n",
       "      <td>EQ-SC</td>\n",
       "      <td>2006-12-01</td>\n",
       "      <td>2.50</td>\n",
       "      <td>19.58</td>\n",
       "      <td>5/41</td>\n",
       "      <td>3</td>\n",
       "    </tr>\n",
       "    <tr>\n",
       "      <th>3</th>\n",
       "      <td>Motilal Oswal MOSt Focused Multicap 35 Fund - ...</td>\n",
       "      <td>Unrated</td>\n",
       "      <td>EQ-MLC</td>\n",
       "      <td>2014-04-01</td>\n",
       "      <td>2.35</td>\n",
       "      <td>19.40</td>\n",
       "      <td>2/187</td>\n",
       "      <td>2914</td>\n",
       "    </tr>\n",
       "    <tr>\n",
       "      <th>4</th>\n",
       "      <td>Motilal Oswal MOSt Focused Midcap 30 Fund - Re...</td>\n",
       "      <td>Unrated</td>\n",
       "      <td>EQ-MC</td>\n",
       "      <td>2014-02-01</td>\n",
       "      <td>2.63</td>\n",
       "      <td>19.28</td>\n",
       "      <td>2/78</td>\n",
       "      <td>816</td>\n",
       "    </tr>\n",
       "  </tbody>\n",
       "</table>\n",
       "</div>"
      ],
      "text/plain": [
       "                                                Fund   Rating  Category  \\\n",
       "0                           Birla Sun Life MNC Fund   Unrated  EQ-OTH     \n",
       "1                                   SBI Pharma Fund   Unrated   EQ-PH     \n",
       "2                    Escorts High Yield Equity Fund   Unrated   EQ-SC     \n",
       "3  Motilal Oswal MOSt Focused Multicap 35 Fund - ...  Unrated  EQ-MLC     \n",
       "4  Motilal Oswal MOSt Focused Midcap 30 Fund - Re...  Unrated   EQ-MC     \n",
       "\n",
       "      Launch  Expense  1-Year(Return) 1-Year(Rank)  Net Assets(Cr)  \n",
       "0 1994-04-01     2.43           26.11            0            2704  \n",
       "1 1999-07-01     2.68           20.74          2/6             862  \n",
       "2 2006-12-01     2.50           19.58         5/41               3  \n",
       "3 2014-04-01     2.35           19.40        2/187            2914  \n",
       "4 2014-02-01     2.63           19.28         2/78             816  "
      ]
     },
     "execution_count": 63,
     "metadata": {},
     "output_type": "execute_result"
    }
   ],
   "source": [
    "#parse_dates=[3]\n",
    "#top10_funds_df = pd.read_clipboard()\n",
    "top10_funds_df = pd.read_clipboard(parse_dates=[3])\n",
    "top10_funds_df.head()\n",
    "#You may need to install xclip or xsel (with gtk or PyQt4 modules) on Linux to use these methods."
   ]
  },
  {
   "cell_type": "code",
   "execution_count": 64,
   "metadata": {
    "collapsed": false
   },
   "outputs": [
    {
     "data": {
      "text/plain": [
       "Fund                      object\n",
       "Rating                    object\n",
       "Category                  object\n",
       "Launch            datetime64[ns]\n",
       "Expense                  float64\n",
       "1-Year(Return)           float64\n",
       "1-Year(Rank)              object\n",
       "Net Assets(Cr)             int64\n",
       "dtype: object"
      ]
     },
     "execution_count": 64,
     "metadata": {},
     "output_type": "execute_result"
    }
   ],
   "source": [
    "top10_funds_df.dtypes"
   ]
  },
  {
   "cell_type": "code",
   "execution_count": 65,
   "metadata": {
    "collapsed": false
   },
   "outputs": [],
   "source": [
    "column_names = ['Table Name','State Code','District Code','Area Name','Age',\n",
    "                    'Persons-Total','Males-Total','Females-Total',\n",
    "                    'Persons-Rural','Males-Rural','Females-Rural',\n",
    "                    'Persons-Urban','Males-Urban','Females-Urban']\n",
    "excel_df = pd.read_excel(\"DDW-0000C-13.xls\",skiprows=6, names = column_names)\n",
    "#excel_df.columns = column_names"
   ]
  },
  {
   "cell_type": "code",
   "execution_count": 66,
   "metadata": {
    "collapsed": false
   },
   "outputs": [
    {
     "data": {
      "text/html": [
       "<div>\n",
       "<table border=\"1\" class=\"dataframe\">\n",
       "  <thead>\n",
       "    <tr style=\"text-align: right;\">\n",
       "      <th></th>\n",
       "      <th>Table Name</th>\n",
       "      <th>State Code</th>\n",
       "      <th>District Code</th>\n",
       "      <th>Area Name</th>\n",
       "      <th>Age</th>\n",
       "      <th>Persons-Total</th>\n",
       "      <th>Males-Total</th>\n",
       "      <th>Females-Total</th>\n",
       "      <th>Persons-Rural</th>\n",
       "      <th>Males-Rural</th>\n",
       "      <th>Females-Rural</th>\n",
       "      <th>Persons-Urban</th>\n",
       "      <th>Males-Urban</th>\n",
       "      <th>Females-Urban</th>\n",
       "    </tr>\n",
       "  </thead>\n",
       "  <tbody>\n",
       "    <tr>\n",
       "      <th>0</th>\n",
       "      <td>C1300</td>\n",
       "      <td>0</td>\n",
       "      <td>0</td>\n",
       "      <td>India</td>\n",
       "      <td>All ages</td>\n",
       "      <td>1210854977</td>\n",
       "      <td>623270258</td>\n",
       "      <td>587584719</td>\n",
       "      <td>833748852</td>\n",
       "      <td>427781058</td>\n",
       "      <td>405967794</td>\n",
       "      <td>377106125</td>\n",
       "      <td>195489200</td>\n",
       "      <td>181616925</td>\n",
       "    </tr>\n",
       "    <tr>\n",
       "      <th>1</th>\n",
       "      <td>C1300</td>\n",
       "      <td>0</td>\n",
       "      <td>0</td>\n",
       "      <td>India</td>\n",
       "      <td>0</td>\n",
       "      <td>20311234</td>\n",
       "      <td>10633298</td>\n",
       "      <td>9677936</td>\n",
       "      <td>14884690</td>\n",
       "      <td>7784009</td>\n",
       "      <td>7100681</td>\n",
       "      <td>5426544</td>\n",
       "      <td>2849289</td>\n",
       "      <td>2577255</td>\n",
       "    </tr>\n",
       "    <tr>\n",
       "      <th>2</th>\n",
       "      <td>C1300</td>\n",
       "      <td>0</td>\n",
       "      <td>0</td>\n",
       "      <td>India</td>\n",
       "      <td>1</td>\n",
       "      <td>21755197</td>\n",
       "      <td>11381468</td>\n",
       "      <td>10373729</td>\n",
       "      <td>15731709</td>\n",
       "      <td>8216086</td>\n",
       "      <td>7515623</td>\n",
       "      <td>6023488</td>\n",
       "      <td>3165382</td>\n",
       "      <td>2858106</td>\n",
       "    </tr>\n",
       "    <tr>\n",
       "      <th>3</th>\n",
       "      <td>C1300</td>\n",
       "      <td>0</td>\n",
       "      <td>0</td>\n",
       "      <td>India</td>\n",
       "      <td>2</td>\n",
       "      <td>23056268</td>\n",
       "      <td>11952853</td>\n",
       "      <td>11103415</td>\n",
       "      <td>17065758</td>\n",
       "      <td>8827253</td>\n",
       "      <td>8238505</td>\n",
       "      <td>5990510</td>\n",
       "      <td>3125600</td>\n",
       "      <td>2864910</td>\n",
       "    </tr>\n",
       "    <tr>\n",
       "      <th>4</th>\n",
       "      <td>C1300</td>\n",
       "      <td>0</td>\n",
       "      <td>0</td>\n",
       "      <td>India</td>\n",
       "      <td>3</td>\n",
       "      <td>23974041</td>\n",
       "      <td>12331431</td>\n",
       "      <td>11642610</td>\n",
       "      <td>17778869</td>\n",
       "      <td>9116778</td>\n",
       "      <td>8662091</td>\n",
       "      <td>6195172</td>\n",
       "      <td>3214653</td>\n",
       "      <td>2980519</td>\n",
       "    </tr>\n",
       "  </tbody>\n",
       "</table>\n",
       "</div>"
      ],
      "text/plain": [
       "  Table Name  State Code  District Code Area Name       Age  Persons-Total  \\\n",
       "0      C1300           0              0     India  All ages     1210854977   \n",
       "1      C1300           0              0     India         0       20311234   \n",
       "2      C1300           0              0     India         1       21755197   \n",
       "3      C1300           0              0     India         2       23056268   \n",
       "4      C1300           0              0     India         3       23974041   \n",
       "\n",
       "   Males-Total  Females-Total  Persons-Rural  Males-Rural  Females-Rural  \\\n",
       "0    623270258      587584719      833748852    427781058      405967794   \n",
       "1     10633298        9677936       14884690      7784009        7100681   \n",
       "2     11381468       10373729       15731709      8216086        7515623   \n",
       "3     11952853       11103415       17065758      8827253        8238505   \n",
       "4     12331431       11642610       17778869      9116778        8662091   \n",
       "\n",
       "   Persons-Urban  Males-Urban  Females-Urban  \n",
       "0      377106125    195489200      181616925  \n",
       "1        5426544      2849289        2577255  \n",
       "2        6023488      3165382        2858106  \n",
       "3        5990510      3125600        2864910  \n",
       "4        6195172      3214653        2980519  "
      ]
     },
     "execution_count": 66,
     "metadata": {},
     "output_type": "execute_result"
    }
   ],
   "source": [
    "excel_df.head()"
   ]
  },
  {
   "cell_type": "code",
   "execution_count": 67,
   "metadata": {
    "collapsed": true
   },
   "outputs": [],
   "source": [
    "# Filtering data for karnata state\n",
    "req_columns = [\"Age\",\"Males-Rural\",\"Females-Rural\",\"Males-Urban\",\"Females-Urban\"]\n",
    "kar_filter = (excel_df[\"Area Name\"] == \"State - KARNATAKA (29)\") & (excel_df[\"Age\"] != \"All ages\") & (excel_df[\"Age\"] != \"Age not stated\")\n",
    "excel_kar_df = excel_df[kar_filter][req_columns].copy()"
   ]
  },
  {
   "cell_type": "code",
   "execution_count": 68,
   "metadata": {
    "collapsed": false
   },
   "outputs": [
    {
     "data": {
      "text/html": [
       "<div>\n",
       "<table border=\"1\" class=\"dataframe\">\n",
       "  <thead>\n",
       "    <tr style=\"text-align: right;\">\n",
       "      <th></th>\n",
       "      <th>Age</th>\n",
       "      <th>Males-Rural</th>\n",
       "      <th>Females-Rural</th>\n",
       "      <th>Males-Urban</th>\n",
       "      <th>Females-Urban</th>\n",
       "    </tr>\n",
       "  </thead>\n",
       "  <tbody>\n",
       "    <tr>\n",
       "      <th>2988</th>\n",
       "      <td>0</td>\n",
       "      <td>300346</td>\n",
       "      <td>285184</td>\n",
       "      <td>178000</td>\n",
       "      <td>170115</td>\n",
       "    </tr>\n",
       "    <tr>\n",
       "      <th>2989</th>\n",
       "      <td>1</td>\n",
       "      <td>314001</td>\n",
       "      <td>296926</td>\n",
       "      <td>208961</td>\n",
       "      <td>197786</td>\n",
       "    </tr>\n",
       "  </tbody>\n",
       "</table>\n",
       "</div>"
      ],
      "text/plain": [
       "     Age  Males-Rural  Females-Rural  Males-Urban  Females-Urban\n",
       "2988   0       300346         285184       178000         170115\n",
       "2989   1       314001         296926       208961         197786"
      ]
     },
     "execution_count": 68,
     "metadata": {},
     "output_type": "execute_result"
    }
   ],
   "source": [
    "excel_kar_df.head(2)"
   ]
  },
  {
   "cell_type": "code",
   "execution_count": 69,
   "metadata": {
    "collapsed": false
   },
   "outputs": [
    {
     "data": {
      "text/plain": [
       "Age              object\n",
       "Males-Rural       int64\n",
       "Females-Rural     int64\n",
       "Males-Urban       int64\n",
       "Females-Urban     int64\n",
       "dtype: object"
      ]
     },
     "execution_count": 69,
     "metadata": {},
     "output_type": "execute_result"
    }
   ],
   "source": [
    "excel_kar_df.dtypes"
   ]
  },
  {
   "cell_type": "code",
   "execution_count": 71,
   "metadata": {
    "collapsed": false
   },
   "outputs": [
    {
     "data": {
      "text/plain": [
       "array([0, 1, 2, 3, 4, 5, 6, 7, 8, 9, 10, 11, 12, 13, 14, 15, 16, 17, 18,\n",
       "       19, 20, 21, 22, 23, 24, 25, 26, 27, 28, 29, 30, 31, 32, 33, 34, 35,\n",
       "       36, 37, 38, 39, 40, 41, 42, 43, 44, 45, 46, 47, 48, 49, 50, 51, 52,\n",
       "       53, 54, 55, 56, 57, 58, 59, 60, 61, 62, 63, 64, 65, 66, 67, 68, 69,\n",
       "       70, 71, 72, 73, 74, 75, 76, 77, 78, 79, 80, 81, 82, 83, 84, 85, 86,\n",
       "       87, 88, 89, 90, 91, 92, 93, 94, 95, 96, 97, 98, 99, u'100+'], dtype=object)"
      ]
     },
     "execution_count": 71,
     "metadata": {},
     "output_type": "execute_result"
    }
   ],
   "source": [
    "# find unique values in Age Column\n",
    "excel_kar_df.Age.unique()"
   ]
  },
  {
   "cell_type": "code",
   "execution_count": 72,
   "metadata": {
    "collapsed": false
   },
   "outputs": [],
   "source": [
    "# Converting Age to integer data type\n",
    "excel_kar_df.Age = excel_kar_df.Age.apply(lambda x:int(str(x).replace('+','')))"
   ]
  },
  {
   "cell_type": "code",
   "execution_count": 73,
   "metadata": {
    "collapsed": false
   },
   "outputs": [
    {
     "data": {
      "text/plain": [
       "Age              int64\n",
       "Males-Rural      int64\n",
       "Females-Rural    int64\n",
       "Males-Urban      int64\n",
       "Females-Urban    int64\n",
       "dtype: object"
      ]
     },
     "execution_count": 73,
     "metadata": {},
     "output_type": "execute_result"
    }
   ],
   "source": [
    "excel_kar_df.dtypes"
   ]
  },
  {
   "cell_type": "code",
   "execution_count": 74,
   "metadata": {
    "collapsed": false
   },
   "outputs": [
    {
     "data": {
      "image/png": "[encoded data removed]",
      "text/plain": [
       "<matplotlib.figure.Figure at 0x7fdf04387fd0>"
      ]
     },
     "metadata": {},
     "output_type": "display_data"
    }
   ],
   "source": [
    "# let's plot the graph and observe\n",
    "# save the graph to a file\n",
    "kar_graph = excel_kar_df.set_index(\"Age\").plot(figsize=(16,10))\n",
    "#kar_graph  = excel_kar_df.set_index(\"Age\").plot(figsize=(16,10),subplots=True)\n",
    "#kar_graph = excel_kar_df.set_index(\"Age\").plot(figsize=(16,10),subplots=True,ylim=(0,600000))\n",
    "plt.savefig(\"kar_graph.jpeg\")"
   ]
  },
  {
   "cell_type": "code",
   "execution_count": 75,
   "metadata": {
    "collapsed": false
   },
   "outputs": [
    {
     "data": {
      "image/png": "[encoded data removed]",
      "text/plain": [
       "<matplotlib.figure.Figure at 0x7fdf0472cb90>"
      ]
     },
     "metadata": {},
     "output_type": "display_data"
    }
   ],
   "source": [
    "# let us observe the Age not stated by state\n",
    "age_filter = (excel_df[\"Age\"] == \"Age not stated\") & (excel_df[\"Area Name\"] != \"India\")\n",
    "required_columns = [\"Area Name\",\"Males-Rural\",\"Females-Rural\",\"Males-Urban\",\"Females-Urban\"]\n",
    "excel_df_age_ns = excel_df[age_filter][required_columns]\n",
    "excel_df_age_ns = excel_df_age_ns.set_index(\"Area Name\")\n",
    "age_graph = excel_df_age_ns.plot(kind='bar',figsize=(18,6))"
   ]
  },
  {
   "cell_type": "code",
   "execution_count": 76,
   "metadata": {
    "collapsed": false
   },
   "outputs": [
    {
     "data": {
      "image/png": "[encoded data removed]",
      "text/plain": [
       "<matplotlib.figure.Figure at 0x7fdf048d9f90>"
      ]
     },
     "metadata": {},
     "output_type": "display_data"
    }
   ],
   "source": [
    "# let us look at the distribution\n",
    "kar_age_graph = excel_kar_df.set_index(\"Age\").plot(figsize=(12,6),kind='box')"
   ]
  },
  {
   "cell_type": "code",
   "execution_count": 77,
   "metadata": {
    "collapsed": false
   },
   "outputs": [
    {
     "data": {
      "text/html": [
       "<div>\n",
       "<table border=\"1\" class=\"dataframe\">\n",
       "  <thead>\n",
       "    <tr style=\"text-align: right;\">\n",
       "      <th></th>\n",
       "      <th>Age</th>\n",
       "      <th>Males-Rural</th>\n",
       "      <th>Females-Rural</th>\n",
       "      <th>Males-Urban</th>\n",
       "      <th>Females-Urban</th>\n",
       "    </tr>\n",
       "  </thead>\n",
       "  <tbody>\n",
       "    <tr>\n",
       "      <th>count</th>\n",
       "      <td>101.000000</td>\n",
       "      <td>101.000000</td>\n",
       "      <td>101.000000</td>\n",
       "      <td>101.000000</td>\n",
       "      <td>101.000000</td>\n",
       "    </tr>\n",
       "    <tr>\n",
       "      <th>mean</th>\n",
       "      <td>50.000000</td>\n",
       "      <td>187281.198020</td>\n",
       "      <td>183446.584158</td>\n",
       "      <td>119067.782178</td>\n",
       "      <td>114654.396040</td>\n",
       "    </tr>\n",
       "    <tr>\n",
       "      <th>std</th>\n",
       "      <td>29.300171</td>\n",
       "      <td>159639.437129</td>\n",
       "      <td>157538.589132</td>\n",
       "      <td>95992.992138</td>\n",
       "      <td>93656.789443</td>\n",
       "    </tr>\n",
       "    <tr>\n",
       "      <th>min</th>\n",
       "      <td>0.000000</td>\n",
       "      <td>881.000000</td>\n",
       "      <td>1009.000000</td>\n",
       "      <td>406.000000</td>\n",
       "      <td>627.000000</td>\n",
       "    </tr>\n",
       "    <tr>\n",
       "      <th>25%</th>\n",
       "      <td>25.000000</td>\n",
       "      <td>28453.000000</td>\n",
       "      <td>28402.000000</td>\n",
       "      <td>19886.000000</td>\n",
       "      <td>18380.000000</td>\n",
       "    </tr>\n",
       "    <tr>\n",
       "      <th>50%</th>\n",
       "      <td>50.000000</td>\n",
       "      <td>159167.000000</td>\n",
       "      <td>149798.000000</td>\n",
       "      <td>108020.000000</td>\n",
       "      <td>112043.000000</td>\n",
       "    </tr>\n",
       "    <tr>\n",
       "      <th>75%</th>\n",
       "      <td>75.000000</td>\n",
       "      <td>341347.000000</td>\n",
       "      <td>315453.000000</td>\n",
       "      <td>202113.000000</td>\n",
       "      <td>192617.000000</td>\n",
       "    </tr>\n",
       "    <tr>\n",
       "      <th>max</th>\n",
       "      <td>100.000000</td>\n",
       "      <td>538633.000000</td>\n",
       "      <td>551024.000000</td>\n",
       "      <td>325945.000000</td>\n",
       "      <td>322299.000000</td>\n",
       "    </tr>\n",
       "  </tbody>\n",
       "</table>\n",
       "</div>"
      ],
      "text/plain": [
       "              Age    Males-Rural  Females-Rural    Males-Urban  Females-Urban\n",
       "count  101.000000     101.000000     101.000000     101.000000     101.000000\n",
       "mean    50.000000  187281.198020  183446.584158  119067.782178  114654.396040\n",
       "std     29.300171  159639.437129  157538.589132   95992.992138   93656.789443\n",
       "min      0.000000     881.000000    1009.000000     406.000000     627.000000\n",
       "25%     25.000000   28453.000000   28402.000000   19886.000000   18380.000000\n",
       "50%     50.000000  159167.000000  149798.000000  108020.000000  112043.000000\n",
       "75%     75.000000  341347.000000  315453.000000  202113.000000  192617.000000\n",
       "max    100.000000  538633.000000  551024.000000  325945.000000  322299.000000"
      ]
     },
     "execution_count": 77,
     "metadata": {},
     "output_type": "execute_result"
    }
   ],
   "source": [
    "# describe gives a stats summary of all of the numeric fields\n",
    "excel_kar_df.describe()"
   ]
  },
  {
   "cell_type": "markdown",
   "metadata": {},
   "source": [
    "### Reading data using read_csv"
   ]
  },
  {
   "cell_type": "markdown",
   "metadata": {},
   "source": [
    "#### One of the very commonly used method is read_csv"
   ]
  },
  {
   "cell_type": "code",
   "execution_count": 78,
   "metadata": {
    "collapsed": true
   },
   "outputs": [],
   "source": [
    "# district wise rail fall data from 1951 to 2000\n",
    "data = pd.read_csv(\"distirct_railfaill_1951_2000.csv\")"
   ]
  },
  {
   "cell_type": "code",
   "execution_count": 79,
   "metadata": {
    "collapsed": false
   },
   "outputs": [
    {
     "data": {
      "text/html": [
       "<div>\n",
       "<table border=\"1\" class=\"dataframe\">\n",
       "  <thead>\n",
       "    <tr style=\"text-align: right;\">\n",
       "      <th></th>\n",
       "      <th>STATE/UT</th>\n",
       "      <th>DISTRICT</th>\n",
       "      <th>JAN</th>\n",
       "      <th>FEB</th>\n",
       "      <th>MAR</th>\n",
       "      <th>APR</th>\n",
       "      <th>MAY</th>\n",
       "      <th>JUN</th>\n",
       "      <th>JUL</th>\n",
       "      <th>AUG</th>\n",
       "      <th>SEP</th>\n",
       "      <th>OCT</th>\n",
       "      <th>NOV</th>\n",
       "      <th>DEC</th>\n",
       "      <th>ANNUAL</th>\n",
       "      <th>JAN+FEB</th>\n",
       "      <th>MAM</th>\n",
       "      <th>JJAS</th>\n",
       "      <th>OND</th>\n",
       "    </tr>\n",
       "  </thead>\n",
       "  <tbody>\n",
       "    <tr>\n",
       "      <th>0</th>\n",
       "      <td>ANDAMAN And NICOBAR ISLANDS</td>\n",
       "      <td>NICOBAR</td>\n",
       "      <td>107.3</td>\n",
       "      <td>57.9</td>\n",
       "      <td>65.2</td>\n",
       "      <td>117.0</td>\n",
       "      <td>358.5</td>\n",
       "      <td>295.5</td>\n",
       "      <td>285.0</td>\n",
       "      <td>271.9</td>\n",
       "      <td>354.8</td>\n",
       "      <td>326.0</td>\n",
       "      <td>315.2</td>\n",
       "      <td>250.9</td>\n",
       "      <td>2805.2</td>\n",
       "      <td>165.2</td>\n",
       "      <td>540.7</td>\n",
       "      <td>1207.2</td>\n",
       "      <td>892.1</td>\n",
       "    </tr>\n",
       "    <tr>\n",
       "      <th>1</th>\n",
       "      <td>ANDAMAN And NICOBAR ISLANDS</td>\n",
       "      <td>SOUTH ANDAMAN</td>\n",
       "      <td>43.7</td>\n",
       "      <td>26.0</td>\n",
       "      <td>18.6</td>\n",
       "      <td>90.5</td>\n",
       "      <td>374.4</td>\n",
       "      <td>457.2</td>\n",
       "      <td>421.3</td>\n",
       "      <td>423.1</td>\n",
       "      <td>455.6</td>\n",
       "      <td>301.2</td>\n",
       "      <td>275.8</td>\n",
       "      <td>128.3</td>\n",
       "      <td>3015.7</td>\n",
       "      <td>69.7</td>\n",
       "      <td>483.5</td>\n",
       "      <td>1757.2</td>\n",
       "      <td>705.3</td>\n",
       "    </tr>\n",
       "  </tbody>\n",
       "</table>\n",
       "</div>"
      ],
      "text/plain": [
       "                      STATE/UT       DISTRICT    JAN   FEB   MAR    APR  \\\n",
       "0  ANDAMAN And NICOBAR ISLANDS        NICOBAR  107.3  57.9  65.2  117.0   \n",
       "1  ANDAMAN And NICOBAR ISLANDS  SOUTH ANDAMAN   43.7  26.0  18.6   90.5   \n",
       "\n",
       "     MAY    JUN    JUL    AUG    SEP    OCT    NOV    DEC  ANNUAL  JAN+FEB  \\\n",
       "0  358.5  295.5  285.0  271.9  354.8  326.0  315.2  250.9  2805.2    165.2   \n",
       "1  374.4  457.2  421.3  423.1  455.6  301.2  275.8  128.3  3015.7     69.7   \n",
       "\n",
       "     MAM    JJAS    OND  \n",
       "0  540.7  1207.2  892.1  \n",
       "1  483.5  1757.2  705.3  "
      ]
     },
     "execution_count": 79,
     "metadata": {},
     "output_type": "execute_result"
    }
   ],
   "source": [
    "data.head(2)"
   ]
  },
  {
   "cell_type": "code",
   "execution_count": 80,
   "metadata": {
    "collapsed": false
   },
   "outputs": [],
   "source": [
    "# copy the Karnataka rain fall data into a separate dataframe\n",
    "data_kar = data[data[\"STATE/UT\"]==\"KARNATAKA\"].copy()"
   ]
  },
  {
   "cell_type": "code",
   "execution_count": 81,
   "metadata": {
    "collapsed": false
   },
   "outputs": [],
   "source": [
    "# drop STATE_UT column and set DISTRICT as the index\n",
    "data_kar = data_kar.drop(\"STATE/UT\", axis=1)\n",
    "data_kar = data_kar.set_index(\"DISTRICT\")"
   ]
  },
  {
   "cell_type": "code",
   "execution_count": 82,
   "metadata": {
    "collapsed": false
   },
   "outputs": [],
   "source": [
    "# Keep only required columns which are monts from JAN to DEC\n",
    "data_kar = data_kar[[u'JAN', u'FEB', u'MAR', u'APR', u'MAY', u'JUN', u'JUL', u'AUG', u'SEP',\n",
    "       u'OCT', u'NOV', u'DEC']]"
   ]
  },
  {
   "cell_type": "code",
   "execution_count": 83,
   "metadata": {
    "collapsed": false
   },
   "outputs": [
    {
     "data": {
      "text/html": [
       "<div>\n",
       "<table border=\"1\" class=\"dataframe\">\n",
       "  <thead>\n",
       "    <tr style=\"text-align: right;\">\n",
       "      <th></th>\n",
       "      <th>JAN</th>\n",
       "      <th>FEB</th>\n",
       "      <th>MAR</th>\n",
       "      <th>APR</th>\n",
       "      <th>MAY</th>\n",
       "      <th>JUN</th>\n",
       "      <th>JUL</th>\n",
       "      <th>AUG</th>\n",
       "      <th>SEP</th>\n",
       "      <th>OCT</th>\n",
       "      <th>NOV</th>\n",
       "      <th>DEC</th>\n",
       "    </tr>\n",
       "    <tr>\n",
       "      <th>DISTRICT</th>\n",
       "      <th></th>\n",
       "      <th></th>\n",
       "      <th></th>\n",
       "      <th></th>\n",
       "      <th></th>\n",
       "      <th></th>\n",
       "      <th></th>\n",
       "      <th></th>\n",
       "      <th></th>\n",
       "      <th></th>\n",
       "      <th></th>\n",
       "      <th></th>\n",
       "    </tr>\n",
       "  </thead>\n",
       "  <tbody>\n",
       "    <tr>\n",
       "      <th>UTTAR KANNADA</th>\n",
       "      <td>0.3</td>\n",
       "      <td>0.1</td>\n",
       "      <td>2.7</td>\n",
       "      <td>22.1</td>\n",
       "      <td>114.0</td>\n",
       "      <td>740.9</td>\n",
       "      <td>1053.8</td>\n",
       "      <td>667.7</td>\n",
       "      <td>258.5</td>\n",
       "      <td>155.1</td>\n",
       "      <td>44.1</td>\n",
       "      <td>11.2</td>\n",
       "    </tr>\n",
       "    <tr>\n",
       "      <th>DAKSHIN KANDA</th>\n",
       "      <td>1.9</td>\n",
       "      <td>0.7</td>\n",
       "      <td>6.4</td>\n",
       "      <td>39.8</td>\n",
       "      <td>180.9</td>\n",
       "      <td>977.2</td>\n",
       "      <td>1227.2</td>\n",
       "      <td>833.6</td>\n",
       "      <td>313.6</td>\n",
       "      <td>236.9</td>\n",
       "      <td>82.0</td>\n",
       "      <td>15.6</td>\n",
       "    </tr>\n",
       "    <tr>\n",
       "      <th>UDUPI</th>\n",
       "      <td>1.4</td>\n",
       "      <td>0.4</td>\n",
       "      <td>4.1</td>\n",
       "      <td>29.4</td>\n",
       "      <td>193.8</td>\n",
       "      <td>1081.0</td>\n",
       "      <td>1371.6</td>\n",
       "      <td>902.2</td>\n",
       "      <td>404.9</td>\n",
       "      <td>223.8</td>\n",
       "      <td>74.6</td>\n",
       "      <td>18.8</td>\n",
       "    </tr>\n",
       "    <tr>\n",
       "      <th>BELGAM</th>\n",
       "      <td>0.7</td>\n",
       "      <td>0.9</td>\n",
       "      <td>6.2</td>\n",
       "      <td>30.2</td>\n",
       "      <td>74.8</td>\n",
       "      <td>130.4</td>\n",
       "      <td>204.0</td>\n",
       "      <td>126.7</td>\n",
       "      <td>113.0</td>\n",
       "      <td>116.6</td>\n",
       "      <td>30.6</td>\n",
       "      <td>5.1</td>\n",
       "    </tr>\n",
       "    <tr>\n",
       "      <th>BIDAR</th>\n",
       "      <td>5.9</td>\n",
       "      <td>6.1</td>\n",
       "      <td>10.1</td>\n",
       "      <td>21.7</td>\n",
       "      <td>31.4</td>\n",
       "      <td>137.1</td>\n",
       "      <td>190.7</td>\n",
       "      <td>196.6</td>\n",
       "      <td>170.5</td>\n",
       "      <td>93.5</td>\n",
       "      <td>20.9</td>\n",
       "      <td>6.2</td>\n",
       "    </tr>\n",
       "  </tbody>\n",
       "</table>\n",
       "</div>"
      ],
      "text/plain": [
       "               JAN  FEB   MAR   APR    MAY     JUN     JUL    AUG    SEP  \\\n",
       "DISTRICT                                                                   \n",
       "UTTAR KANNADA  0.3  0.1   2.7  22.1  114.0   740.9  1053.8  667.7  258.5   \n",
       "DAKSHIN KANDA  1.9  0.7   6.4  39.8  180.9   977.2  1227.2  833.6  313.6   \n",
       "UDUPI          1.4  0.4   4.1  29.4  193.8  1081.0  1371.6  902.2  404.9   \n",
       "BELGAM         0.7  0.9   6.2  30.2   74.8   130.4   204.0  126.7  113.0   \n",
       "BIDAR          5.9  6.1  10.1  21.7   31.4   137.1   190.7  196.6  170.5   \n",
       "\n",
       "                 OCT   NOV   DEC  \n",
       "DISTRICT                          \n",
       "UTTAR KANNADA  155.1  44.1  11.2  \n",
       "DAKSHIN KANDA  236.9  82.0  15.6  \n",
       "UDUPI          223.8  74.6  18.8  \n",
       "BELGAM         116.6  30.6   5.1  \n",
       "BIDAR           93.5  20.9   6.2  "
      ]
     },
     "execution_count": 83,
     "metadata": {},
     "output_type": "execute_result"
    }
   ],
   "source": [
    "data_kar.head()"
   ]
  },
  {
   "cell_type": "code",
   "execution_count": 84,
   "metadata": {
    "collapsed": false
   },
   "outputs": [
    {
     "data": {
      "text/html": [
       "<div>\n",
       "<table border=\"1\" class=\"dataframe\">\n",
       "  <thead>\n",
       "    <tr style=\"text-align: right;\">\n",
       "      <th></th>\n",
       "      <th>JAN</th>\n",
       "      <th>FEB</th>\n",
       "      <th>MAR</th>\n",
       "      <th>APR</th>\n",
       "      <th>MAY</th>\n",
       "      <th>JUN</th>\n",
       "      <th>JUL</th>\n",
       "      <th>AUG</th>\n",
       "      <th>SEP</th>\n",
       "      <th>OCT</th>\n",
       "      <th>NOV</th>\n",
       "      <th>DEC</th>\n",
       "    </tr>\n",
       "  </thead>\n",
       "  <tbody>\n",
       "    <tr>\n",
       "      <th>count</th>\n",
       "      <td>30.000000</td>\n",
       "      <td>30.000000</td>\n",
       "      <td>30.000000</td>\n",
       "      <td>30.000000</td>\n",
       "      <td>30.000000</td>\n",
       "      <td>30.000000</td>\n",
       "      <td>30.000000</td>\n",
       "      <td>30.000000</td>\n",
       "      <td>30.000000</td>\n",
       "      <td>30.000000</td>\n",
       "      <td>30.000000</td>\n",
       "      <td>30.000000</td>\n",
       "    </tr>\n",
       "    <tr>\n",
       "      <th>mean</th>\n",
       "      <td>2.026667</td>\n",
       "      <td>2.696667</td>\n",
       "      <td>7.163333</td>\n",
       "      <td>36.773333</td>\n",
       "      <td>88.166667</td>\n",
       "      <td>204.880000</td>\n",
       "      <td>280.700000</td>\n",
       "      <td>209.256667</td>\n",
       "      <td>164.076667</td>\n",
       "      <td>143.356667</td>\n",
       "      <td>44.350000</td>\n",
       "      <td>11.170000</td>\n",
       "    </tr>\n",
       "    <tr>\n",
       "      <th>std</th>\n",
       "      <td>1.259429</td>\n",
       "      <td>1.960029</td>\n",
       "      <td>3.636072</td>\n",
       "      <td>16.850723</td>\n",
       "      <td>40.632765</td>\n",
       "      <td>273.931535</td>\n",
       "      <td>374.960968</td>\n",
       "      <td>232.682348</td>\n",
       "      <td>64.369069</td>\n",
       "      <td>34.699406</td>\n",
       "      <td>16.686661</td>\n",
       "      <td>5.248458</td>\n",
       "    </tr>\n",
       "    <tr>\n",
       "      <th>min</th>\n",
       "      <td>0.300000</td>\n",
       "      <td>0.100000</td>\n",
       "      <td>2.500000</td>\n",
       "      <td>17.700000</td>\n",
       "      <td>31.400000</td>\n",
       "      <td>48.700000</td>\n",
       "      <td>49.300000</td>\n",
       "      <td>58.900000</td>\n",
       "      <td>99.500000</td>\n",
       "      <td>93.500000</td>\n",
       "      <td>20.800000</td>\n",
       "      <td>4.500000</td>\n",
       "    </tr>\n",
       "    <tr>\n",
       "      <th>25%</th>\n",
       "      <td>1.325000</td>\n",
       "      <td>0.925000</td>\n",
       "      <td>4.250000</td>\n",
       "      <td>24.075000</td>\n",
       "      <td>59.650000</td>\n",
       "      <td>72.250000</td>\n",
       "      <td>76.550000</td>\n",
       "      <td>87.525000</td>\n",
       "      <td>125.125000</td>\n",
       "      <td>116.450000</td>\n",
       "      <td>30.725000</td>\n",
       "      <td>7.000000</td>\n",
       "    </tr>\n",
       "    <tr>\n",
       "      <th>50%</th>\n",
       "      <td>1.750000</td>\n",
       "      <td>2.600000</td>\n",
       "      <td>6.350000</td>\n",
       "      <td>33.750000</td>\n",
       "      <td>78.400000</td>\n",
       "      <td>83.400000</td>\n",
       "      <td>97.650000</td>\n",
       "      <td>109.950000</td>\n",
       "      <td>148.000000</td>\n",
       "      <td>142.850000</td>\n",
       "      <td>44.750000</td>\n",
       "      <td>9.850000</td>\n",
       "    </tr>\n",
       "    <tr>\n",
       "      <th>75%</th>\n",
       "      <td>2.400000</td>\n",
       "      <td>4.050000</td>\n",
       "      <td>9.625000</td>\n",
       "      <td>44.875000</td>\n",
       "      <td>106.200000</td>\n",
       "      <td>129.050000</td>\n",
       "      <td>200.525000</td>\n",
       "      <td>166.000000</td>\n",
       "      <td>178.650000</td>\n",
       "      <td>157.550000</td>\n",
       "      <td>54.075000</td>\n",
       "      <td>14.750000</td>\n",
       "    </tr>\n",
       "    <tr>\n",
       "      <th>max</th>\n",
       "      <td>5.900000</td>\n",
       "      <td>6.700000</td>\n",
       "      <td>18.500000</td>\n",
       "      <td>89.800000</td>\n",
       "      <td>193.800000</td>\n",
       "      <td>1081.000000</td>\n",
       "      <td>1371.600000</td>\n",
       "      <td>902.200000</td>\n",
       "      <td>404.900000</td>\n",
       "      <td>236.900000</td>\n",
       "      <td>82.000000</td>\n",
       "      <td>24.300000</td>\n",
       "    </tr>\n",
       "  </tbody>\n",
       "</table>\n",
       "</div>"
      ],
      "text/plain": [
       "             JAN        FEB        MAR        APR         MAY          JUN  \\\n",
       "count  30.000000  30.000000  30.000000  30.000000   30.000000    30.000000   \n",
       "mean    2.026667   2.696667   7.163333  36.773333   88.166667   204.880000   \n",
       "std     1.259429   1.960029   3.636072  16.850723   40.632765   273.931535   \n",
       "min     0.300000   0.100000   2.500000  17.700000   31.400000    48.700000   \n",
       "25%     1.325000   0.925000   4.250000  24.075000   59.650000    72.250000   \n",
       "50%     1.750000   2.600000   6.350000  33.750000   78.400000    83.400000   \n",
       "75%     2.400000   4.050000   9.625000  44.875000  106.200000   129.050000   \n",
       "max     5.900000   6.700000  18.500000  89.800000  193.800000  1081.000000   \n",
       "\n",
       "               JUL         AUG         SEP         OCT        NOV        DEC  \n",
       "count    30.000000   30.000000   30.000000   30.000000  30.000000  30.000000  \n",
       "mean    280.700000  209.256667  164.076667  143.356667  44.350000  11.170000  \n",
       "std     374.960968  232.682348   64.369069   34.699406  16.686661   5.248458  \n",
       "min      49.300000   58.900000   99.500000   93.500000  20.800000   4.500000  \n",
       "25%      76.550000   87.525000  125.125000  116.450000  30.725000   7.000000  \n",
       "50%      97.650000  109.950000  148.000000  142.850000  44.750000   9.850000  \n",
       "75%     200.525000  166.000000  178.650000  157.550000  54.075000  14.750000  \n",
       "max    1371.600000  902.200000  404.900000  236.900000  82.000000  24.300000  "
      ]
     },
     "execution_count": 84,
     "metadata": {},
     "output_type": "execute_result"
    }
   ],
   "source": [
    "data_kar.describe()"
   ]
  },
  {
   "cell_type": "code",
   "execution_count": 85,
   "metadata": {
    "collapsed": false
   },
   "outputs": [
    {
     "data": {
      "text/plain": [
       "<matplotlib.text.Text at 0x7fdf0206d910>"
      ]
     },
     "execution_count": 85,
     "metadata": {},
     "output_type": "execute_result"
    },
    {
     "data": {
      "image/png": "[encoded data removed]",
      "text/plain": [
       "<matplotlib.figure.Figure at 0x7fdf04787790>"
      ]
     },
     "metadata": {},
     "output_type": "display_data"
    }
   ],
   "source": [
    "# Let us create the axes plot obect and use set_ylable and set_title methods\n",
    "#data_kar.plot?\n",
    "ax = data_kar.describe().T.plot(colormap=plt.cm.Accent_r ,figsize=(12,6),grid=True)\n",
    "ax.set_ylabel(\"rain fall(mm)\",fontdict={'size':12})\n",
    "ax.set_title(\"Rail fall in Karnata(1951-2000)\",fontdict={'size':12})"
   ]
  },
  {
   "cell_type": "markdown",
   "metadata": {
    "collapsed": true
   },
   "source": [
    "### Using default values while reading csv file"
   ]
  },
  {
   "cell_type": "code",
   "execution_count": 86,
   "metadata": {
    "collapsed": false
   },
   "outputs": [
    {
     "name": "stdout",
     "output_type": "stream",
     "text": [
      "        GLOBAL Land-Ocean Temperature Index in 0.01 degrees Celsius   base period: 1951-1980\r\n",
      "\r\n",
      "                    sources:  GHCN-v3 1880-04/2015 + SST: ERSST 1880-04/2015\r\n",
      "                    using elimination of outliers and homogeneity adjustment\r\n",
      "                    Notes: 1950 DJF = Dec 1949 - Feb 1950 ;  ***** = missing\r\n",
      "\r\n",
      "                                                                     AnnMean\r\n",
      "Year   Jan  Feb  Mar  Apr  May  Jun  Jul  Aug  Sep  Oct  Nov  Dec    J-D D-N    DJF  MAM  JJA  SON  Year\r\n",
      "1880   -34  -27  -22  -30  -16  -24  -19  -12  -20  -19  -16  -21    -22 ***   ****  -23  -18  -18  1880\r\n",
      "1881   -13  -16   -2   -3   -3  -27  -12   -8  -18  -23  -28  -18    -14 -14    -17   -3  -15  -23  1881\r\n"
     ]
    }
   ],
   "source": [
    "# let us look at a bit complicated csv file and see how we can use all of the options\n",
    "# available with read_csv method\n",
    "!head -10 GLB.Ts+dSST.txt"
   ]
  },
  {
   "cell_type": "code",
   "execution_count": 87,
   "metadata": {
    "collapsed": false
   },
   "outputs": [],
   "source": [
    "#pd.read_csv?\n",
    "required_columns = [\"Year\",\"Jan\",\"Feb\",\"Mar\",\"Apr\",\"May\",\"Jun\",\"Jul\",\"Aug\",\"Sep\",\"Oct\",\"Nov\",\"Dec\"]\n",
    "glb_temp_df = pd.read_csv(\"GLB.Ts+dSST.txt\",skiprows=7,usecols=required_columns,\n",
    "                      skip_footer=12,engine='python',sep=\"\\s+\",na_values=['****','***'],\n",
    "                      index_col=0\n",
    "                      )"
   ]
  },
  {
   "cell_type": "code",
   "execution_count": 88,
   "metadata": {
    "collapsed": false
   },
   "outputs": [
    {
     "data": {
      "text/html": [
       "<div>\n",
       "<table border=\"1\" class=\"dataframe\">\n",
       "  <thead>\n",
       "    <tr style=\"text-align: right;\">\n",
       "      <th></th>\n",
       "      <th>Jan</th>\n",
       "      <th>Feb</th>\n",
       "      <th>Mar</th>\n",
       "      <th>Apr</th>\n",
       "      <th>May</th>\n",
       "      <th>Jun</th>\n",
       "      <th>Jul</th>\n",
       "      <th>Aug</th>\n",
       "      <th>Sep</th>\n",
       "      <th>Oct</th>\n",
       "      <th>Nov</th>\n",
       "      <th>Dec</th>\n",
       "    </tr>\n",
       "    <tr>\n",
       "      <th>Year</th>\n",
       "      <th></th>\n",
       "      <th></th>\n",
       "      <th></th>\n",
       "      <th></th>\n",
       "      <th></th>\n",
       "      <th></th>\n",
       "      <th></th>\n",
       "      <th></th>\n",
       "      <th></th>\n",
       "      <th></th>\n",
       "      <th></th>\n",
       "      <th></th>\n",
       "    </tr>\n",
       "  </thead>\n",
       "  <tbody>\n",
       "    <tr>\n",
       "      <th>1880</th>\n",
       "      <td>-34</td>\n",
       "      <td>-27</td>\n",
       "      <td>-22</td>\n",
       "      <td>-30</td>\n",
       "      <td>-16</td>\n",
       "      <td>-24</td>\n",
       "      <td>-19</td>\n",
       "      <td>-12</td>\n",
       "      <td>-20</td>\n",
       "      <td>-19</td>\n",
       "      <td>-16</td>\n",
       "      <td>-21</td>\n",
       "    </tr>\n",
       "    <tr>\n",
       "      <th>1881</th>\n",
       "      <td>-13</td>\n",
       "      <td>-16</td>\n",
       "      <td>-2</td>\n",
       "      <td>-3</td>\n",
       "      <td>-3</td>\n",
       "      <td>-27</td>\n",
       "      <td>-12</td>\n",
       "      <td>-8</td>\n",
       "      <td>-18</td>\n",
       "      <td>-23</td>\n",
       "      <td>-28</td>\n",
       "      <td>-18</td>\n",
       "    </tr>\n",
       "    <tr>\n",
       "      <th>1882</th>\n",
       "      <td>3</td>\n",
       "      <td>4</td>\n",
       "      <td>-2</td>\n",
       "      <td>-24</td>\n",
       "      <td>-20</td>\n",
       "      <td>-32</td>\n",
       "      <td>-27</td>\n",
       "      <td>-11</td>\n",
       "      <td>-11</td>\n",
       "      <td>-25</td>\n",
       "      <td>-25</td>\n",
       "      <td>-37</td>\n",
       "    </tr>\n",
       "    <tr>\n",
       "      <th>1883</th>\n",
       "      <td>-38</td>\n",
       "      <td>-38</td>\n",
       "      <td>-12</td>\n",
       "      <td>-20</td>\n",
       "      <td>-20</td>\n",
       "      <td>-8</td>\n",
       "      <td>-3</td>\n",
       "      <td>-13</td>\n",
       "      <td>-19</td>\n",
       "      <td>-19</td>\n",
       "      <td>-28</td>\n",
       "      <td>-21</td>\n",
       "    </tr>\n",
       "    <tr>\n",
       "      <th>1884</th>\n",
       "      <td>-20</td>\n",
       "      <td>-14</td>\n",
       "      <td>-31</td>\n",
       "      <td>-36</td>\n",
       "      <td>-33</td>\n",
       "      <td>-36</td>\n",
       "      <td>-31</td>\n",
       "      <td>-24</td>\n",
       "      <td>-29</td>\n",
       "      <td>-25</td>\n",
       "      <td>-29</td>\n",
       "      <td>-25</td>\n",
       "    </tr>\n",
       "  </tbody>\n",
       "</table>\n",
       "</div>"
      ],
      "text/plain": [
       "      Jan  Feb  Mar  Apr  May  Jun  Jul  Aug  Sep  Oct  Nov  Dec\n",
       "Year                                                            \n",
       "1880  -34  -27  -22  -30  -16  -24  -19  -12  -20  -19  -16  -21\n",
       "1881  -13  -16   -2   -3   -3  -27  -12   -8  -18  -23  -28  -18\n",
       "1882    3    4   -2  -24  -20  -32  -27  -11  -11  -25  -25  -37\n",
       "1883  -38  -38  -12  -20  -20   -8   -3  -13  -19  -19  -28  -21\n",
       "1884  -20  -14  -31  -36  -33  -36  -31  -24  -29  -25  -29  -25"
      ]
     },
     "execution_count": 88,
     "metadata": {},
     "output_type": "execute_result"
    }
   ],
   "source": [
    "glb_temp_df.head()"
   ]
  },
  {
   "cell_type": "code",
   "execution_count": 89,
   "metadata": {
    "collapsed": false
   },
   "outputs": [
    {
     "data": {
      "text/html": [
       "<div>\n",
       "<table border=\"1\" class=\"dataframe\">\n",
       "  <thead>\n",
       "    <tr style=\"text-align: right;\">\n",
       "      <th></th>\n",
       "      <th>Jan</th>\n",
       "      <th>Feb</th>\n",
       "      <th>Mar</th>\n",
       "      <th>Apr</th>\n",
       "      <th>May</th>\n",
       "      <th>Jun</th>\n",
       "      <th>Jul</th>\n",
       "      <th>Aug</th>\n",
       "      <th>Sep</th>\n",
       "      <th>Oct</th>\n",
       "      <th>Nov</th>\n",
       "      <th>Dec</th>\n",
       "    </tr>\n",
       "    <tr>\n",
       "      <th>Year</th>\n",
       "      <th></th>\n",
       "      <th></th>\n",
       "      <th></th>\n",
       "      <th></th>\n",
       "      <th></th>\n",
       "      <th></th>\n",
       "      <th></th>\n",
       "      <th></th>\n",
       "      <th></th>\n",
       "      <th></th>\n",
       "      <th></th>\n",
       "      <th></th>\n",
       "    </tr>\n",
       "  </thead>\n",
       "  <tbody>\n",
       "    <tr>\n",
       "      <th>Year</th>\n",
       "      <td>Jan</td>\n",
       "      <td>Feb</td>\n",
       "      <td>Mar</td>\n",
       "      <td>Apr</td>\n",
       "      <td>May</td>\n",
       "      <td>Jun</td>\n",
       "      <td>Jul</td>\n",
       "      <td>Aug</td>\n",
       "      <td>Sep</td>\n",
       "      <td>Oct</td>\n",
       "      <td>Nov</td>\n",
       "      <td>Dec</td>\n",
       "    </tr>\n",
       "    <tr>\n",
       "      <th>Year</th>\n",
       "      <td>Jan</td>\n",
       "      <td>Feb</td>\n",
       "      <td>Mar</td>\n",
       "      <td>Apr</td>\n",
       "      <td>May</td>\n",
       "      <td>Jun</td>\n",
       "      <td>Jul</td>\n",
       "      <td>Aug</td>\n",
       "      <td>Sep</td>\n",
       "      <td>Oct</td>\n",
       "      <td>Nov</td>\n",
       "      <td>Dec</td>\n",
       "    </tr>\n",
       "    <tr>\n",
       "      <th>Year</th>\n",
       "      <td>Jan</td>\n",
       "      <td>Feb</td>\n",
       "      <td>Mar</td>\n",
       "      <td>Apr</td>\n",
       "      <td>May</td>\n",
       "      <td>Jun</td>\n",
       "      <td>Jul</td>\n",
       "      <td>Aug</td>\n",
       "      <td>Sep</td>\n",
       "      <td>Oct</td>\n",
       "      <td>Nov</td>\n",
       "      <td>Dec</td>\n",
       "    </tr>\n",
       "    <tr>\n",
       "      <th>Year</th>\n",
       "      <td>Jan</td>\n",
       "      <td>Feb</td>\n",
       "      <td>Mar</td>\n",
       "      <td>Apr</td>\n",
       "      <td>May</td>\n",
       "      <td>Jun</td>\n",
       "      <td>Jul</td>\n",
       "      <td>Aug</td>\n",
       "      <td>Sep</td>\n",
       "      <td>Oct</td>\n",
       "      <td>Nov</td>\n",
       "      <td>Dec</td>\n",
       "    </tr>\n",
       "    <tr>\n",
       "      <th>Year</th>\n",
       "      <td>Jan</td>\n",
       "      <td>Feb</td>\n",
       "      <td>Mar</td>\n",
       "      <td>Apr</td>\n",
       "      <td>May</td>\n",
       "      <td>Jun</td>\n",
       "      <td>Jul</td>\n",
       "      <td>Aug</td>\n",
       "      <td>Sep</td>\n",
       "      <td>Oct</td>\n",
       "      <td>Nov</td>\n",
       "      <td>Dec</td>\n",
       "    </tr>\n",
       "    <tr>\n",
       "      <th>Year</th>\n",
       "      <td>Jan</td>\n",
       "      <td>Feb</td>\n",
       "      <td>Mar</td>\n",
       "      <td>Apr</td>\n",
       "      <td>May</td>\n",
       "      <td>Jun</td>\n",
       "      <td>Jul</td>\n",
       "      <td>Aug</td>\n",
       "      <td>Sep</td>\n",
       "      <td>Oct</td>\n",
       "      <td>Nov</td>\n",
       "      <td>Dec</td>\n",
       "    </tr>\n",
       "  </tbody>\n",
       "</table>\n",
       "</div>"
      ],
      "text/plain": [
       "      Jan  Feb  Mar  Apr  May  Jun  Jul  Aug  Sep  Oct  Nov  Dec\n",
       "Year                                                            \n",
       "Year  Jan  Feb  Mar  Apr  May  Jun  Jul  Aug  Sep  Oct  Nov  Dec\n",
       "Year  Jan  Feb  Mar  Apr  May  Jun  Jul  Aug  Sep  Oct  Nov  Dec\n",
       "Year  Jan  Feb  Mar  Apr  May  Jun  Jul  Aug  Sep  Oct  Nov  Dec\n",
       "Year  Jan  Feb  Mar  Apr  May  Jun  Jul  Aug  Sep  Oct  Nov  Dec\n",
       "Year  Jan  Feb  Mar  Apr  May  Jun  Jul  Aug  Sep  Oct  Nov  Dec\n",
       "Year  Jan  Feb  Mar  Apr  May  Jun  Jul  Aug  Sep  Oct  Nov  Dec"
      ]
     },
     "execution_count": 89,
     "metadata": {},
     "output_type": "execute_result"
    }
   ],
   "source": [
    "# there are headers in between the data sets. Let us remove these headers from the file\n",
    "# please note that index can have duplicates\n",
    "glb_temp_df.loc[\"Year\"]"
   ]
  },
  {
   "cell_type": "code",
   "execution_count": 90,
   "metadata": {
    "collapsed": false
   },
   "outputs": [
    {
     "data": {
      "text/plain": [
       "(136, 12)"
      ]
     },
     "execution_count": 90,
     "metadata": {},
     "output_type": "execute_result"
    }
   ],
   "source": [
    "glb_temp_df = glb_temp_df[glb_temp_df[\"Jan\"] != \"Jan\"]\n",
    "glb_temp_df.shape"
   ]
  },
  {
   "cell_type": "code",
   "execution_count": 91,
   "metadata": {
    "collapsed": false
   },
   "outputs": [
    {
     "data": {
      "text/plain": [
       "Index([u'1880', u'1881', u'1882', u'1883', u'1884', u'1885', u'1886', u'1887',\n",
       "       u'1888', u'1889',\n",
       "       ...\n",
       "       u'2006', u'2007', u'2008', u'2009', u'2010', u'2011', u'2012', u'2013',\n",
       "       u'2014', u'2015'],\n",
       "      dtype='object', name=u'Year', length=136)"
      ]
     },
     "execution_count": 91,
     "metadata": {},
     "output_type": "execute_result"
    }
   ],
   "source": [
    "glb_temp_df.index"
   ]
  },
  {
   "cell_type": "code",
   "execution_count": 92,
   "metadata": {
    "collapsed": false
   },
   "outputs": [
    {
     "data": {
      "text/html": [
       "<div>\n",
       "<table border=\"1\" class=\"dataframe\">\n",
       "  <thead>\n",
       "    <tr style=\"text-align: right;\">\n",
       "      <th></th>\n",
       "      <th>Jan</th>\n",
       "      <th>Feb</th>\n",
       "      <th>Mar</th>\n",
       "      <th>Apr</th>\n",
       "      <th>May</th>\n",
       "      <th>Jun</th>\n",
       "      <th>Jul</th>\n",
       "      <th>Aug</th>\n",
       "      <th>Sep</th>\n",
       "      <th>Oct</th>\n",
       "      <th>Nov</th>\n",
       "      <th>Dec</th>\n",
       "    </tr>\n",
       "    <tr>\n",
       "      <th>Year</th>\n",
       "      <th></th>\n",
       "      <th></th>\n",
       "      <th></th>\n",
       "      <th></th>\n",
       "      <th></th>\n",
       "      <th></th>\n",
       "      <th></th>\n",
       "      <th></th>\n",
       "      <th></th>\n",
       "      <th></th>\n",
       "      <th></th>\n",
       "      <th></th>\n",
       "    </tr>\n",
       "  </thead>\n",
       "  <tbody>\n",
       "    <tr>\n",
       "      <th>2011</th>\n",
       "      <td>45</td>\n",
       "      <td>44</td>\n",
       "      <td>57</td>\n",
       "      <td>60</td>\n",
       "      <td>47</td>\n",
       "      <td>54</td>\n",
       "      <td>70</td>\n",
       "      <td>69</td>\n",
       "      <td>52</td>\n",
       "      <td>60</td>\n",
       "      <td>50</td>\n",
       "      <td>48</td>\n",
       "    </tr>\n",
       "    <tr>\n",
       "      <th>2012</th>\n",
       "      <td>38</td>\n",
       "      <td>43</td>\n",
       "      <td>52</td>\n",
       "      <td>62</td>\n",
       "      <td>71</td>\n",
       "      <td>59</td>\n",
       "      <td>50</td>\n",
       "      <td>56</td>\n",
       "      <td>68</td>\n",
       "      <td>73</td>\n",
       "      <td>69</td>\n",
       "      <td>46</td>\n",
       "    </tr>\n",
       "    <tr>\n",
       "      <th>2013</th>\n",
       "      <td>62</td>\n",
       "      <td>52</td>\n",
       "      <td>60</td>\n",
       "      <td>48</td>\n",
       "      <td>56</td>\n",
       "      <td>61</td>\n",
       "      <td>53</td>\n",
       "      <td>61</td>\n",
       "      <td>73</td>\n",
       "      <td>61</td>\n",
       "      <td>75</td>\n",
       "      <td>61</td>\n",
       "    </tr>\n",
       "    <tr>\n",
       "      <th>2014</th>\n",
       "      <td>68</td>\n",
       "      <td>44</td>\n",
       "      <td>71</td>\n",
       "      <td>72</td>\n",
       "      <td>79</td>\n",
       "      <td>62</td>\n",
       "      <td>50</td>\n",
       "      <td>74</td>\n",
       "      <td>81</td>\n",
       "      <td>78</td>\n",
       "      <td>64</td>\n",
       "      <td>74</td>\n",
       "    </tr>\n",
       "    <tr>\n",
       "      <th>2015</th>\n",
       "      <td>75</td>\n",
       "      <td>80</td>\n",
       "      <td>84</td>\n",
       "      <td>71</td>\n",
       "      <td>NaN</td>\n",
       "      <td>NaN</td>\n",
       "      <td>NaN</td>\n",
       "      <td>NaN</td>\n",
       "      <td>NaN</td>\n",
       "      <td>NaN</td>\n",
       "      <td>NaN</td>\n",
       "      <td>NaN</td>\n",
       "    </tr>\n",
       "  </tbody>\n",
       "</table>\n",
       "</div>"
      ],
      "text/plain": [
       "     Jan Feb Mar Apr  May  Jun  Jul  Aug  Sep  Oct  Nov  Dec\n",
       "Year                                                        \n",
       "2011  45  44  57  60   47   54   70   69   52   60   50   48\n",
       "2012  38  43  52  62   71   59   50   56   68   73   69   46\n",
       "2013  62  52  60  48   56   61   53   61   73   61   75   61\n",
       "2014  68  44  71  72   79   62   50   74   81   78   64   74\n",
       "2015  75  80  84  71  NaN  NaN  NaN  NaN  NaN  NaN  NaN  NaN"
      ]
     },
     "execution_count": 92,
     "metadata": {},
     "output_type": "execute_result"
    }
   ],
   "source": [
    "glb_temp_df.tail()"
   ]
  },
  {
   "cell_type": "code",
   "execution_count": 93,
   "metadata": {
    "collapsed": false
   },
   "outputs": [
    {
     "data": {
      "text/plain": [
       "Jan    object\n",
       "Feb    object\n",
       "Mar    object\n",
       "Apr    object\n",
       "May    object\n",
       "Jun    object\n",
       "Jul    object\n",
       "Aug    object\n",
       "Sep    object\n",
       "Oct    object\n",
       "Nov    object\n",
       "Dec    object\n",
       "dtype: object"
      ]
     },
     "execution_count": 93,
     "metadata": {},
     "output_type": "execute_result"
    }
   ],
   "source": [
    "glb_temp_df.dtypes"
   ]
  },
  {
   "cell_type": "code",
   "execution_count": 94,
   "metadata": {
    "collapsed": false
   },
   "outputs": [],
   "source": [
    "# let us convert the teamperatue columns to int\n",
    "# let fill the NA values with forward fill\n",
    "for col in glb_temp_df.columns:\n",
    "    glb_temp_df[col] = glb_temp_df[col].ffill().astype(np.int64)"
   ]
  },
  {
   "cell_type": "code",
   "execution_count": 95,
   "metadata": {
    "collapsed": false
   },
   "outputs": [
    {
     "data": {
      "text/plain": [
       "Jan    int64\n",
       "Feb    int64\n",
       "Mar    int64\n",
       "Apr    int64\n",
       "May    int64\n",
       "Jun    int64\n",
       "Jul    int64\n",
       "Aug    int64\n",
       "Sep    int64\n",
       "Oct    int64\n",
       "Nov    int64\n",
       "Dec    int64\n",
       "dtype: object"
      ]
     },
     "execution_count": 95,
     "metadata": {},
     "output_type": "execute_result"
    }
   ],
   "source": [
    "glb_temp_df.dtypes"
   ]
  },
  {
   "cell_type": "code",
   "execution_count": 96,
   "metadata": {
    "collapsed": false
   },
   "outputs": [
    {
     "data": {
      "text/html": [
       "<div>\n",
       "<table border=\"1\" class=\"dataframe\">\n",
       "  <thead>\n",
       "    <tr style=\"text-align: right;\">\n",
       "      <th></th>\n",
       "      <th>Jan</th>\n",
       "      <th>Feb</th>\n",
       "      <th>Mar</th>\n",
       "      <th>Apr</th>\n",
       "      <th>May</th>\n",
       "      <th>Jun</th>\n",
       "      <th>Jul</th>\n",
       "      <th>Aug</th>\n",
       "      <th>Sep</th>\n",
       "      <th>Oct</th>\n",
       "      <th>Nov</th>\n",
       "      <th>Dec</th>\n",
       "    </tr>\n",
       "    <tr>\n",
       "      <th>Year</th>\n",
       "      <th></th>\n",
       "      <th></th>\n",
       "      <th></th>\n",
       "      <th></th>\n",
       "      <th></th>\n",
       "      <th></th>\n",
       "      <th></th>\n",
       "      <th></th>\n",
       "      <th></th>\n",
       "      <th></th>\n",
       "      <th></th>\n",
       "      <th></th>\n",
       "    </tr>\n",
       "  </thead>\n",
       "  <tbody>\n",
       "    <tr>\n",
       "      <th>2011</th>\n",
       "      <td>45</td>\n",
       "      <td>44</td>\n",
       "      <td>57</td>\n",
       "      <td>60</td>\n",
       "      <td>47</td>\n",
       "      <td>54</td>\n",
       "      <td>70</td>\n",
       "      <td>69</td>\n",
       "      <td>52</td>\n",
       "      <td>60</td>\n",
       "      <td>50</td>\n",
       "      <td>48</td>\n",
       "    </tr>\n",
       "    <tr>\n",
       "      <th>2012</th>\n",
       "      <td>38</td>\n",
       "      <td>43</td>\n",
       "      <td>52</td>\n",
       "      <td>62</td>\n",
       "      <td>71</td>\n",
       "      <td>59</td>\n",
       "      <td>50</td>\n",
       "      <td>56</td>\n",
       "      <td>68</td>\n",
       "      <td>73</td>\n",
       "      <td>69</td>\n",
       "      <td>46</td>\n",
       "    </tr>\n",
       "    <tr>\n",
       "      <th>2013</th>\n",
       "      <td>62</td>\n",
       "      <td>52</td>\n",
       "      <td>60</td>\n",
       "      <td>48</td>\n",
       "      <td>56</td>\n",
       "      <td>61</td>\n",
       "      <td>53</td>\n",
       "      <td>61</td>\n",
       "      <td>73</td>\n",
       "      <td>61</td>\n",
       "      <td>75</td>\n",
       "      <td>61</td>\n",
       "    </tr>\n",
       "    <tr>\n",
       "      <th>2014</th>\n",
       "      <td>68</td>\n",
       "      <td>44</td>\n",
       "      <td>71</td>\n",
       "      <td>72</td>\n",
       "      <td>79</td>\n",
       "      <td>62</td>\n",
       "      <td>50</td>\n",
       "      <td>74</td>\n",
       "      <td>81</td>\n",
       "      <td>78</td>\n",
       "      <td>64</td>\n",
       "      <td>74</td>\n",
       "    </tr>\n",
       "    <tr>\n",
       "      <th>2015</th>\n",
       "      <td>75</td>\n",
       "      <td>80</td>\n",
       "      <td>84</td>\n",
       "      <td>71</td>\n",
       "      <td>79</td>\n",
       "      <td>62</td>\n",
       "      <td>50</td>\n",
       "      <td>74</td>\n",
       "      <td>81</td>\n",
       "      <td>78</td>\n",
       "      <td>64</td>\n",
       "      <td>74</td>\n",
       "    </tr>\n",
       "  </tbody>\n",
       "</table>\n",
       "</div>"
      ],
      "text/plain": [
       "      Jan  Feb  Mar  Apr  May  Jun  Jul  Aug  Sep  Oct  Nov  Dec\n",
       "Year                                                            \n",
       "2011   45   44   57   60   47   54   70   69   52   60   50   48\n",
       "2012   38   43   52   62   71   59   50   56   68   73   69   46\n",
       "2013   62   52   60   48   56   61   53   61   73   61   75   61\n",
       "2014   68   44   71   72   79   62   50   74   81   78   64   74\n",
       "2015   75   80   84   71   79   62   50   74   81   78   64   74"
      ]
     },
     "execution_count": 96,
     "metadata": {},
     "output_type": "execute_result"
    }
   ],
   "source": [
    "glb_temp_df.tail()"
   ]
  },
  {
   "cell_type": "code",
   "execution_count": 97,
   "metadata": {
    "collapsed": false
   },
   "outputs": [
    {
     "data": {
      "text/plain": [
       "Year\n",
       "1880   -21.666667\n",
       "1881   -14.250000\n",
       "1882   -17.250000\n",
       "1883   -19.916667\n",
       "1884   -27.750000\n",
       "dtype: float64"
      ]
     },
     "execution_count": 97,
     "metadata": {},
     "output_type": "execute_result"
    }
   ],
   "source": [
    "# mean temp by year\n",
    "glb_temp_df.mean(axis=1).head()"
   ]
  },
  {
   "cell_type": "code",
   "execution_count": 98,
   "metadata": {
    "collapsed": false
   },
   "outputs": [
    {
     "data": {
      "text/plain": [
       "Jan   -1.411765\n",
       "Feb   -0.161765\n",
       "Mar    1.294118\n",
       "Apr   -0.823529\n",
       "May   -1.455882\n",
       "dtype: float64"
      ]
     },
     "execution_count": 98,
     "metadata": {},
     "output_type": "execute_result"
    }
   ],
   "source": [
    "# mean temp by month\n",
    "glb_temp_df.mean(axis=0).head()"
   ]
  },
  {
   "cell_type": "code",
   "execution_count": 99,
   "metadata": {
    "collapsed": false
   },
   "outputs": [
    {
     "data": {
      "text/plain": [
       "<matplotlib.axes._subplots.AxesSubplot at 0x7fdf02106650>"
      ]
     },
     "execution_count": 99,
     "metadata": {},
     "output_type": "execute_result"
    },
    {
     "data": {
      "image/png": "[encoded data removed]",
      "text/plain": [
       "<matplotlib.figure.Figure at 0x7fdf02295fd0>"
      ]
     },
     "metadata": {},
     "output_type": "display_data"
    }
   ],
   "source": [
    "glb_temp_df.mean(axis=0).plot()"
   ]
  },
  {
   "cell_type": "code",
   "execution_count": 100,
   "metadata": {
    "collapsed": false
   },
   "outputs": [
    {
     "data": {
      "text/plain": [
       "<matplotlib.axes._subplots.AxesSubplot at 0x7fdf01fcadd0>"
      ]
     },
     "execution_count": 100,
     "metadata": {},
     "output_type": "execute_result"
    },
    {
     "data": {
      "image/png": "[encoded data removed]",
      "text/plain": [
       "<matplotlib.figure.Figure at 0x7fdf0191f090>"
      ]
     },
     "metadata": {},
     "output_type": "display_data"
    }
   ],
   "source": [
    "glb_temp_df.mean(axis=1).plot(figsize=(20,4))"
   ]
  },
  {
   "cell_type": "markdown",
   "metadata": {},
   "source": [
    "### Exploring groupby functionality"
   ]
  },
  {
   "cell_type": "code",
   "execution_count": 101,
   "metadata": {
    "collapsed": false
   },
   "outputs": [
    {
     "data": {
      "text/html": [
       "<div>\n",
       "<table border=\"1\" class=\"dataframe\">\n",
       "  <thead>\n",
       "    <tr style=\"text-align: right;\">\n",
       "      <th></th>\n",
       "      <th>STATE/UT</th>\n",
       "      <th>DISTRICT</th>\n",
       "      <th>JAN</th>\n",
       "      <th>FEB</th>\n",
       "      <th>MAR</th>\n",
       "      <th>APR</th>\n",
       "      <th>MAY</th>\n",
       "      <th>JUN</th>\n",
       "      <th>JUL</th>\n",
       "      <th>AUG</th>\n",
       "      <th>SEP</th>\n",
       "      <th>OCT</th>\n",
       "      <th>NOV</th>\n",
       "      <th>DEC</th>\n",
       "      <th>ANNUAL</th>\n",
       "      <th>JAN+FEB</th>\n",
       "      <th>MAM</th>\n",
       "      <th>JJAS</th>\n",
       "      <th>OND</th>\n",
       "    </tr>\n",
       "  </thead>\n",
       "  <tbody>\n",
       "    <tr>\n",
       "      <th>0</th>\n",
       "      <td>ANDAMAN And NICOBAR ISLANDS</td>\n",
       "      <td>NICOBAR</td>\n",
       "      <td>107.3</td>\n",
       "      <td>57.9</td>\n",
       "      <td>65.2</td>\n",
       "      <td>117.0</td>\n",
       "      <td>358.5</td>\n",
       "      <td>295.5</td>\n",
       "      <td>285.0</td>\n",
       "      <td>271.9</td>\n",
       "      <td>354.8</td>\n",
       "      <td>326.0</td>\n",
       "      <td>315.2</td>\n",
       "      <td>250.9</td>\n",
       "      <td>2805.2</td>\n",
       "      <td>165.2</td>\n",
       "      <td>540.7</td>\n",
       "      <td>1207.2</td>\n",
       "      <td>892.1</td>\n",
       "    </tr>\n",
       "    <tr>\n",
       "      <th>1</th>\n",
       "      <td>ANDAMAN And NICOBAR ISLANDS</td>\n",
       "      <td>SOUTH ANDAMAN</td>\n",
       "      <td>43.7</td>\n",
       "      <td>26.0</td>\n",
       "      <td>18.6</td>\n",
       "      <td>90.5</td>\n",
       "      <td>374.4</td>\n",
       "      <td>457.2</td>\n",
       "      <td>421.3</td>\n",
       "      <td>423.1</td>\n",
       "      <td>455.6</td>\n",
       "      <td>301.2</td>\n",
       "      <td>275.8</td>\n",
       "      <td>128.3</td>\n",
       "      <td>3015.7</td>\n",
       "      <td>69.7</td>\n",
       "      <td>483.5</td>\n",
       "      <td>1757.2</td>\n",
       "      <td>705.3</td>\n",
       "    </tr>\n",
       "  </tbody>\n",
       "</table>\n",
       "</div>"
      ],
      "text/plain": [
       "                      STATE/UT       DISTRICT    JAN   FEB   MAR    APR  \\\n",
       "0  ANDAMAN And NICOBAR ISLANDS        NICOBAR  107.3  57.9  65.2  117.0   \n",
       "1  ANDAMAN And NICOBAR ISLANDS  SOUTH ANDAMAN   43.7  26.0  18.6   90.5   \n",
       "\n",
       "     MAY    JUN    JUL    AUG    SEP    OCT    NOV    DEC  ANNUAL  JAN+FEB  \\\n",
       "0  358.5  295.5  285.0  271.9  354.8  326.0  315.2  250.9  2805.2    165.2   \n",
       "1  374.4  457.2  421.3  423.1  455.6  301.2  275.8  128.3  3015.7     69.7   \n",
       "\n",
       "     MAM    JJAS    OND  \n",
       "0  540.7  1207.2  892.1  \n",
       "1  483.5  1757.2  705.3  "
      ]
     },
     "execution_count": 101,
     "metadata": {},
     "output_type": "execute_result"
    }
   ],
   "source": [
    "# Let us take the rain fall data\n",
    "data.head(2)"
   ]
  },
  {
   "cell_type": "code",
   "execution_count": 102,
   "metadata": {
    "collapsed": true
   },
   "outputs": [],
   "source": [
    "# first create the group by object\n",
    "data_gb = data.groupby(\"STATE/UT\")"
   ]
  },
  {
   "cell_type": "code",
   "execution_count": 103,
   "metadata": {
    "collapsed": false
   },
   "outputs": [
    {
     "data": {
      "text/plain": [
       "pandas.core.groupby.DataFrameGroupBy"
      ]
     },
     "execution_count": 103,
     "metadata": {},
     "output_type": "execute_result"
    }
   ],
   "source": [
    "type(data_gb)"
   ]
  },
  {
   "cell_type": "code",
   "execution_count": 104,
   "metadata": {
    "collapsed": false
   },
   "outputs": [
    {
     "data": {
      "text/plain": [
       "34"
      ]
     },
     "execution_count": 104,
     "metadata": {},
     "output_type": "execute_result"
    }
   ],
   "source": [
    "len(data_gb)"
   ]
  },
  {
   "cell_type": "code",
   "execution_count": 105,
   "metadata": {
    "collapsed": false
   },
   "outputs": [
    {
     "data": {
      "text/plain": [
       "34"
      ]
     },
     "execution_count": 105,
     "metadata": {},
     "output_type": "execute_result"
    }
   ],
   "source": [
    "len(data[\"STATE/UT\"].unique())"
   ]
  },
  {
   "cell_type": "code",
   "execution_count": 110,
   "metadata": {
    "collapsed": false
   },
   "outputs": [
    {
     "name": "stdout",
     "output_type": "stream",
     "text": [
      "ANDAMAN And NICOBAR ISLANDS\n",
      "ANDHRA PRADESH\n",
      "ARUNACHAL PRADESH\n",
      "ASSAM\n",
      "BIHAR\n",
      "CHANDIGARH\n",
      "CHATISGARH\n",
      "DADAR NAGAR HAVELI\n",
      "DAMAN AND DUI\n",
      "DELHI\n",
      "GOA\n",
      "GUJARAT\n",
      "HARYANA\n",
      "HIMACHAL\n",
      "JAMMU AND KASHMIR\n",
      "JHARKHAND\n",
      "KARNATAKA\n",
      "KERALA\n",
      "MADHYA PRADESH\n",
      "MAHARASHTRA\n",
      "MANIPUR\n",
      "MEGHALAYA\n",
      "MIZORAM\n",
      "NAGALAND\n",
      "ORISSA\n",
      "PONDICHERRY\n",
      "PUNJAB\n",
      "RAJASTHAN\n",
      "SIKKIM\n",
      "TAMIL NADU\n",
      "TRIPURA\n",
      "UTTAR PRADESH\n",
      "UTTARANCHAL\n",
      "WEST BENGAL\n"
     ]
    }
   ],
   "source": [
    "for name,group in data_gb:\n",
    "    print(name)"
   ]
  },
  {
   "cell_type": "code",
   "execution_count": 111,
   "metadata": {
    "collapsed": false,
    "scrolled": true
   },
   "outputs": [
    {
     "data": {
      "text/plain": [
       "pandas.core.frame.DataFrame"
      ]
     },
     "execution_count": 111,
     "metadata": {},
     "output_type": "execute_result"
    }
   ],
   "source": [
    "#gettig one groups data\n",
    "type(data_gb.get_group(\"KARNATAKA\"))"
   ]
  },
  {
   "cell_type": "code",
   "execution_count": 112,
   "metadata": {
    "collapsed": false
   },
   "outputs": [],
   "source": [
    "data_gb_mean = data_gb.mean()"
   ]
  },
  {
   "cell_type": "code",
   "execution_count": 113,
   "metadata": {
    "collapsed": false
   },
   "outputs": [
    {
     "data": {
      "text/plain": [
       "pandas.core.frame.DataFrame"
      ]
     },
     "execution_count": 113,
     "metadata": {},
     "output_type": "execute_result"
    }
   ],
   "source": [
    "type(data_gb_mean)"
   ]
  },
  {
   "cell_type": "code",
   "execution_count": 114,
   "metadata": {
    "collapsed": false
   },
   "outputs": [
    {
     "data": {
      "text/html": [
       "<div>\n",
       "<table border=\"1\" class=\"dataframe\">\n",
       "  <thead>\n",
       "    <tr style=\"text-align: right;\">\n",
       "      <th></th>\n",
       "      <th>JAN</th>\n",
       "      <th>FEB</th>\n",
       "      <th>MAR</th>\n",
       "      <th>APR</th>\n",
       "      <th>MAY</th>\n",
       "      <th>JUN</th>\n",
       "      <th>JUL</th>\n",
       "      <th>AUG</th>\n",
       "      <th>SEP</th>\n",
       "      <th>OCT</th>\n",
       "      <th>NOV</th>\n",
       "      <th>DEC</th>\n",
       "      <th>ANNUAL</th>\n",
       "      <th>JAN+FEB</th>\n",
       "      <th>MAM</th>\n",
       "      <th>JJAS</th>\n",
       "      <th>OND</th>\n",
       "    </tr>\n",
       "    <tr>\n",
       "      <th>STATE/UT</th>\n",
       "      <th></th>\n",
       "      <th></th>\n",
       "      <th></th>\n",
       "      <th></th>\n",
       "      <th></th>\n",
       "      <th></th>\n",
       "      <th></th>\n",
       "      <th></th>\n",
       "      <th></th>\n",
       "      <th></th>\n",
       "      <th></th>\n",
       "      <th></th>\n",
       "      <th></th>\n",
       "      <th></th>\n",
       "      <th></th>\n",
       "      <th></th>\n",
       "      <th></th>\n",
       "    </tr>\n",
       "  </thead>\n",
       "  <tbody>\n",
       "    <tr>\n",
       "      <th>ANDAMAN And NICOBAR ISLANDS</th>\n",
       "      <td>61.233333</td>\n",
       "      <td>33.266667</td>\n",
       "      <td>30.800000</td>\n",
       "      <td>86.966667</td>\n",
       "      <td>358.833333</td>\n",
       "      <td>418.666667</td>\n",
       "      <td>390.566667</td>\n",
       "      <td>385.300000</td>\n",
       "      <td>421.733333</td>\n",
       "      <td>301.1</td>\n",
       "      <td>263.200000</td>\n",
       "      <td>159.733333</td>\n",
       "      <td>2911.400000</td>\n",
       "      <td>94.500000</td>\n",
       "      <td>476.600000</td>\n",
       "      <td>1616.266667</td>\n",
       "      <td>724.033333</td>\n",
       "    </tr>\n",
       "    <tr>\n",
       "      <th>ANDHRA PRADESH</th>\n",
       "      <td>6.321739</td>\n",
       "      <td>7.352174</td>\n",
       "      <td>10.095652</td>\n",
       "      <td>19.873913</td>\n",
       "      <td>48.765217</td>\n",
       "      <td>114.369565</td>\n",
       "      <td>185.365217</td>\n",
       "      <td>179.426087</td>\n",
       "      <td>160.373913</td>\n",
       "      <td>138.6</td>\n",
       "      <td>58.965217</td>\n",
       "      <td>15.565217</td>\n",
       "      <td>945.073913</td>\n",
       "      <td>13.673913</td>\n",
       "      <td>78.734783</td>\n",
       "      <td>639.534783</td>\n",
       "      <td>213.130435</td>\n",
       "    </tr>\n",
       "  </tbody>\n",
       "</table>\n",
       "</div>"
      ],
      "text/plain": [
       "                                   JAN        FEB        MAR        APR  \\\n",
       "STATE/UT                                                                  \n",
       "ANDAMAN And NICOBAR ISLANDS  61.233333  33.266667  30.800000  86.966667   \n",
       "ANDHRA PRADESH                6.321739   7.352174  10.095652  19.873913   \n",
       "\n",
       "                                    MAY         JUN         JUL         AUG  \\\n",
       "STATE/UT                                                                      \n",
       "ANDAMAN And NICOBAR ISLANDS  358.833333  418.666667  390.566667  385.300000   \n",
       "ANDHRA PRADESH                48.765217  114.369565  185.365217  179.426087   \n",
       "\n",
       "                                    SEP    OCT         NOV         DEC  \\\n",
       "STATE/UT                                                                 \n",
       "ANDAMAN And NICOBAR ISLANDS  421.733333  301.1  263.200000  159.733333   \n",
       "ANDHRA PRADESH               160.373913  138.6   58.965217   15.565217   \n",
       "\n",
       "                                  ANNUAL    JAN+FEB         MAM         JJAS  \\\n",
       "STATE/UT                                                                       \n",
       "ANDAMAN And NICOBAR ISLANDS  2911.400000  94.500000  476.600000  1616.266667   \n",
       "ANDHRA PRADESH                945.073913  13.673913   78.734783   639.534783   \n",
       "\n",
       "                                    OND  \n",
       "STATE/UT                                 \n",
       "ANDAMAN And NICOBAR ISLANDS  724.033333  \n",
       "ANDHRA PRADESH               213.130435  "
      ]
     },
     "execution_count": 114,
     "metadata": {},
     "output_type": "execute_result"
    }
   ],
   "source": [
    "data_gb_mean.head(2)"
   ]
  },
  {
   "cell_type": "code",
   "execution_count": 116,
   "metadata": {
    "collapsed": false
   },
   "outputs": [
    {
     "data": {
      "image/png": "[encoded data removed]",
      "text/plain": [
       "<matplotlib.figure.Figure at 0x7fdf0185eb10>"
      ]
     },
     "metadata": {},
     "output_type": "display_data"
    }
   ],
   "source": [
    "months_q1 = [\"JAN\",\"FEB\",\"MAR\"]\n",
    "months_q2 = [\"APR\",\"MAY\",\"JUN\"]\n",
    "months_q3 = [\"JUL\",\"AUG\",\"SEP\"]\n",
    "months_q4 = [\"OCT\",\"NOV\",\"DEC\"]\n",
    "#months = [\"MAR\",\"JUN\",\"SEP\",\"DEC\"]\n",
    "ax= data_gb[months_q4].sum().plot(figsize=(20,8),kind='bar',subplots=True,legend=False,ylim=(0,6500))"
   ]
  },
  {
   "cell_type": "code",
   "execution_count": 117,
   "metadata": {
    "collapsed": false
   },
   "outputs": [],
   "source": [
    "data_gb_quarter = data_gb.sum()"
   ]
  },
  {
   "cell_type": "code",
   "execution_count": 118,
   "metadata": {
    "collapsed": false
   },
   "outputs": [],
   "source": [
    "quarters = {'Q1':months_q1,'Q2':months_q2,'Q3':months_q3,'Q4':months_q4}\n",
    "for quarter in quarters:\n",
    "    #print quarters[quarter]\n",
    "    data_gb_quarter[quarter] = (data_gb_quarter[quarters[quarter]]).mean(axis=1)"
   ]
  },
  {
   "cell_type": "code",
   "execution_count": 119,
   "metadata": {
    "collapsed": false
   },
   "outputs": [
    {
     "data": {
      "text/html": [
       "<div>\n",
       "<table border=\"1\" class=\"dataframe\">\n",
       "  <thead>\n",
       "    <tr style=\"text-align: right;\">\n",
       "      <th></th>\n",
       "      <th>Q1</th>\n",
       "      <th>Q2</th>\n",
       "      <th>Q3</th>\n",
       "      <th>Q4</th>\n",
       "    </tr>\n",
       "    <tr>\n",
       "      <th>STATE/UT</th>\n",
       "      <th></th>\n",
       "      <th></th>\n",
       "      <th></th>\n",
       "      <th></th>\n",
       "    </tr>\n",
       "  </thead>\n",
       "  <tbody>\n",
       "    <tr>\n",
       "      <th>ANDAMAN And NICOBAR ISLANDS</th>\n",
       "      <td>125.300000</td>\n",
       "      <td>864.466667</td>\n",
       "      <td>1197.600000</td>\n",
       "      <td>724.033333</td>\n",
       "    </tr>\n",
       "    <tr>\n",
       "      <th>ANDHRA PRADESH</th>\n",
       "      <td>182.233333</td>\n",
       "      <td>1403.066667</td>\n",
       "      <td>4026.266667</td>\n",
       "      <td>1634.000000</td>\n",
       "    </tr>\n",
       "    <tr>\n",
       "      <th>ARUNACHAL PRADESH</th>\n",
       "      <td>1664.000000</td>\n",
       "      <td>5689.633333</td>\n",
       "      <td>6894.166667</td>\n",
       "      <td>1364.866667</td>\n",
       "    </tr>\n",
       "    <tr>\n",
       "      <th>ASSAM</th>\n",
       "      <td>1126.900000</td>\n",
       "      <td>8822.900000</td>\n",
       "      <td>10584.133333</td>\n",
       "      <td>1555.300000</td>\n",
       "    </tr>\n",
       "    <tr>\n",
       "      <th>BIHAR</th>\n",
       "      <td>408.966667</td>\n",
       "      <td>3006.066667</td>\n",
       "      <td>10813.500000</td>\n",
       "      <td>978.500000</td>\n",
       "    </tr>\n",
       "  </tbody>\n",
       "</table>\n",
       "</div>"
      ],
      "text/plain": [
       "                                      Q1           Q2            Q3  \\\n",
       "STATE/UT                                                              \n",
       "ANDAMAN And NICOBAR ISLANDS   125.300000   864.466667   1197.600000   \n",
       "ANDHRA PRADESH                182.233333  1403.066667   4026.266667   \n",
       "ARUNACHAL PRADESH            1664.000000  5689.633333   6894.166667   \n",
       "ASSAM                        1126.900000  8822.900000  10584.133333   \n",
       "BIHAR                         408.966667  3006.066667  10813.500000   \n",
       "\n",
       "                                      Q4  \n",
       "STATE/UT                                  \n",
       "ANDAMAN And NICOBAR ISLANDS   724.033333  \n",
       "ANDHRA PRADESH               1634.000000  \n",
       "ARUNACHAL PRADESH            1364.866667  \n",
       "ASSAM                        1555.300000  \n",
       "BIHAR                         978.500000  "
      ]
     },
     "execution_count": 119,
     "metadata": {},
     "output_type": "execute_result"
    }
   ],
   "source": [
    "data_gb_quarter[['Q1','Q2','Q3','Q4']].head()"
   ]
  },
  {
   "cell_type": "code",
   "execution_count": 120,
   "metadata": {
    "collapsed": false
   },
   "outputs": [
    {
     "data": {
      "image/png": "[encoded data removed]",
      "text/plain": [
       "<matplotlib.figure.Figure at 0x7fdf0160a5d0>"
      ]
     },
     "metadata": {},
     "output_type": "display_data"
    }
   ],
   "source": [
    "ax = data_gb_quarter[['Q1','Q2','Q3','Q4']].plot(kind='bar',figsize=(16,6))"
   ]
  },
  {
   "cell_type": "code",
   "execution_count": null,
   "metadata": {
    "collapsed": true
   },
   "outputs": [],
   "source": []
  }
 ],
 "metadata": {
  "kernelspec": {
   "display_name": "Python 2",
   "language": "python",
   "name": "python2"
  },
  "language_info": {
   "codemirror_mode": {
    "name": "ipython",
    "version": 2
   },
   "file_extension": ".py",
   "mimetype": "text/x-python",
   "name": "python",
   "nbconvert_exporter": "python",
   "pygments_lexer": "ipython2",
   "version": "2.7.11"
  }
 },
 "nbformat": 4,
 "nbformat_minor": 0
}
